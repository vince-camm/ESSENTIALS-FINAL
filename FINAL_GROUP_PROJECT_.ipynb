{
  "nbformat": 4,
  "nbformat_minor": 0,
  "metadata": {
    "colab": {
      "provenance": [],
      "include_colab_link": true
    },
    "kernelspec": {
      "name": "python3",
      "display_name": "Python 3"
    },
    "language_info": {
      "name": "python"
    }
  },
  "cells": [
    {
      "cell_type": "markdown",
      "metadata": {
        "id": "view-in-github",
        "colab_type": "text"
      },
      "source": [
        "<a href=\"https://colab.research.google.com/github/vince-camm/ESSENTIALS-FINAL/blob/main/FINAL_GROUP_PROJECT_.ipynb\" target=\"_parent\"><img src=\"https://colab.research.google.com/assets/colab-badge.svg\" alt=\"Open In Colab\"/></a>"
      ]
    },
    {
      "cell_type": "markdown",
      "source": [
        "## Final Take-Home Project\n",
        "Vincent Cammisa\n",
        "Zoey Wilkins\n",
        "Daniel Laedon"
      ],
      "metadata": {
        "id": "bDhyQarlC4v9"
      }
    },
    {
      "cell_type": "markdown",
      "source": [
        "##(1) Data Description and Preparation\n",
        "## (A)\n",
        " Write one or two paragraphs describing your data set. Please make sure you\n",
        "- The dataset contains comprehensive information on player attributes and wages for 3,900 professional football players from the top six leagues, with data extracted from the game FM22 and accurate as of 2022. This dataset provides a valuable resource for analyzing and predicting player wages based on various factors. Key variables include player attributes such as Age, Club, and Position, alongside other indicators. By leveraging this data, it is possible to explore how specific quantitative and categorical variables influence wage levels, uncovering patterns and insights into the financial dynamics of professional football.\n",
        "LINK:https://www.kaggle.com/datasets/ultimus/football-wages-prediction"
      ],
      "metadata": {
        "id": "moS7Vt8-1QdH"
      }
    },
    {
      "cell_type": "code",
      "execution_count": 1,
      "metadata": {
        "id": "U6iggFAkzqvK"
      },
      "outputs": [],
      "source": [
        "import numpy as np\n",
        "import pandas as pd\n",
        "from matplotlib import pyplot as plt\n",
        "import seaborn as sns\n",
        "from sklearn.model_selection import train_test_split\n",
        "from sklearn.neighbors import KNeighborsRegressor\n",
        "from sklearn.metrics import mean_squared_error\n",
        "import statsmodels.api as sm\n",
        "import statsmodels.formula.api as smf"
      ]
    },
    {
      "cell_type": "markdown",
      "source": [
        "## B)\n",
        "Create a pandas DataFrame containing only the response variable and the 3 quantitative variables you have selected. Address any missing values in your DataFrame by either removing them (if they are not very many) or by using an imputation method. Briefly explain your choice.\n",
        "\n",
        "- There are no missing variables in this dataset so imputation or dropping variables were not neccessary"
      ],
      "metadata": {
        "id": "MG0_SD2AF8ej"
      }
    },
    {
      "cell_type": "code",
      "source": [
        "from google.colab import drive\n",
        "drive.mount('/content/drive')\n",
        "!cp \"/content/drive/My Drive/SalaryPrediction.csv\" .\n",
        "\n",
        "df = pd.read_csv(\"SalaryPrediction.csv\")"
      ],
      "metadata": {
        "colab": {
          "base_uri": "https://localhost:8080/"
        },
        "id": "PQia54RaGhFD",
        "outputId": "a5f19349-e0d7-47b7-8d57-89de23ecd528"
      },
      "execution_count": 2,
      "outputs": [
        {
          "output_type": "stream",
          "name": "stdout",
          "text": [
            "Mounted at /content/drive\n"
          ]
        }
      ]
    },
    {
      "cell_type": "code",
      "source": [
        "df"
      ],
      "metadata": {
        "colab": {
          "base_uri": "https://localhost:8080/",
          "height": 419
        },
        "id": "-TkgIeouGMVI",
        "outputId": "dbab223a-fa99-42ef-beb7-c89d0e3ce8ad"
      },
      "execution_count": 3,
      "outputs": [
        {
          "output_type": "execute_result",
          "data": {
            "text/plain": [
              "            Wage  Age       Club             League Nation    Position  Apps  \\\n",
              "0     46,427,000   23        PSG  Ligue 1 Uber Eats    FRA     Forward   190   \n",
              "1     42,125,000   30        PSG  Ligue 1 Uber Eats    BRA   Midfilder   324   \n",
              "2     34,821,000   35        PSG  Ligue 1 Uber Eats    ARG     Forward   585   \n",
              "3     19,959,000   31  R. Madrid            La Liga    BEL     Forward   443   \n",
              "4     19,500,000   31    Man UFC     Premier League    ESP  Goalkeeper   480   \n",
              "...          ...  ...        ...                ...    ...         ...   ...   \n",
              "3902       3,400   19       Vigo            La Liga    ESP    Defender     0   \n",
              "3903       3,200   18  Famalicao      Primiera Liga    BRA  Goalkeeper     0   \n",
              "3904       2,900   18       Vigo            La Liga    ESP     Forward     0   \n",
              "3905       2,700   18       Vigo            La Liga    ESP    Defender     0   \n",
              "3906       1,400   18       Vigo            La Liga    ESP    Defender     0   \n",
              "\n",
              "      Caps  \n",
              "0       57  \n",
              "1      119  \n",
              "2      162  \n",
              "3      120  \n",
              "4       45  \n",
              "...    ...  \n",
              "3902     0  \n",
              "3903     0  \n",
              "3904     0  \n",
              "3905     0  \n",
              "3906     0  \n",
              "\n",
              "[3907 rows x 8 columns]"
            ],
            "text/html": [
              "\n",
              "  <div id=\"df-bf7bdd86-9dc6-4b46-91fd-5db33a139fe3\" class=\"colab-df-container\">\n",
              "    <div>\n",
              "<style scoped>\n",
              "    .dataframe tbody tr th:only-of-type {\n",
              "        vertical-align: middle;\n",
              "    }\n",
              "\n",
              "    .dataframe tbody tr th {\n",
              "        vertical-align: top;\n",
              "    }\n",
              "\n",
              "    .dataframe thead th {\n",
              "        text-align: right;\n",
              "    }\n",
              "</style>\n",
              "<table border=\"1\" class=\"dataframe\">\n",
              "  <thead>\n",
              "    <tr style=\"text-align: right;\">\n",
              "      <th></th>\n",
              "      <th>Wage</th>\n",
              "      <th>Age</th>\n",
              "      <th>Club</th>\n",
              "      <th>League</th>\n",
              "      <th>Nation</th>\n",
              "      <th>Position</th>\n",
              "      <th>Apps</th>\n",
              "      <th>Caps</th>\n",
              "    </tr>\n",
              "  </thead>\n",
              "  <tbody>\n",
              "    <tr>\n",
              "      <th>0</th>\n",
              "      <td>46,427,000</td>\n",
              "      <td>23</td>\n",
              "      <td>PSG</td>\n",
              "      <td>Ligue 1 Uber Eats</td>\n",
              "      <td>FRA</td>\n",
              "      <td>Forward</td>\n",
              "      <td>190</td>\n",
              "      <td>57</td>\n",
              "    </tr>\n",
              "    <tr>\n",
              "      <th>1</th>\n",
              "      <td>42,125,000</td>\n",
              "      <td>30</td>\n",
              "      <td>PSG</td>\n",
              "      <td>Ligue 1 Uber Eats</td>\n",
              "      <td>BRA</td>\n",
              "      <td>Midfilder</td>\n",
              "      <td>324</td>\n",
              "      <td>119</td>\n",
              "    </tr>\n",
              "    <tr>\n",
              "      <th>2</th>\n",
              "      <td>34,821,000</td>\n",
              "      <td>35</td>\n",
              "      <td>PSG</td>\n",
              "      <td>Ligue 1 Uber Eats</td>\n",
              "      <td>ARG</td>\n",
              "      <td>Forward</td>\n",
              "      <td>585</td>\n",
              "      <td>162</td>\n",
              "    </tr>\n",
              "    <tr>\n",
              "      <th>3</th>\n",
              "      <td>19,959,000</td>\n",
              "      <td>31</td>\n",
              "      <td>R. Madrid</td>\n",
              "      <td>La Liga</td>\n",
              "      <td>BEL</td>\n",
              "      <td>Forward</td>\n",
              "      <td>443</td>\n",
              "      <td>120</td>\n",
              "    </tr>\n",
              "    <tr>\n",
              "      <th>4</th>\n",
              "      <td>19,500,000</td>\n",
              "      <td>31</td>\n",
              "      <td>Man UFC</td>\n",
              "      <td>Premier League</td>\n",
              "      <td>ESP</td>\n",
              "      <td>Goalkeeper</td>\n",
              "      <td>480</td>\n",
              "      <td>45</td>\n",
              "    </tr>\n",
              "    <tr>\n",
              "      <th>...</th>\n",
              "      <td>...</td>\n",
              "      <td>...</td>\n",
              "      <td>...</td>\n",
              "      <td>...</td>\n",
              "      <td>...</td>\n",
              "      <td>...</td>\n",
              "      <td>...</td>\n",
              "      <td>...</td>\n",
              "    </tr>\n",
              "    <tr>\n",
              "      <th>3902</th>\n",
              "      <td>3,400</td>\n",
              "      <td>19</td>\n",
              "      <td>Vigo</td>\n",
              "      <td>La Liga</td>\n",
              "      <td>ESP</td>\n",
              "      <td>Defender</td>\n",
              "      <td>0</td>\n",
              "      <td>0</td>\n",
              "    </tr>\n",
              "    <tr>\n",
              "      <th>3903</th>\n",
              "      <td>3,200</td>\n",
              "      <td>18</td>\n",
              "      <td>Famalicao</td>\n",
              "      <td>Primiera Liga</td>\n",
              "      <td>BRA</td>\n",
              "      <td>Goalkeeper</td>\n",
              "      <td>0</td>\n",
              "      <td>0</td>\n",
              "    </tr>\n",
              "    <tr>\n",
              "      <th>3904</th>\n",
              "      <td>2,900</td>\n",
              "      <td>18</td>\n",
              "      <td>Vigo</td>\n",
              "      <td>La Liga</td>\n",
              "      <td>ESP</td>\n",
              "      <td>Forward</td>\n",
              "      <td>0</td>\n",
              "      <td>0</td>\n",
              "    </tr>\n",
              "    <tr>\n",
              "      <th>3905</th>\n",
              "      <td>2,700</td>\n",
              "      <td>18</td>\n",
              "      <td>Vigo</td>\n",
              "      <td>La Liga</td>\n",
              "      <td>ESP</td>\n",
              "      <td>Defender</td>\n",
              "      <td>0</td>\n",
              "      <td>0</td>\n",
              "    </tr>\n",
              "    <tr>\n",
              "      <th>3906</th>\n",
              "      <td>1,400</td>\n",
              "      <td>18</td>\n",
              "      <td>Vigo</td>\n",
              "      <td>La Liga</td>\n",
              "      <td>ESP</td>\n",
              "      <td>Defender</td>\n",
              "      <td>0</td>\n",
              "      <td>0</td>\n",
              "    </tr>\n",
              "  </tbody>\n",
              "</table>\n",
              "<p>3907 rows × 8 columns</p>\n",
              "</div>\n",
              "    <div class=\"colab-df-buttons\">\n",
              "\n",
              "  <div class=\"colab-df-container\">\n",
              "    <button class=\"colab-df-convert\" onclick=\"convertToInteractive('df-bf7bdd86-9dc6-4b46-91fd-5db33a139fe3')\"\n",
              "            title=\"Convert this dataframe to an interactive table.\"\n",
              "            style=\"display:none;\">\n",
              "\n",
              "  <svg xmlns=\"http://www.w3.org/2000/svg\" height=\"24px\" viewBox=\"0 -960 960 960\">\n",
              "    <path d=\"M120-120v-720h720v720H120Zm60-500h600v-160H180v160Zm220 220h160v-160H400v160Zm0 220h160v-160H400v160ZM180-400h160v-160H180v160Zm440 0h160v-160H620v160ZM180-180h160v-160H180v160Zm440 0h160v-160H620v160Z\"/>\n",
              "  </svg>\n",
              "    </button>\n",
              "\n",
              "  <style>\n",
              "    .colab-df-container {\n",
              "      display:flex;\n",
              "      gap: 12px;\n",
              "    }\n",
              "\n",
              "    .colab-df-convert {\n",
              "      background-color: #E8F0FE;\n",
              "      border: none;\n",
              "      border-radius: 50%;\n",
              "      cursor: pointer;\n",
              "      display: none;\n",
              "      fill: #1967D2;\n",
              "      height: 32px;\n",
              "      padding: 0 0 0 0;\n",
              "      width: 32px;\n",
              "    }\n",
              "\n",
              "    .colab-df-convert:hover {\n",
              "      background-color: #E2EBFA;\n",
              "      box-shadow: 0px 1px 2px rgba(60, 64, 67, 0.3), 0px 1px 3px 1px rgba(60, 64, 67, 0.15);\n",
              "      fill: #174EA6;\n",
              "    }\n",
              "\n",
              "    .colab-df-buttons div {\n",
              "      margin-bottom: 4px;\n",
              "    }\n",
              "\n",
              "    [theme=dark] .colab-df-convert {\n",
              "      background-color: #3B4455;\n",
              "      fill: #D2E3FC;\n",
              "    }\n",
              "\n",
              "    [theme=dark] .colab-df-convert:hover {\n",
              "      background-color: #434B5C;\n",
              "      box-shadow: 0px 1px 3px 1px rgba(0, 0, 0, 0.15);\n",
              "      filter: drop-shadow(0px 1px 2px rgba(0, 0, 0, 0.3));\n",
              "      fill: #FFFFFF;\n",
              "    }\n",
              "  </style>\n",
              "\n",
              "    <script>\n",
              "      const buttonEl =\n",
              "        document.querySelector('#df-bf7bdd86-9dc6-4b46-91fd-5db33a139fe3 button.colab-df-convert');\n",
              "      buttonEl.style.display =\n",
              "        google.colab.kernel.accessAllowed ? 'block' : 'none';\n",
              "\n",
              "      async function convertToInteractive(key) {\n",
              "        const element = document.querySelector('#df-bf7bdd86-9dc6-4b46-91fd-5db33a139fe3');\n",
              "        const dataTable =\n",
              "          await google.colab.kernel.invokeFunction('convertToInteractive',\n",
              "                                                    [key], {});\n",
              "        if (!dataTable) return;\n",
              "\n",
              "        const docLinkHtml = 'Like what you see? Visit the ' +\n",
              "          '<a target=\"_blank\" href=https://colab.research.google.com/notebooks/data_table.ipynb>data table notebook</a>'\n",
              "          + ' to learn more about interactive tables.';\n",
              "        element.innerHTML = '';\n",
              "        dataTable['output_type'] = 'display_data';\n",
              "        await google.colab.output.renderOutput(dataTable, element);\n",
              "        const docLink = document.createElement('div');\n",
              "        docLink.innerHTML = docLinkHtml;\n",
              "        element.appendChild(docLink);\n",
              "      }\n",
              "    </script>\n",
              "  </div>\n",
              "\n",
              "\n",
              "<div id=\"df-51844577-3200-4021-8fe4-8793ae917a34\">\n",
              "  <button class=\"colab-df-quickchart\" onclick=\"quickchart('df-51844577-3200-4021-8fe4-8793ae917a34')\"\n",
              "            title=\"Suggest charts\"\n",
              "            style=\"display:none;\">\n",
              "\n",
              "<svg xmlns=\"http://www.w3.org/2000/svg\" height=\"24px\"viewBox=\"0 0 24 24\"\n",
              "     width=\"24px\">\n",
              "    <g>\n",
              "        <path d=\"M19 3H5c-1.1 0-2 .9-2 2v14c0 1.1.9 2 2 2h14c1.1 0 2-.9 2-2V5c0-1.1-.9-2-2-2zM9 17H7v-7h2v7zm4 0h-2V7h2v10zm4 0h-2v-4h2v4z\"/>\n",
              "    </g>\n",
              "</svg>\n",
              "  </button>\n",
              "\n",
              "<style>\n",
              "  .colab-df-quickchart {\n",
              "      --bg-color: #E8F0FE;\n",
              "      --fill-color: #1967D2;\n",
              "      --hover-bg-color: #E2EBFA;\n",
              "      --hover-fill-color: #174EA6;\n",
              "      --disabled-fill-color: #AAA;\n",
              "      --disabled-bg-color: #DDD;\n",
              "  }\n",
              "\n",
              "  [theme=dark] .colab-df-quickchart {\n",
              "      --bg-color: #3B4455;\n",
              "      --fill-color: #D2E3FC;\n",
              "      --hover-bg-color: #434B5C;\n",
              "      --hover-fill-color: #FFFFFF;\n",
              "      --disabled-bg-color: #3B4455;\n",
              "      --disabled-fill-color: #666;\n",
              "  }\n",
              "\n",
              "  .colab-df-quickchart {\n",
              "    background-color: var(--bg-color);\n",
              "    border: none;\n",
              "    border-radius: 50%;\n",
              "    cursor: pointer;\n",
              "    display: none;\n",
              "    fill: var(--fill-color);\n",
              "    height: 32px;\n",
              "    padding: 0;\n",
              "    width: 32px;\n",
              "  }\n",
              "\n",
              "  .colab-df-quickchart:hover {\n",
              "    background-color: var(--hover-bg-color);\n",
              "    box-shadow: 0 1px 2px rgba(60, 64, 67, 0.3), 0 1px 3px 1px rgba(60, 64, 67, 0.15);\n",
              "    fill: var(--button-hover-fill-color);\n",
              "  }\n",
              "\n",
              "  .colab-df-quickchart-complete:disabled,\n",
              "  .colab-df-quickchart-complete:disabled:hover {\n",
              "    background-color: var(--disabled-bg-color);\n",
              "    fill: var(--disabled-fill-color);\n",
              "    box-shadow: none;\n",
              "  }\n",
              "\n",
              "  .colab-df-spinner {\n",
              "    border: 2px solid var(--fill-color);\n",
              "    border-color: transparent;\n",
              "    border-bottom-color: var(--fill-color);\n",
              "    animation:\n",
              "      spin 1s steps(1) infinite;\n",
              "  }\n",
              "\n",
              "  @keyframes spin {\n",
              "    0% {\n",
              "      border-color: transparent;\n",
              "      border-bottom-color: var(--fill-color);\n",
              "      border-left-color: var(--fill-color);\n",
              "    }\n",
              "    20% {\n",
              "      border-color: transparent;\n",
              "      border-left-color: var(--fill-color);\n",
              "      border-top-color: var(--fill-color);\n",
              "    }\n",
              "    30% {\n",
              "      border-color: transparent;\n",
              "      border-left-color: var(--fill-color);\n",
              "      border-top-color: var(--fill-color);\n",
              "      border-right-color: var(--fill-color);\n",
              "    }\n",
              "    40% {\n",
              "      border-color: transparent;\n",
              "      border-right-color: var(--fill-color);\n",
              "      border-top-color: var(--fill-color);\n",
              "    }\n",
              "    60% {\n",
              "      border-color: transparent;\n",
              "      border-right-color: var(--fill-color);\n",
              "    }\n",
              "    80% {\n",
              "      border-color: transparent;\n",
              "      border-right-color: var(--fill-color);\n",
              "      border-bottom-color: var(--fill-color);\n",
              "    }\n",
              "    90% {\n",
              "      border-color: transparent;\n",
              "      border-bottom-color: var(--fill-color);\n",
              "    }\n",
              "  }\n",
              "</style>\n",
              "\n",
              "  <script>\n",
              "    async function quickchart(key) {\n",
              "      const quickchartButtonEl =\n",
              "        document.querySelector('#' + key + ' button');\n",
              "      quickchartButtonEl.disabled = true;  // To prevent multiple clicks.\n",
              "      quickchartButtonEl.classList.add('colab-df-spinner');\n",
              "      try {\n",
              "        const charts = await google.colab.kernel.invokeFunction(\n",
              "            'suggestCharts', [key], {});\n",
              "      } catch (error) {\n",
              "        console.error('Error during call to suggestCharts:', error);\n",
              "      }\n",
              "      quickchartButtonEl.classList.remove('colab-df-spinner');\n",
              "      quickchartButtonEl.classList.add('colab-df-quickchart-complete');\n",
              "    }\n",
              "    (() => {\n",
              "      let quickchartButtonEl =\n",
              "        document.querySelector('#df-51844577-3200-4021-8fe4-8793ae917a34 button');\n",
              "      quickchartButtonEl.style.display =\n",
              "        google.colab.kernel.accessAllowed ? 'block' : 'none';\n",
              "    })();\n",
              "  </script>\n",
              "</div>\n",
              "\n",
              "  <div id=\"id_e708b53e-b25a-4037-b18e-8af13d516987\">\n",
              "    <style>\n",
              "      .colab-df-generate {\n",
              "        background-color: #E8F0FE;\n",
              "        border: none;\n",
              "        border-radius: 50%;\n",
              "        cursor: pointer;\n",
              "        display: none;\n",
              "        fill: #1967D2;\n",
              "        height: 32px;\n",
              "        padding: 0 0 0 0;\n",
              "        width: 32px;\n",
              "      }\n",
              "\n",
              "      .colab-df-generate:hover {\n",
              "        background-color: #E2EBFA;\n",
              "        box-shadow: 0px 1px 2px rgba(60, 64, 67, 0.3), 0px 1px 3px 1px rgba(60, 64, 67, 0.15);\n",
              "        fill: #174EA6;\n",
              "      }\n",
              "\n",
              "      [theme=dark] .colab-df-generate {\n",
              "        background-color: #3B4455;\n",
              "        fill: #D2E3FC;\n",
              "      }\n",
              "\n",
              "      [theme=dark] .colab-df-generate:hover {\n",
              "        background-color: #434B5C;\n",
              "        box-shadow: 0px 1px 3px 1px rgba(0, 0, 0, 0.15);\n",
              "        filter: drop-shadow(0px 1px 2px rgba(0, 0, 0, 0.3));\n",
              "        fill: #FFFFFF;\n",
              "      }\n",
              "    </style>\n",
              "    <button class=\"colab-df-generate\" onclick=\"generateWithVariable('df')\"\n",
              "            title=\"Generate code using this dataframe.\"\n",
              "            style=\"display:none;\">\n",
              "\n",
              "  <svg xmlns=\"http://www.w3.org/2000/svg\" height=\"24px\"viewBox=\"0 0 24 24\"\n",
              "       width=\"24px\">\n",
              "    <path d=\"M7,19H8.4L18.45,9,17,7.55,7,17.6ZM5,21V16.75L18.45,3.32a2,2,0,0,1,2.83,0l1.4,1.43a1.91,1.91,0,0,1,.58,1.4,1.91,1.91,0,0,1-.58,1.4L9.25,21ZM18.45,9,17,7.55Zm-12,3A5.31,5.31,0,0,0,4.9,8.1,5.31,5.31,0,0,0,1,6.5,5.31,5.31,0,0,0,4.9,4.9,5.31,5.31,0,0,0,6.5,1,5.31,5.31,0,0,0,8.1,4.9,5.31,5.31,0,0,0,12,6.5,5.46,5.46,0,0,0,6.5,12Z\"/>\n",
              "  </svg>\n",
              "    </button>\n",
              "    <script>\n",
              "      (() => {\n",
              "      const buttonEl =\n",
              "        document.querySelector('#id_e708b53e-b25a-4037-b18e-8af13d516987 button.colab-df-generate');\n",
              "      buttonEl.style.display =\n",
              "        google.colab.kernel.accessAllowed ? 'block' : 'none';\n",
              "\n",
              "      buttonEl.onclick = () => {\n",
              "        google.colab.notebook.generateWithVariable('df');\n",
              "      }\n",
              "      })();\n",
              "    </script>\n",
              "  </div>\n",
              "\n",
              "    </div>\n",
              "  </div>\n"
            ],
            "application/vnd.google.colaboratory.intrinsic+json": {
              "type": "dataframe",
              "variable_name": "df",
              "summary": "{\n  \"name\": \"df\",\n  \"rows\": 3907,\n  \"fields\": [\n    {\n      \"column\": \"Wage\",\n      \"properties\": {\n        \"dtype\": \"category\",\n        \"num_unique_values\": 1055,\n        \"samples\": [\n          \"1,892,000\",\n          \"183,000\",\n          \"167,000\"\n        ],\n        \"semantic_type\": \"\",\n        \"description\": \"\"\n      }\n    },\n    {\n      \"column\": \"Age\",\n      \"properties\": {\n        \"dtype\": \"number\",\n        \"std\": 4,\n        \"min\": 18,\n        \"max\": 41,\n        \"num_unique_values\": 24,\n        \"samples\": [\n          34,\n          33,\n          23\n        ],\n        \"semantic_type\": \"\",\n        \"description\": \"\"\n      }\n    },\n    {\n      \"column\": \"Club\",\n      \"properties\": {\n        \"dtype\": \"category\",\n        \"num_unique_values\": 116,\n        \"samples\": [\n          \"Cremonese\",\n          \"Liverpool\",\n          \"Fiorentina\"\n        ],\n        \"semantic_type\": \"\",\n        \"description\": \"\"\n      }\n    },\n    {\n      \"column\": \"League\",\n      \"properties\": {\n        \"dtype\": \"category\",\n        \"num_unique_values\": 6,\n        \"samples\": [\n          \"Ligue 1 Uber Eats\",\n          \"La Liga\",\n          \"Primiera Liga\"\n        ],\n        \"semantic_type\": \"\",\n        \"description\": \"\"\n      }\n    },\n    {\n      \"column\": \"Nation\",\n      \"properties\": {\n        \"dtype\": \"category\",\n        \"num_unique_values\": 114,\n        \"samples\": [\n          \"LUX\",\n          \"ESP\",\n          \"CTA\"\n        ],\n        \"semantic_type\": \"\",\n        \"description\": \"\"\n      }\n    },\n    {\n      \"column\": \"Position\",\n      \"properties\": {\n        \"dtype\": \"category\",\n        \"num_unique_values\": 4,\n        \"samples\": [\n          \"Midfilder\",\n          \"Defender\",\n          \"Forward\"\n        ],\n        \"semantic_type\": \"\",\n        \"description\": \"\"\n      }\n    },\n    {\n      \"column\": \"Apps\",\n      \"properties\": {\n        \"dtype\": \"number\",\n        \"std\": 131,\n        \"min\": 0,\n        \"max\": 715,\n        \"num_unique_values\": 505,\n        \"samples\": [\n          250,\n          119,\n          17\n        ],\n        \"semantic_type\": \"\",\n        \"description\": \"\"\n      }\n    },\n    {\n      \"column\": \"Caps\",\n      \"properties\": {\n        \"dtype\": \"number\",\n        \"std\": 20,\n        \"min\": 0,\n        \"max\": 180,\n        \"num_unique_values\": 123,\n        \"samples\": [\n          53,\n          58,\n          116\n        ],\n        \"semantic_type\": \"\",\n        \"description\": \"\"\n      }\n    }\n  ]\n}"
            }
          },
          "metadata": {},
          "execution_count": 3
        }
      ]
    },
    {
      "cell_type": "code",
      "source": [
        "wage = df[['Wage','Age', 'Apps', 'Caps']]"
      ],
      "metadata": {
        "id": "h2QY6crFHX9N"
      },
      "execution_count": 4,
      "outputs": []
    },
    {
      "cell_type": "code",
      "source": [
        "wage"
      ],
      "metadata": {
        "colab": {
          "base_uri": "https://localhost:8080/",
          "height": 419
        },
        "id": "OviTy4WqHbdt",
        "outputId": "a18397c1-ce9c-49cd-c790-45d9d2e8d18c"
      },
      "execution_count": 5,
      "outputs": [
        {
          "output_type": "execute_result",
          "data": {
            "text/plain": [
              "            Wage  Age  Apps  Caps\n",
              "0     46,427,000   23   190    57\n",
              "1     42,125,000   30   324   119\n",
              "2     34,821,000   35   585   162\n",
              "3     19,959,000   31   443   120\n",
              "4     19,500,000   31   480    45\n",
              "...          ...  ...   ...   ...\n",
              "3902       3,400   19     0     0\n",
              "3903       3,200   18     0     0\n",
              "3904       2,900   18     0     0\n",
              "3905       2,700   18     0     0\n",
              "3906       1,400   18     0     0\n",
              "\n",
              "[3907 rows x 4 columns]"
            ],
            "text/html": [
              "\n",
              "  <div id=\"df-3a0ea381-7102-4d96-ab06-fa0ed809b712\" class=\"colab-df-container\">\n",
              "    <div>\n",
              "<style scoped>\n",
              "    .dataframe tbody tr th:only-of-type {\n",
              "        vertical-align: middle;\n",
              "    }\n",
              "\n",
              "    .dataframe tbody tr th {\n",
              "        vertical-align: top;\n",
              "    }\n",
              "\n",
              "    .dataframe thead th {\n",
              "        text-align: right;\n",
              "    }\n",
              "</style>\n",
              "<table border=\"1\" class=\"dataframe\">\n",
              "  <thead>\n",
              "    <tr style=\"text-align: right;\">\n",
              "      <th></th>\n",
              "      <th>Wage</th>\n",
              "      <th>Age</th>\n",
              "      <th>Apps</th>\n",
              "      <th>Caps</th>\n",
              "    </tr>\n",
              "  </thead>\n",
              "  <tbody>\n",
              "    <tr>\n",
              "      <th>0</th>\n",
              "      <td>46,427,000</td>\n",
              "      <td>23</td>\n",
              "      <td>190</td>\n",
              "      <td>57</td>\n",
              "    </tr>\n",
              "    <tr>\n",
              "      <th>1</th>\n",
              "      <td>42,125,000</td>\n",
              "      <td>30</td>\n",
              "      <td>324</td>\n",
              "      <td>119</td>\n",
              "    </tr>\n",
              "    <tr>\n",
              "      <th>2</th>\n",
              "      <td>34,821,000</td>\n",
              "      <td>35</td>\n",
              "      <td>585</td>\n",
              "      <td>162</td>\n",
              "    </tr>\n",
              "    <tr>\n",
              "      <th>3</th>\n",
              "      <td>19,959,000</td>\n",
              "      <td>31</td>\n",
              "      <td>443</td>\n",
              "      <td>120</td>\n",
              "    </tr>\n",
              "    <tr>\n",
              "      <th>4</th>\n",
              "      <td>19,500,000</td>\n",
              "      <td>31</td>\n",
              "      <td>480</td>\n",
              "      <td>45</td>\n",
              "    </tr>\n",
              "    <tr>\n",
              "      <th>...</th>\n",
              "      <td>...</td>\n",
              "      <td>...</td>\n",
              "      <td>...</td>\n",
              "      <td>...</td>\n",
              "    </tr>\n",
              "    <tr>\n",
              "      <th>3902</th>\n",
              "      <td>3,400</td>\n",
              "      <td>19</td>\n",
              "      <td>0</td>\n",
              "      <td>0</td>\n",
              "    </tr>\n",
              "    <tr>\n",
              "      <th>3903</th>\n",
              "      <td>3,200</td>\n",
              "      <td>18</td>\n",
              "      <td>0</td>\n",
              "      <td>0</td>\n",
              "    </tr>\n",
              "    <tr>\n",
              "      <th>3904</th>\n",
              "      <td>2,900</td>\n",
              "      <td>18</td>\n",
              "      <td>0</td>\n",
              "      <td>0</td>\n",
              "    </tr>\n",
              "    <tr>\n",
              "      <th>3905</th>\n",
              "      <td>2,700</td>\n",
              "      <td>18</td>\n",
              "      <td>0</td>\n",
              "      <td>0</td>\n",
              "    </tr>\n",
              "    <tr>\n",
              "      <th>3906</th>\n",
              "      <td>1,400</td>\n",
              "      <td>18</td>\n",
              "      <td>0</td>\n",
              "      <td>0</td>\n",
              "    </tr>\n",
              "  </tbody>\n",
              "</table>\n",
              "<p>3907 rows × 4 columns</p>\n",
              "</div>\n",
              "    <div class=\"colab-df-buttons\">\n",
              "\n",
              "  <div class=\"colab-df-container\">\n",
              "    <button class=\"colab-df-convert\" onclick=\"convertToInteractive('df-3a0ea381-7102-4d96-ab06-fa0ed809b712')\"\n",
              "            title=\"Convert this dataframe to an interactive table.\"\n",
              "            style=\"display:none;\">\n",
              "\n",
              "  <svg xmlns=\"http://www.w3.org/2000/svg\" height=\"24px\" viewBox=\"0 -960 960 960\">\n",
              "    <path d=\"M120-120v-720h720v720H120Zm60-500h600v-160H180v160Zm220 220h160v-160H400v160Zm0 220h160v-160H400v160ZM180-400h160v-160H180v160Zm440 0h160v-160H620v160ZM180-180h160v-160H180v160Zm440 0h160v-160H620v160Z\"/>\n",
              "  </svg>\n",
              "    </button>\n",
              "\n",
              "  <style>\n",
              "    .colab-df-container {\n",
              "      display:flex;\n",
              "      gap: 12px;\n",
              "    }\n",
              "\n",
              "    .colab-df-convert {\n",
              "      background-color: #E8F0FE;\n",
              "      border: none;\n",
              "      border-radius: 50%;\n",
              "      cursor: pointer;\n",
              "      display: none;\n",
              "      fill: #1967D2;\n",
              "      height: 32px;\n",
              "      padding: 0 0 0 0;\n",
              "      width: 32px;\n",
              "    }\n",
              "\n",
              "    .colab-df-convert:hover {\n",
              "      background-color: #E2EBFA;\n",
              "      box-shadow: 0px 1px 2px rgba(60, 64, 67, 0.3), 0px 1px 3px 1px rgba(60, 64, 67, 0.15);\n",
              "      fill: #174EA6;\n",
              "    }\n",
              "\n",
              "    .colab-df-buttons div {\n",
              "      margin-bottom: 4px;\n",
              "    }\n",
              "\n",
              "    [theme=dark] .colab-df-convert {\n",
              "      background-color: #3B4455;\n",
              "      fill: #D2E3FC;\n",
              "    }\n",
              "\n",
              "    [theme=dark] .colab-df-convert:hover {\n",
              "      background-color: #434B5C;\n",
              "      box-shadow: 0px 1px 3px 1px rgba(0, 0, 0, 0.15);\n",
              "      filter: drop-shadow(0px 1px 2px rgba(0, 0, 0, 0.3));\n",
              "      fill: #FFFFFF;\n",
              "    }\n",
              "  </style>\n",
              "\n",
              "    <script>\n",
              "      const buttonEl =\n",
              "        document.querySelector('#df-3a0ea381-7102-4d96-ab06-fa0ed809b712 button.colab-df-convert');\n",
              "      buttonEl.style.display =\n",
              "        google.colab.kernel.accessAllowed ? 'block' : 'none';\n",
              "\n",
              "      async function convertToInteractive(key) {\n",
              "        const element = document.querySelector('#df-3a0ea381-7102-4d96-ab06-fa0ed809b712');\n",
              "        const dataTable =\n",
              "          await google.colab.kernel.invokeFunction('convertToInteractive',\n",
              "                                                    [key], {});\n",
              "        if (!dataTable) return;\n",
              "\n",
              "        const docLinkHtml = 'Like what you see? Visit the ' +\n",
              "          '<a target=\"_blank\" href=https://colab.research.google.com/notebooks/data_table.ipynb>data table notebook</a>'\n",
              "          + ' to learn more about interactive tables.';\n",
              "        element.innerHTML = '';\n",
              "        dataTable['output_type'] = 'display_data';\n",
              "        await google.colab.output.renderOutput(dataTable, element);\n",
              "        const docLink = document.createElement('div');\n",
              "        docLink.innerHTML = docLinkHtml;\n",
              "        element.appendChild(docLink);\n",
              "      }\n",
              "    </script>\n",
              "  </div>\n",
              "\n",
              "\n",
              "<div id=\"df-13ba051d-58c7-4d90-8adc-e6edc72d92b6\">\n",
              "  <button class=\"colab-df-quickchart\" onclick=\"quickchart('df-13ba051d-58c7-4d90-8adc-e6edc72d92b6')\"\n",
              "            title=\"Suggest charts\"\n",
              "            style=\"display:none;\">\n",
              "\n",
              "<svg xmlns=\"http://www.w3.org/2000/svg\" height=\"24px\"viewBox=\"0 0 24 24\"\n",
              "     width=\"24px\">\n",
              "    <g>\n",
              "        <path d=\"M19 3H5c-1.1 0-2 .9-2 2v14c0 1.1.9 2 2 2h14c1.1 0 2-.9 2-2V5c0-1.1-.9-2-2-2zM9 17H7v-7h2v7zm4 0h-2V7h2v10zm4 0h-2v-4h2v4z\"/>\n",
              "    </g>\n",
              "</svg>\n",
              "  </button>\n",
              "\n",
              "<style>\n",
              "  .colab-df-quickchart {\n",
              "      --bg-color: #E8F0FE;\n",
              "      --fill-color: #1967D2;\n",
              "      --hover-bg-color: #E2EBFA;\n",
              "      --hover-fill-color: #174EA6;\n",
              "      --disabled-fill-color: #AAA;\n",
              "      --disabled-bg-color: #DDD;\n",
              "  }\n",
              "\n",
              "  [theme=dark] .colab-df-quickchart {\n",
              "      --bg-color: #3B4455;\n",
              "      --fill-color: #D2E3FC;\n",
              "      --hover-bg-color: #434B5C;\n",
              "      --hover-fill-color: #FFFFFF;\n",
              "      --disabled-bg-color: #3B4455;\n",
              "      --disabled-fill-color: #666;\n",
              "  }\n",
              "\n",
              "  .colab-df-quickchart {\n",
              "    background-color: var(--bg-color);\n",
              "    border: none;\n",
              "    border-radius: 50%;\n",
              "    cursor: pointer;\n",
              "    display: none;\n",
              "    fill: var(--fill-color);\n",
              "    height: 32px;\n",
              "    padding: 0;\n",
              "    width: 32px;\n",
              "  }\n",
              "\n",
              "  .colab-df-quickchart:hover {\n",
              "    background-color: var(--hover-bg-color);\n",
              "    box-shadow: 0 1px 2px rgba(60, 64, 67, 0.3), 0 1px 3px 1px rgba(60, 64, 67, 0.15);\n",
              "    fill: var(--button-hover-fill-color);\n",
              "  }\n",
              "\n",
              "  .colab-df-quickchart-complete:disabled,\n",
              "  .colab-df-quickchart-complete:disabled:hover {\n",
              "    background-color: var(--disabled-bg-color);\n",
              "    fill: var(--disabled-fill-color);\n",
              "    box-shadow: none;\n",
              "  }\n",
              "\n",
              "  .colab-df-spinner {\n",
              "    border: 2px solid var(--fill-color);\n",
              "    border-color: transparent;\n",
              "    border-bottom-color: var(--fill-color);\n",
              "    animation:\n",
              "      spin 1s steps(1) infinite;\n",
              "  }\n",
              "\n",
              "  @keyframes spin {\n",
              "    0% {\n",
              "      border-color: transparent;\n",
              "      border-bottom-color: var(--fill-color);\n",
              "      border-left-color: var(--fill-color);\n",
              "    }\n",
              "    20% {\n",
              "      border-color: transparent;\n",
              "      border-left-color: var(--fill-color);\n",
              "      border-top-color: var(--fill-color);\n",
              "    }\n",
              "    30% {\n",
              "      border-color: transparent;\n",
              "      border-left-color: var(--fill-color);\n",
              "      border-top-color: var(--fill-color);\n",
              "      border-right-color: var(--fill-color);\n",
              "    }\n",
              "    40% {\n",
              "      border-color: transparent;\n",
              "      border-right-color: var(--fill-color);\n",
              "      border-top-color: var(--fill-color);\n",
              "    }\n",
              "    60% {\n",
              "      border-color: transparent;\n",
              "      border-right-color: var(--fill-color);\n",
              "    }\n",
              "    80% {\n",
              "      border-color: transparent;\n",
              "      border-right-color: var(--fill-color);\n",
              "      border-bottom-color: var(--fill-color);\n",
              "    }\n",
              "    90% {\n",
              "      border-color: transparent;\n",
              "      border-bottom-color: var(--fill-color);\n",
              "    }\n",
              "  }\n",
              "</style>\n",
              "\n",
              "  <script>\n",
              "    async function quickchart(key) {\n",
              "      const quickchartButtonEl =\n",
              "        document.querySelector('#' + key + ' button');\n",
              "      quickchartButtonEl.disabled = true;  // To prevent multiple clicks.\n",
              "      quickchartButtonEl.classList.add('colab-df-spinner');\n",
              "      try {\n",
              "        const charts = await google.colab.kernel.invokeFunction(\n",
              "            'suggestCharts', [key], {});\n",
              "      } catch (error) {\n",
              "        console.error('Error during call to suggestCharts:', error);\n",
              "      }\n",
              "      quickchartButtonEl.classList.remove('colab-df-spinner');\n",
              "      quickchartButtonEl.classList.add('colab-df-quickchart-complete');\n",
              "    }\n",
              "    (() => {\n",
              "      let quickchartButtonEl =\n",
              "        document.querySelector('#df-13ba051d-58c7-4d90-8adc-e6edc72d92b6 button');\n",
              "      quickchartButtonEl.style.display =\n",
              "        google.colab.kernel.accessAllowed ? 'block' : 'none';\n",
              "    })();\n",
              "  </script>\n",
              "</div>\n",
              "\n",
              "  <div id=\"id_bd98388f-c0a0-4183-8bae-866b73097cd8\">\n",
              "    <style>\n",
              "      .colab-df-generate {\n",
              "        background-color: #E8F0FE;\n",
              "        border: none;\n",
              "        border-radius: 50%;\n",
              "        cursor: pointer;\n",
              "        display: none;\n",
              "        fill: #1967D2;\n",
              "        height: 32px;\n",
              "        padding: 0 0 0 0;\n",
              "        width: 32px;\n",
              "      }\n",
              "\n",
              "      .colab-df-generate:hover {\n",
              "        background-color: #E2EBFA;\n",
              "        box-shadow: 0px 1px 2px rgba(60, 64, 67, 0.3), 0px 1px 3px 1px rgba(60, 64, 67, 0.15);\n",
              "        fill: #174EA6;\n",
              "      }\n",
              "\n",
              "      [theme=dark] .colab-df-generate {\n",
              "        background-color: #3B4455;\n",
              "        fill: #D2E3FC;\n",
              "      }\n",
              "\n",
              "      [theme=dark] .colab-df-generate:hover {\n",
              "        background-color: #434B5C;\n",
              "        box-shadow: 0px 1px 3px 1px rgba(0, 0, 0, 0.15);\n",
              "        filter: drop-shadow(0px 1px 2px rgba(0, 0, 0, 0.3));\n",
              "        fill: #FFFFFF;\n",
              "      }\n",
              "    </style>\n",
              "    <button class=\"colab-df-generate\" onclick=\"generateWithVariable('wage')\"\n",
              "            title=\"Generate code using this dataframe.\"\n",
              "            style=\"display:none;\">\n",
              "\n",
              "  <svg xmlns=\"http://www.w3.org/2000/svg\" height=\"24px\"viewBox=\"0 0 24 24\"\n",
              "       width=\"24px\">\n",
              "    <path d=\"M7,19H8.4L18.45,9,17,7.55,7,17.6ZM5,21V16.75L18.45,3.32a2,2,0,0,1,2.83,0l1.4,1.43a1.91,1.91,0,0,1,.58,1.4,1.91,1.91,0,0,1-.58,1.4L9.25,21ZM18.45,9,17,7.55Zm-12,3A5.31,5.31,0,0,0,4.9,8.1,5.31,5.31,0,0,0,1,6.5,5.31,5.31,0,0,0,4.9,4.9,5.31,5.31,0,0,0,6.5,1,5.31,5.31,0,0,0,8.1,4.9,5.31,5.31,0,0,0,12,6.5,5.46,5.46,0,0,0,6.5,12Z\"/>\n",
              "  </svg>\n",
              "    </button>\n",
              "    <script>\n",
              "      (() => {\n",
              "      const buttonEl =\n",
              "        document.querySelector('#id_bd98388f-c0a0-4183-8bae-866b73097cd8 button.colab-df-generate');\n",
              "      buttonEl.style.display =\n",
              "        google.colab.kernel.accessAllowed ? 'block' : 'none';\n",
              "\n",
              "      buttonEl.onclick = () => {\n",
              "        google.colab.notebook.generateWithVariable('wage');\n",
              "      }\n",
              "      })();\n",
              "    </script>\n",
              "  </div>\n",
              "\n",
              "    </div>\n",
              "  </div>\n"
            ],
            "application/vnd.google.colaboratory.intrinsic+json": {
              "type": "dataframe",
              "variable_name": "wage",
              "summary": "{\n  \"name\": \"wage\",\n  \"rows\": 3907,\n  \"fields\": [\n    {\n      \"column\": \"Wage\",\n      \"properties\": {\n        \"dtype\": \"category\",\n        \"num_unique_values\": 1055,\n        \"samples\": [\n          \"1,892,000\",\n          \"183,000\",\n          \"167,000\"\n        ],\n        \"semantic_type\": \"\",\n        \"description\": \"\"\n      }\n    },\n    {\n      \"column\": \"Age\",\n      \"properties\": {\n        \"dtype\": \"number\",\n        \"std\": 4,\n        \"min\": 18,\n        \"max\": 41,\n        \"num_unique_values\": 24,\n        \"samples\": [\n          34,\n          33,\n          23\n        ],\n        \"semantic_type\": \"\",\n        \"description\": \"\"\n      }\n    },\n    {\n      \"column\": \"Apps\",\n      \"properties\": {\n        \"dtype\": \"number\",\n        \"std\": 131,\n        \"min\": 0,\n        \"max\": 715,\n        \"num_unique_values\": 505,\n        \"samples\": [\n          250,\n          119,\n          17\n        ],\n        \"semantic_type\": \"\",\n        \"description\": \"\"\n      }\n    },\n    {\n      \"column\": \"Caps\",\n      \"properties\": {\n        \"dtype\": \"number\",\n        \"std\": 20,\n        \"min\": 0,\n        \"max\": 180,\n        \"num_unique_values\": 123,\n        \"samples\": [\n          53,\n          58,\n          116\n        ],\n        \"semantic_type\": \"\",\n        \"description\": \"\"\n      }\n    }\n  ]\n}"
            }
          },
          "metadata": {},
          "execution_count": 5
        }
      ]
    },
    {
      "cell_type": "markdown",
      "source": [
        "## (C)\n",
        "Use the normalize function in class to rescale the explanatory variables in the\n",
        "DataFrame in (b) so that they are all between 0 and 1. Verify that it was properly\n",
        "normalized by using the describe() function from the pandas package to calculate\n",
        "the descriptive statistics for each of the quantitative variable in the data set."
      ],
      "metadata": {
        "id": "-aT2mzCOHhAQ"
      }
    },
    {
      "cell_type": "code",
      "source": [
        "def normalize(x):\n",
        "    x_norm = (x - np.min(x)) / (np.max(x) - np.min(x))\n",
        "    return x_norm"
      ],
      "metadata": {
        "id": "lj4Fv1M1Hn3h"
      },
      "execution_count": 6,
      "outputs": []
    },
    {
      "cell_type": "code",
      "source": [
        "wage['Age'] = normalize(wage['Age'])\n",
        "wage['Apps'] = normalize(wage['Apps'])\n",
        "wage['Caps'] = normalize(wage['Caps'])"
      ],
      "metadata": {
        "colab": {
          "base_uri": "https://localhost:8080/"
        },
        "id": "XkXiHNfJHxYz",
        "outputId": "9e5c9d14-7ed6-4791-e66c-6f2741b81c05"
      },
      "execution_count": 7,
      "outputs": [
        {
          "output_type": "stream",
          "name": "stderr",
          "text": [
            "<ipython-input-7-e199dcdc18a0>:1: SettingWithCopyWarning: \n",
            "A value is trying to be set on a copy of a slice from a DataFrame.\n",
            "Try using .loc[row_indexer,col_indexer] = value instead\n",
            "\n",
            "See the caveats in the documentation: https://pandas.pydata.org/pandas-docs/stable/user_guide/indexing.html#returning-a-view-versus-a-copy\n",
            "  wage['Age'] = normalize(wage['Age'])\n",
            "<ipython-input-7-e199dcdc18a0>:2: SettingWithCopyWarning: \n",
            "A value is trying to be set on a copy of a slice from a DataFrame.\n",
            "Try using .loc[row_indexer,col_indexer] = value instead\n",
            "\n",
            "See the caveats in the documentation: https://pandas.pydata.org/pandas-docs/stable/user_guide/indexing.html#returning-a-view-versus-a-copy\n",
            "  wage['Apps'] = normalize(wage['Apps'])\n",
            "<ipython-input-7-e199dcdc18a0>:3: SettingWithCopyWarning: \n",
            "A value is trying to be set on a copy of a slice from a DataFrame.\n",
            "Try using .loc[row_indexer,col_indexer] = value instead\n",
            "\n",
            "See the caveats in the documentation: https://pandas.pydata.org/pandas-docs/stable/user_guide/indexing.html#returning-a-view-versus-a-copy\n",
            "  wage['Caps'] = normalize(wage['Caps'])\n"
          ]
        }
      ]
    },
    {
      "cell_type": "code",
      "source": [
        "print(wage.describe())"
      ],
      "metadata": {
        "colab": {
          "base_uri": "https://localhost:8080/"
        },
        "id": "oB9L4mt0IMuS",
        "outputId": "1921cf1d-97dd-4b95-f338-8698d44504d4"
      },
      "execution_count": 8,
      "outputs": [
        {
          "output_type": "stream",
          "name": "stdout",
          "text": [
            "               Age         Apps         Caps\n",
            "count  3907.000000  3907.000000  3907.000000\n",
            "mean      0.266111     0.195884     0.049592\n",
            "std       0.214593     0.184188     0.113990\n",
            "min       0.000000     0.000000     0.000000\n",
            "25%       0.086957     0.020979     0.000000\n",
            "50%       0.260870     0.160839     0.000000\n",
            "75%       0.434783     0.313986     0.033333\n",
            "max       1.000000     1.000000     1.000000\n"
          ]
        }
      ]
    },
    {
      "cell_type": "markdown",
      "source": [
        "##(D)\n",
        "Split your normalized DataFrame from (c) into a training set and a test set. Use\n",
        "20% of the data for the test set. Set the random state to any two-digit integer. All\n",
        "the models below will be fitted or trained on the training set only."
      ],
      "metadata": {
        "id": "t_cxfmOkIRVE"
      }
    },
    {
      "cell_type": "code",
      "source": [
        "wage['Wage'] = pd.to_numeric(wage['Wage'].str.replace(',', '').str.replace('€', ''))\n",
        "\n",
        "X = wage[['Age', 'Apps', 'Caps']]  # Explanatory variables\n",
        "y = wage['Wage']  # Response variable\n",
        "\n",
        "X_train, X_test, y_train, y_test = train_test_split(X, y, test_size=0.2, random_state=42)"
      ],
      "metadata": {
        "colab": {
          "base_uri": "https://localhost:8080/"
        },
        "id": "E2kI_vDwIXL3",
        "outputId": "97512297-4a18-4ceb-9b16-8878bf7bffc9"
      },
      "execution_count": 9,
      "outputs": [
        {
          "output_type": "stream",
          "name": "stderr",
          "text": [
            "<ipython-input-9-9ba9cb6456f1>:1: SettingWithCopyWarning: \n",
            "A value is trying to be set on a copy of a slice from a DataFrame.\n",
            "Try using .loc[row_indexer,col_indexer] = value instead\n",
            "\n",
            "See the caveats in the documentation: https://pandas.pydata.org/pandas-docs/stable/user_guide/indexing.html#returning-a-view-versus-a-copy\n",
            "  wage['Wage'] = pd.to_numeric(wage['Wage'].str.replace(',', '').str.replace('€', ''))\n"
          ]
        }
      ]
    },
    {
      "cell_type": "markdown",
      "source": [
        "## 2) First-Order Multiple Linear Regression Model\n",
        "\n",
        "## (A)\n",
        "Write a first-order model for the response variable (y) as a function of the three quantitative explanatory variables you selected. (Here, the coefficients are unspecified. Include the error term in the model and state the assumptions.)\n",
        "\n",
        "y = Beta0 + Beta1 * X1 + Beta2 * X2 + Beta3 * X3 + E"
      ],
      "metadata": {
        "id": "FP4HJqwrIlD-"
      }
    },
    {
      "cell_type": "markdown",
      "source": [
        "##(B)\n",
        " Use the scatter matrix() function from the plotly package to create a scatterplot\n",
        "matrix of the variables in your training data from (3) above. Calculate also a correlation matrix showing the correlations between each pair of quantitative variables\n",
        "in your training data set."
      ],
      "metadata": {
        "id": "kb7CVG5OIuRc"
      }
    },
    {
      "cell_type": "code",
      "source": [
        "import plotly.express as px"
      ],
      "metadata": {
        "id": "IsPlbvGlItkd"
      },
      "execution_count": 10,
      "outputs": []
    },
    {
      "cell_type": "code",
      "source": [
        "train_wage = pd.concat([X_train, y_train], axis=1)\n",
        "\n",
        "fig = px.scatter_matrix(train_wage, dimensions=['Age', 'Apps', 'Caps'], color='Wage', title=\"Scatterplot Matrix\")\n",
        "fig.show()\n",
        "\n",
        "# Calculate Correlation Matrix\n",
        "correlation_matrix = train_wage[['Age', 'Apps', 'Caps']].corr()\n",
        "print(correlation_matrix)"
      ],
      "metadata": {
        "colab": {
          "base_uri": "https://localhost:8080/",
          "height": 542
        },
        "id": "8CQjXVY5JgpY",
        "outputId": "5c4a9bd6-5910-498d-fe60-2bfc7f0dc32c"
      },
      "execution_count": 11,
      "outputs": [
        {
          "output_type": "display_data",
          "data": {
            "text/html": [
              "<html>\n",
              "<head><meta charset=\"utf-8\" /></head>\n",
              "<body>\n",
              "    <div>            <script src=\"https://cdnjs.cloudflare.com/ajax/libs/mathjax/2.7.5/MathJax.js?config=TeX-AMS-MML_SVG\"></script><script type=\"text/javascript\">if (window.MathJax && window.MathJax.Hub && window.MathJax.Hub.Config) {window.MathJax.Hub.Config({SVG: {font: \"STIX-Web\"}});}</script>                <script type=\"text/javascript\">window.PlotlyConfig = {MathJaxConfig: 'local'};</script>\n",
              "        <script charset=\"utf-8\" src=\"https://cdn.plot.ly/plotly-2.35.2.min.js\"></script>                <div id=\"6e42664c-f1e3-4916-ae6f-62bb30cb53dc\" class=\"plotly-graph-div\" style=\"height:525px; width:100%;\"></div>            <script type=\"text/javascript\">                                    window.PLOTLYENV=window.PLOTLYENV || {};                                    if (document.getElementById(\"6e42664c-f1e3-4916-ae6f-62bb30cb53dc\")) {                    Plotly.newPlot(                        \"6e42664c-f1e3-4916-ae6f-62bb30cb53dc\",                        [{\"dimensions\":[{\"axis\":{\"matches\":true},\"label\":\"Age\",\"values\":[0.30434782608695654,0.0,0.043478260869565216,0.2608695652173913,0.043478260869565216,0.5652173913043478,0.043478260869565216,0.30434782608695654,0.6086956521739131,0.0,0.34782608695652173,0.13043478260869565,0.391304347826087,0.043478260869565216,0.30434782608695654,0.5217391304347826,0.043478260869565216,0.043478260869565216,0.43478260869565216,0.17391304347826086,0.08695652173913043,0.2608695652173913,0.17391304347826086,0.4782608695652174,0.2608695652173913,0.4782608695652174,0.5217391304347826,0.08695652173913043,0.13043478260869565,0.30434782608695654,0.30434782608695654,0.0,0.21739130434782608,0.4782608695652174,0.043478260869565216,0.2608695652173913,0.782608695652174,0.13043478260869565,0.2608695652173913,0.13043478260869565,0.0,0.0,0.34782608695652173,0.2608695652173913,0.17391304347826086,0.0,0.17391304347826086,0.21739130434782608,0.2608695652173913,0.17391304347826086,0.2608695652173913,0.5217391304347826,0.34782608695652173,0.8260869565217391,0.30434782608695654,0.2608695652173913,0.17391304347826086,0.2608695652173913,0.0,0.7391304347826086,0.0,0.4782608695652174,0.6956521739130435,0.2608695652173913,0.43478260869565216,0.6086956521739131,0.4782608695652174,0.391304347826087,0.08695652173913043,0.13043478260869565,0.34782608695652173,0.21739130434782608,0.043478260869565216,0.21739130434782608,0.08695652173913043,0.21739130434782608,0.08695652173913043,0.0,0.5217391304347826,0.391304347826087,0.0,0.30434782608695654,0.391304347826087,0.0,0.08695652173913043,0.30434782608695654,0.043478260869565216,0.6086956521739131,0.043478260869565216,0.34782608695652173,0.4782608695652174,0.13043478260869565,0.0,0.4782608695652174,0.4782608695652174,0.30434782608695654,0.6956521739130435,0.5652173913043478,1.0,0.5217391304347826,0.2608695652173913,0.30434782608695654,0.043478260869565216,0.0,0.17391304347826086,0.43478260869565216,0.0,0.2608695652173913,0.17391304347826086,0.0,0.13043478260869565,0.2608695652173913,0.043478260869565216,0.30434782608695654,0.43478260869565216,0.4782608695652174,0.391304347826087,0.5217391304347826,0.21739130434782608,0.30434782608695654,0.08695652173913043,0.5217391304347826,0.30434782608695654,0.2608695652173913,0.2608695652173913,0.0,0.0,0.6521739130434783,0.17391304347826086,0.2608695652173913,0.30434782608695654,0.08695652173913043,0.13043478260869565,0.21739130434782608,0.34782608695652173,0.782608695652174,0.391304347826087,0.08695652173913043,0.13043478260869565,0.30434782608695654,0.21739130434782608,0.5217391304347826,0.08695652173913043,0.17391304347826086,0.21739130434782608,0.0,0.5217391304347826,0.43478260869565216,0.7391304347826086,0.34782608695652173,0.6086956521739131,0.0,0.43478260869565216,0.08695652173913043,0.0,0.34782608695652173,0.13043478260869565,0.4782608695652174,0.7391304347826086,0.43478260869565216,0.0,0.6086956521739131,0.30434782608695654,0.6086956521739131,1.0,0.0,0.34782608695652173,0.34782608695652173,0.08695652173913043,0.0,0.0,0.13043478260869565,0.17391304347826086,0.30434782608695654,0.5217391304347826,0.6086956521739131,0.08695652173913043,0.0,0.17391304347826086,0.13043478260869565,0.17391304347826086,0.391304347826087,0.0,0.17391304347826086,0.5217391304347826,0.08695652173913043,0.21739130434782608,0.043478260869565216,0.13043478260869565,0.7391304347826086,0.0,0.0,0.391304347826087,0.5652173913043478,0.21739130434782608,0.6086956521739131,0.30434782608695654,0.043478260869565216,0.43478260869565216,0.34782608695652173,0.5652173913043478,0.4782608695652174,0.6956521739130435,0.391304347826087,0.21739130434782608,0.08695652173913043,0.6521739130434783,0.13043478260869565,0.13043478260869565,0.08695652173913043,0.08695652173913043,0.043478260869565216,0.17391304347826086,0.0,0.8260869565217391,0.2608695652173913,0.043478260869565216,0.13043478260869565,0.2608695652173913,0.0,0.13043478260869565,0.17391304347826086,0.17391304347826086,0.08695652173913043,0.08695652173913043,0.391304347826087,0.4782608695652174,0.0,0.30434782608695654,0.391304347826087,0.21739130434782608,0.6956521739130435,0.4782608695652174,0.17391304347826086,0.4782608695652174,0.30434782608695654,0.6086956521739131,0.0,0.043478260869565216,0.0,0.43478260869565216,0.6086956521739131,0.17391304347826086,0.30434782608695654,0.043478260869565216,0.7391304347826086,0.30434782608695654,0.5217391304347826,0.34782608695652173,0.5652173913043478,0.17391304347826086,0.34782608695652173,0.08695652173913043,0.34782608695652173,0.08695652173913043,0.43478260869565216,0.5652173913043478,0.043478260869565216,0.13043478260869565,0.21739130434782608,0.34782608695652173,0.5217391304347826,0.17391304347826086,0.08695652173913043,0.2608695652173913,0.043478260869565216,0.34782608695652173,0.30434782608695654,0.6086956521739131,0.34782608695652173,0.043478260869565216,0.2608695652173913,0.7391304347826086,0.21739130434782608,0.043478260869565216,0.043478260869565216,0.4782608695652174,0.13043478260869565,0.13043478260869565,0.6086956521739131,0.5652173913043478,0.9130434782608695,0.30434782608695654,0.13043478260869565,0.21739130434782608,0.08695652173913043,0.43478260869565216,0.0,0.8260869565217391,0.21739130434782608,0.30434782608695654,0.2608695652173913,0.5217391304347826,0.0,0.0,0.043478260869565216,0.0,0.0,0.391304347826087,0.0,0.30434782608695654,0.17391304347826086,0.7391304347826086,0.5652173913043478,0.043478260869565216,0.043478260869565216,0.2608695652173913,0.0,0.043478260869565216,0.6086956521739131,0.43478260869565216,0.0,0.2608695652173913,0.08695652173913043,0.17391304347826086,0.21739130434782608,0.043478260869565216,0.13043478260869565,0.08695652173913043,0.13043478260869565,0.13043478260869565,0.6086956521739131,0.6956521739130435,0.043478260869565216,0.2608695652173913,0.391304347826087,0.7391304347826086,0.6956521739130435,0.43478260869565216,0.6956521739130435,0.08695652173913043,0.30434782608695654,0.0,0.6086956521739131,0.2608695652173913,0.0,0.17391304347826086,0.08695652173913043,0.43478260869565216,0.34782608695652173,0.4782608695652174,0.34782608695652173,0.6521739130434783,0.5652173913043478,0.043478260869565216,0.2608695652173913,0.30434782608695654,0.7391304347826086,0.0,0.0,0.043478260869565216,0.0,0.043478260869565216,0.5217391304347826,0.391304347826087,0.21739130434782608,0.391304347826087,0.30434782608695654,0.2608695652173913,0.30434782608695654,0.9130434782608695,0.30434782608695654,0.0,0.0,0.5217391304347826,0.34782608695652173,0.2608695652173913,0.0,0.30434782608695654,0.391304347826087,0.5217391304347826,0.5652173913043478,0.391304347826087,0.6086956521739131,0.0,0.4782608695652174,0.4782608695652174,0.43478260869565216,0.6086956521739131,0.17391304347826086,0.0,0.34782608695652173,0.08695652173913043,0.34782608695652173,0.34782608695652173,0.043478260869565216,0.13043478260869565,0.21739130434782608,0.08695652173913043,0.5217391304347826,0.391304347826087,0.6086956521739131,0.17391304347826086,0.13043478260869565,0.34782608695652173,0.043478260869565216,0.782608695652174,0.30434782608695654,0.08695652173913043,0.2608695652173913,0.08695652173913043,0.6086956521739131,0.2608695652173913,0.34782608695652173,0.2608695652173913,0.30434782608695654,0.5217391304347826,0.08695652173913043,0.5652173913043478,0.21739130434782608,0.0,0.5652173913043478,0.13043478260869565,0.391304347826087,0.043478260869565216,0.391304347826087,0.21739130434782608,0.0,0.043478260869565216,0.0,0.34782608695652173,0.0,0.13043478260869565,0.21739130434782608,0.391304347826087,0.043478260869565216,0.17391304347826086,0.13043478260869565,0.0,0.5217391304347826,0.043478260869565216,0.391304347826087,0.391304347826087,0.08695652173913043,0.13043478260869565,0.391304347826087,0.2608695652173913,0.4782608695652174,0.043478260869565216,0.13043478260869565,0.5217391304347826,0.17391304347826086,0.6086956521739131,0.43478260869565216,0.4782608695652174,0.4782608695652174,0.30434782608695654,0.391304347826087,0.0,0.17391304347826086,0.4782608695652174,0.5652173913043478,0.08695652173913043,0.2608695652173913,0.6086956521739131,0.17391304347826086,0.13043478260869565,0.08695652173913043,0.17391304347826086,0.2608695652173913,0.0,0.13043478260869565,0.2608695652173913,0.043478260869565216,0.5652173913043478,0.30434782608695654,0.5217391304347826,0.391304347826087,0.30434782608695654,0.391304347826087,0.43478260869565216,0.30434782608695654,0.30434782608695654,0.21739130434782608,0.043478260869565216,0.0,0.21739130434782608,0.4782608695652174,0.13043478260869565,0.0,0.0,0.08695652173913043,0.4782608695652174,0.2608695652173913,0.6086956521739131,0.43478260869565216,0.5217391304347826,0.43478260869565216,0.34782608695652173,0.4782608695652174,0.043478260869565216,0.0,0.043478260869565216,0.34782608695652173,0.17391304347826086,0.5652173913043478,0.4782608695652174,0.21739130434782608,0.2608695652173913,0.4782608695652174,0.08695652173913043,0.4782608695652174,0.13043478260869565,0.043478260869565216,0.08695652173913043,0.21739130434782608,0.391304347826087,0.0,0.13043478260869565,0.6521739130434783,0.43478260869565216,0.13043478260869565,0.21739130434782608,0.43478260869565216,0.2608695652173913,0.0,0.17391304347826086,0.2608695652173913,0.5652173913043478,0.13043478260869565,0.7391304347826086,0.2608695652173913,0.0,0.7391304347826086,0.13043478260869565,0.17391304347826086,0.13043478260869565,0.34782608695652173,0.0,0.30434782608695654,0.4782608695652174,0.0,0.043478260869565216,0.0,0.21739130434782608,0.30434782608695654,0.0,0.4782608695652174,0.13043478260869565,0.17391304347826086,0.043478260869565216,0.5217391304347826,0.6521739130434783,0.08695652173913043,0.17391304347826086,0.0,0.17391304347826086,0.34782608695652173,0.043478260869565216,0.5217391304347826,0.5652173913043478,0.0,0.08695652173913043,0.043478260869565216,0.6521739130434783,0.391304347826087,0.13043478260869565,0.2608695652173913,0.21739130434782608,0.34782608695652173,0.043478260869565216,0.21739130434782608,0.30434782608695654,0.0,0.34782608695652173,0.043478260869565216,0.17391304347826086,0.043478260869565216,0.17391304347826086,0.08695652173913043,0.391304347826087,0.2608695652173913,0.17391304347826086,0.7391304347826086,0.0,0.4782608695652174,0.391304347826087,0.30434782608695654,0.08695652173913043,0.043478260869565216,0.5652173913043478,0.21739130434782608,0.043478260869565216,0.17391304347826086,0.0,0.391304347826087,0.6521739130434783,0.0,0.5217391304347826,0.043478260869565216,0.0,0.0,0.5652173913043478,0.08695652173913043,0.7391304347826086,0.0,0.08695652173913043,0.4782608695652174,0.0,0.043478260869565216,0.043478260869565216,0.21739130434782608,0.7391304347826086,0.17391304347826086,0.043478260869565216,0.043478260869565216,0.5217391304347826,0.17391304347826086,0.08695652173913043,0.043478260869565216,0.34782608695652173,0.08695652173913043,0.0,0.43478260869565216,0.43478260869565216,0.0,0.0,0.043478260869565216,0.043478260869565216,0.043478260869565216,0.043478260869565216,0.30434782608695654,0.391304347826087,0.391304347826087,0.6521739130434783,0.0,0.13043478260869565,0.6956521739130435,0.43478260869565216,0.043478260869565216,0.13043478260869565,0.391304347826087,0.08695652173913043,0.6521739130434783,0.17391304347826086,0.21739130434782608,0.043478260869565216,0.043478260869565216,0.043478260869565216,0.5217391304347826,0.2608695652173913,0.391304347826087,0.17391304347826086,0.6521739130434783,0.0,0.6956521739130435,0.5217391304347826,0.08695652173913043,0.13043478260869565,0.5652173913043478,0.13043478260869565,0.2608695652173913,0.043478260869565216,0.30434782608695654,0.21739130434782608,0.34782608695652173,0.17391304347826086,0.043478260869565216,0.0,0.43478260869565216,0.043478260869565216,0.43478260869565216,0.08695652173913043,0.0,0.43478260869565216,0.30434782608695654,0.17391304347826086,0.43478260869565216,0.391304347826087,0.43478260869565216,0.0,0.0,0.0,0.4782608695652174,0.13043478260869565,0.4782608695652174,0.0,0.08695652173913043,0.0,0.43478260869565216,0.43478260869565216,0.34782608695652173,0.30434782608695654,0.30434782608695654,0.08695652173913043,0.30434782608695654,0.0,0.5217391304347826,0.2608695652173913,0.17391304347826086,0.34782608695652173,0.34782608695652173,0.8260869565217391,0.08695652173913043,0.6086956521739131,0.4782608695652174,0.43478260869565216,0.0,0.21739130434782608,0.0,0.17391304347826086,0.08695652173913043,0.0,0.08695652173913043,0.0,0.043478260869565216,0.6956521739130435,0.08695652173913043,0.0,0.13043478260869565,0.21739130434782608,0.0,0.17391304347826086,0.21739130434782608,0.30434782608695654,0.5217391304347826,0.391304347826087,0.2608695652173913,0.2608695652173913,0.5217391304347826,0.0,0.34782608695652173,0.6521739130434783,0.08695652173913043,0.2608695652173913,0.21739130434782608,0.30434782608695654,0.30434782608695654,0.0,0.13043478260869565,0.34782608695652173,0.391304347826087,0.0,0.043478260869565216,0.043478260869565216,0.2608695652173913,0.17391304347826086,0.0,0.2608695652173913,0.13043478260869565,0.21739130434782608,0.21739130434782608,0.5217391304347826,0.6086956521739131,0.0,0.13043478260869565,0.0,0.043478260869565216,0.0,0.6086956521739131,0.6086956521739131,0.043478260869565216,0.21739130434782608,0.17391304347826086,0.043478260869565216,0.13043478260869565,0.043478260869565216,0.21739130434782608,0.043478260869565216,0.08695652173913043,0.2608695652173913,0.21739130434782608,0.2608695652173913,0.043478260869565216,0.391304347826087,0.13043478260869565,0.34782608695652173,0.391304347826087,0.30434782608695654,0.30434782608695654,0.2608695652173913,0.0,0.7391304347826086,0.34782608695652173,0.4782608695652174,0.391304347826087,0.2608695652173913,0.08695652173913043,0.043478260869565216,0.5217391304347826,0.0,0.0,0.13043478260869565,0.34782608695652173,0.2608695652173913,0.391304347826087,0.34782608695652173,0.17391304347826086,0.0,0.2608695652173913,0.043478260869565216,0.30434782608695654,0.043478260869565216,0.30434782608695654,0.391304347826087,0.391304347826087,0.30434782608695654,0.2608695652173913,0.5652173913043478,0.30434782608695654,0.0,0.0,0.2608695652173913,0.043478260869565216,0.13043478260869565,1.0,0.0,0.5217391304347826,0.30434782608695654,0.17391304347826086,0.21739130434782608,0.2608695652173913,0.21739130434782608,0.17391304347826086,0.0,0.0,0.4782608695652174,0.2608695652173913,0.0,0.043478260869565216,0.08695652173913043,0.13043478260869565,0.43478260869565216,0.5652173913043478,0.0,0.391304347826087,0.043478260869565216,0.34782608695652173,0.5217391304347826,0.5652173913043478,0.5652173913043478,0.17391304347826086,0.6521739130434783,0.6521739130434783,0.34782608695652173,0.08695652173913043,0.043478260869565216,0.6086956521739131,0.2608695652173913,0.17391304347826086,0.2608695652173913,0.0,0.17391304347826086,0.17391304347826086,0.043478260869565216,0.30434782608695654,0.0,0.17391304347826086,0.43478260869565216,0.30434782608695654,0.30434782608695654,0.391304347826087,0.2608695652173913,0.0,0.21739130434782608,0.13043478260869565,0.0,0.43478260869565216,0.30434782608695654,0.391304347826087,0.30434782608695654,0.17391304347826086,0.30434782608695654,0.30434782608695654,0.21739130434782608,0.391304347826087,0.08695652173913043,0.5652173913043478,0.5652173913043478,0.21739130434782608,0.391304347826087,0.0,0.5217391304347826,0.21739130434782608,0.30434782608695654,0.34782608695652173,0.17391304347826086,0.2608695652173913,0.6521739130434783,0.0,0.21739130434782608,0.08695652173913043,0.4782608695652174,0.21739130434782608,0.30434782608695654,0.13043478260869565,0.08695652173913043,0.6956521739130435,0.08695652173913043,0.0,0.4782608695652174,0.08695652173913043,0.21739130434782608,0.08695652173913043,0.5652173913043478,0.391304347826087,0.6086956521739131,0.21739130434782608,0.17391304347826086,0.2608695652173913,0.0,0.0,0.5652173913043478,0.043478260869565216,0.34782608695652173,0.13043478260869565,0.4782608695652174,0.13043478260869565,0.43478260869565216,0.6956521739130435,0.0,0.0,0.30434782608695654,0.08695652173913043,0.5652173913043478,0.0,0.17391304347826086,0.34782608695652173,0.43478260869565216,0.30434782608695654,0.2608695652173913,0.2608695652173913,0.043478260869565216,0.391304347826087,0.30434782608695654,0.6086956521739131,0.43478260869565216,0.5217391304347826,0.5217391304347826,0.21739130434782608,0.0,0.17391304347826086,0.13043478260869565,0.21739130434782608,0.43478260869565216,0.43478260869565216,0.30434782608695654,0.043478260869565216,0.34782608695652173,0.0,0.4782608695652174,0.08695652173913043,0.0,0.30434782608695654,0.2608695652173913,0.21739130434782608,0.17391304347826086,0.08695652173913043,0.0,0.0,0.2608695652173913,0.2608695652173913,0.0,0.17391304347826086,0.30434782608695654,0.08695652173913043,0.043478260869565216,0.5217391304347826,0.30434782608695654,0.0,0.43478260869565216,0.0,0.21739130434782608,0.0,0.17391304347826086,0.043478260869565216,0.5217391304347826,0.2608695652173913,0.043478260869565216,0.17391304347826086,0.08695652173913043,0.6956521739130435,0.5652173913043478,0.30434782608695654,0.17391304347826086,0.5217391304347826,0.34782608695652173,0.043478260869565216,0.0,0.13043478260869565,0.43478260869565216,0.043478260869565216,0.6956521739130435,0.08695652173913043,0.34782608695652173,0.0,0.34782608695652173,0.043478260869565216,0.5217391304347826,0.13043478260869565,0.43478260869565216,0.0,0.391304347826087,0.2608695652173913,0.043478260869565216,0.391304347826087,0.391304347826087,0.043478260869565216,0.08695652173913043,0.0,0.13043478260869565,0.34782608695652173,0.043478260869565216,0.043478260869565216,0.6086956521739131,0.08695652173913043,0.4782608695652174,0.43478260869565216,0.0,0.30434782608695654,0.13043478260869565,0.30434782608695654,0.043478260869565216,0.08695652173913043,0.5217391304347826,0.17391304347826086,0.0,0.34782608695652173,0.391304347826087,0.0,0.6086956521739131,0.17391304347826086,0.6086956521739131,0.4782608695652174,0.043478260869565216,0.30434782608695654,0.34782608695652173,0.391304347826087,0.0,0.6086956521739131,0.17391304347826086,0.30434782608695654,0.2608695652173913,0.0,0.34782608695652173,0.2608695652173913,0.21739130434782608,0.43478260869565216,0.0,0.5217391304347826,0.13043478260869565,0.5217391304347826,0.30434782608695654,0.0,0.2608695652173913,0.21739130434782608,0.21739130434782608,0.34782608695652173,0.0,0.0,0.08695652173913043,0.17391304347826086,0.043478260869565216,0.17391304347826086,0.2608695652173913,0.5652173913043478,0.2608695652173913,0.6956521739130435,0.043478260869565216,0.30434782608695654,0.4782608695652174,0.21739130434782608,0.08695652173913043,0.5652173913043478,0.2608695652173913,0.043478260869565216,0.17391304347826086,0.2608695652173913,0.17391304347826086,0.43478260869565216,0.5217391304347826,0.0,0.30434782608695654,0.30434782608695654,0.4782608695652174,0.0,0.5652173913043478,0.21739130434782608,0.30434782608695654,0.0,0.13043478260869565,0.5217391304347826,0.5217391304347826,0.34782608695652173,0.5652173913043478,0.6086956521739131,0.13043478260869565,0.08695652173913043,0.30434782608695654,0.8260869565217391,0.0,0.34782608695652173,0.0,0.5217391304347826,0.0,0.0,0.30434782608695654,0.043478260869565216,0.0,0.30434782608695654,0.391304347826087,0.34782608695652173,0.0,0.0,0.0,0.2608695652173913,0.21739130434782608,0.391304347826087,0.391304347826087,0.0,0.043478260869565216,0.2608695652173913,0.43478260869565216,0.13043478260869565,0.8260869565217391,0.17391304347826086,0.34782608695652173,0.17391304347826086,0.43478260869565216,0.5652173913043478,0.21739130434782608,0.34782608695652173,0.21739130434782608,0.0,0.21739130434782608,0.13043478260869565,0.0,0.13043478260869565,0.13043478260869565,0.043478260869565216,0.21739130434782608,0.43478260869565216,0.5217391304347826,0.0,0.21739130434782608,0.5217391304347826,0.17391304347826086,0.043478260869565216,0.34782608695652173,0.34782608695652173,0.0,0.2608695652173913,0.2608695652173913,0.08695652173913043,0.08695652173913043,0.5652173913043478,0.782608695652174,0.043478260869565216,0.08695652173913043,0.4782608695652174,0.30434782608695654,0.17391304347826086,0.043478260869565216,0.5217391304347826,0.2608695652173913,0.043478260869565216,0.4782608695652174,0.7391304347826086,0.5217391304347826,0.08695652173913043,0.30434782608695654,0.7391304347826086,0.391304347826087,0.4782608695652174,0.13043478260869565,0.08695652173913043,0.30434782608695654,0.21739130434782608,0.34782608695652173,0.30434782608695654,0.21739130434782608,0.4782608695652174,0.30434782608695654,0.2608695652173913,0.30434782608695654,0.21739130434782608,0.30434782608695654,0.4782608695652174,0.043478260869565216,0.08695652173913043,0.21739130434782608,0.34782608695652173,0.2608695652173913,0.21739130434782608,0.13043478260869565,0.13043478260869565,0.21739130434782608,0.21739130434782608,0.0,0.13043478260869565,0.2608695652173913,0.043478260869565216,0.30434782608695654,0.17391304347826086,0.2608695652173913,0.0,0.4782608695652174,0.0,0.34782608695652173,0.30434782608695654,0.0,0.2608695652173913,0.5217391304347826,0.0,0.0,0.6956521739130435,0.0,0.13043478260869565,0.6086956521739131,0.34782608695652173,0.21739130434782608,0.17391304347826086,0.0,0.2608695652173913,0.391304347826087,0.5217391304347826,0.0,0.0,0.043478260869565216,0.5652173913043478,0.0,0.13043478260869565,0.34782608695652173,0.5217391304347826,0.34782608695652173,0.0,0.043478260869565216,0.4782608695652174,0.17391304347826086,0.5217391304347826,0.0,0.43478260869565216,0.7391304347826086,0.5217391304347826,0.34782608695652173,0.17391304347826086,0.30434782608695654,0.30434782608695654,0.043478260869565216,0.30434782608695654,0.043478260869565216,0.7391304347826086,0.21739130434782608,0.0,0.0,0.4782608695652174,0.6086956521739131,0.30434782608695654,0.30434782608695654,0.08695652173913043,0.17391304347826086,0.17391304347826086,0.43478260869565216,0.17391304347826086,0.2608695652173913,0.5652173913043478,0.0,0.17391304347826086,0.4782608695652174,0.4782608695652174,0.43478260869565216,0.13043478260869565,0.5217391304347826,0.0,0.17391304347826086,0.0,0.4782608695652174,0.21739130434782608,0.13043478260869565,0.391304347826087,0.0,0.391304347826087,0.08695652173913043,0.08695652173913043,0.6521739130434783,0.34782608695652173,0.043478260869565216,0.13043478260869565,0.21739130434782608,0.13043478260869565,0.17391304347826086,0.7391304347826086,0.0,0.0,0.5652173913043478,0.391304347826087,0.043478260869565216,0.6956521739130435,0.21739130434782608,0.0,0.5652173913043478,0.21739130434782608,0.043478260869565216,0.34782608695652173,0.4782608695652174,0.391304347826087,0.0,0.0,0.2608695652173913,0.0,0.0,0.17391304347826086,0.0,0.08695652173913043,0.21739130434782608,0.30434782608695654,0.21739130434782608,0.5217391304347826,0.2608695652173913,0.043478260869565216,0.5652173913043478,0.5652173913043478,0.43478260869565216,0.08695652173913043,0.0,0.08695652173913043,0.391304347826087,0.043478260869565216,0.391304347826087,0.08695652173913043,0.6956521739130435,0.5652173913043478,0.0,0.5652173913043478,0.043478260869565216,0.13043478260869565,0.6086956521739131,0.43478260869565216,0.6521739130434783,0.5217391304347826,0.7391304347826086,0.2608695652173913,0.0,0.0,0.08695652173913043,0.043478260869565216,0.043478260869565216,0.08695652173913043,0.13043478260869565,0.08695652173913043,0.391304347826087,0.5217391304347826,0.43478260869565216,0.43478260869565216,0.21739130434782608,0.391304347826087,0.043478260869565216,0.30434782608695654,0.21739130434782608,0.4782608695652174,0.13043478260869565,0.17391304347826086,0.6956521739130435,0.0,0.08695652173913043,0.34782608695652173,0.0,0.0,0.30434782608695654,0.043478260869565216,0.08695652173913043,0.7391304347826086,0.13043478260869565,0.30434782608695654,0.2608695652173913,0.6521739130434783,0.2608695652173913,0.4782608695652174,0.043478260869565216,0.5217391304347826,0.043478260869565216,0.391304347826087,0.21739130434782608,0.4782608695652174,0.043478260869565216,0.6521739130434783,0.0,0.391304347826087,0.6521739130434783,0.08695652173913043,0.0,0.0,0.5217391304347826,0.4782608695652174,0.043478260869565216,0.0,0.13043478260869565,0.30434782608695654,0.08695652173913043,0.30434782608695654,0.5652173913043478,0.13043478260869565,0.17391304347826086,0.34782608695652173,0.13043478260869565,0.17391304347826086,0.08695652173913043,0.391304347826087,0.0,0.5217391304347826,0.34782608695652173,0.34782608695652173,0.043478260869565216,0.30434782608695654,0.391304347826087,0.08695652173913043,0.0,0.2608695652173913,0.5652173913043478,0.17391304347826086,0.43478260869565216,0.2608695652173913,0.5217391304347826,0.34782608695652173,0.0,0.0,0.4782608695652174,0.4782608695652174,0.2608695652173913,0.30434782608695654,0.34782608695652173,0.08695652173913043,0.043478260869565216,0.21739130434782608,0.08695652173913043,0.34782608695652173,0.391304347826087,0.08695652173913043,0.17391304347826086,0.34782608695652173,0.5217391304347826,0.5217391304347826,0.391304347826087,0.13043478260869565,0.30434782608695654,0.13043478260869565,0.2608695652173913,0.391304347826087,0.043478260869565216,0.391304347826087,0.043478260869565216,0.043478260869565216,0.0,0.0,0.0,0.34782608695652173,0.782608695652174,0.0,0.0,0.0,0.21739130434782608,0.21739130434782608,0.043478260869565216,0.17391304347826086,0.0,0.13043478260869565,0.6086956521739131,0.21739130434782608,0.0,0.2608695652173913,0.5652173913043478,0.0,0.34782608695652173,0.30434782608695654,0.043478260869565216,0.043478260869565216,0.13043478260869565,0.0,0.6956521739130435,0.2608695652173913,0.043478260869565216,0.6086956521739131,0.391304347826087,0.4782608695652174,0.5217391304347826,0.2608695652173913,0.21739130434782608,0.17391304347826086,0.6521739130434783,0.30434782608695654,0.4782608695652174,0.30434782608695654,0.6521739130434783,0.6956521739130435,0.17391304347826086,0.043478260869565216,0.391304347826087,0.17391304347826086,0.5652173913043478,0.2608695652173913,0.17391304347826086,0.4782608695652174,0.21739130434782608,0.34782608695652173,0.5652173913043478,0.08695652173913043,0.043478260869565216,0.7391304347826086,0.2608695652173913,0.08695652173913043,0.391304347826087,0.2608695652173913,0.7391304347826086,0.08695652173913043,0.34782608695652173,0.2608695652173913,0.08695652173913043,0.08695652173913043,0.4782608695652174,0.043478260869565216,0.43478260869565216,0.0,0.13043478260869565,0.2608695652173913,0.043478260869565216,0.34782608695652173,0.17391304347826086,0.043478260869565216,0.08695652173913043,0.391304347826087,0.4782608695652174,0.043478260869565216,0.043478260869565216,0.30434782608695654,0.6086956521739131,0.30434782608695654,0.782608695652174,0.7391304347826086,0.0,0.6521739130434783,0.43478260869565216,0.043478260869565216,0.043478260869565216,0.34782608695652173,0.43478260869565216,0.4782608695652174,0.043478260869565216,0.4782608695652174,0.5652173913043478,0.5217391304347826,0.043478260869565216,0.13043478260869565,0.21739130434782608,0.0,0.9130434782608695,0.6521739130434783,0.0,0.13043478260869565,0.4782608695652174,0.391304347826087,0.0,0.21739130434782608,0.2608695652173913,0.30434782608695654,0.043478260869565216,0.391304347826087,0.0,0.5652173913043478,0.08695652173913043,0.17391304347826086,0.0,0.5217391304347826,0.391304347826087,0.0,0.0,0.30434782608695654,0.43478260869565216,0.0,0.6956521739130435,0.043478260869565216,0.391304347826087,0.391304347826087,0.17391304347826086,0.08695652173913043,0.5217391304347826,0.0,0.17391304347826086,0.043478260869565216,0.34782608695652173,0.4782608695652174,0.6086956521739131,0.21739130434782608,0.17391304347826086,0.043478260869565216,0.391304347826087,0.043478260869565216,0.30434782608695654,0.2608695652173913,0.5652173913043478,0.43478260869565216,0.08695652173913043,0.4782608695652174,0.391304347826087,0.30434782608695654,0.21739130434782608,0.43478260869565216,0.9130434782608695,0.5217391304347826,0.21739130434782608,0.17391304347826086,0.2608695652173913,0.043478260869565216,0.5217391304347826,0.2608695652173913,0.043478260869565216,0.13043478260869565,0.2608695652173913,0.0,0.13043478260869565,0.21739130434782608,0.13043478260869565,0.043478260869565216,0.391304347826087,0.043478260869565216,0.0,0.2608695652173913,0.43478260869565216,0.2608695652173913,0.17391304347826086,0.0,0.21739130434782608,0.08695652173913043,0.13043478260869565,0.043478260869565216,0.5652173913043478,0.43478260869565216,0.34782608695652173,0.7391304347826086,0.43478260869565216,0.17391304347826086,0.0,0.0,0.0,0.21739130434782608,0.0,0.043478260869565216,0.17391304347826086,0.0,0.21739130434782608,0.043478260869565216,0.043478260869565216,0.391304347826087,0.0,0.08695652173913043,0.43478260869565216,0.2608695652173913,0.6956521739130435,0.17391304347826086,0.13043478260869565,0.0,0.5217391304347826,0.08695652173913043,0.4782608695652174,0.13043478260869565,0.2608695652173913,0.5217391304347826,0.391304347826087,0.13043478260869565,0.0,0.5217391304347826,0.5217391304347826,0.08695652173913043,0.17391304347826086,0.5217391304347826,0.34782608695652173,0.0,0.08695652173913043,0.21739130434782608,0.2608695652173913,0.5652173913043478,0.4782608695652174,0.2608695652173913,0.391304347826087,0.2608695652173913,0.2608695652173913,0.4782608695652174,0.391304347826087,0.043478260869565216,0.0,0.2608695652173913,0.17391304347826086,0.0,0.043478260869565216,0.391304347826087,0.43478260869565216,0.5217391304347826,0.17391304347826086,0.6956521739130435,0.0,0.13043478260869565,0.43478260869565216,0.2608695652173913,0.0,0.4782608695652174,0.391304347826087,0.391304347826087,0.43478260869565216,0.30434782608695654,0.08695652173913043,0.17391304347826086,0.34782608695652173,0.43478260869565216,0.5217391304347826,0.0,0.5652173913043478,0.6086956521739131,0.391304347826087,0.8695652173913043,0.0,0.0,0.08695652173913043,0.6956521739130435,0.043478260869565216,0.13043478260869565,0.0,0.13043478260869565,0.34782608695652173,0.34782608695652173,0.21739130434782608,0.08695652173913043,0.34782608695652173,0.0,0.6086956521739131,0.5652173913043478,0.043478260869565216,0.391304347826087,0.4782608695652174,0.5217391304347826,0.13043478260869565,0.7391304347826086,0.0,0.043478260869565216,0.5652173913043478,0.21739130434782608,0.08695652173913043,0.043478260869565216,0.34782608695652173,0.30434782608695654,0.5217391304347826,0.34782608695652173,0.21739130434782608,0.4782608695652174,0.4782608695652174,0.34782608695652173,0.7391304347826086,0.391304347826087,0.0,0.34782608695652173,0.5217391304347826,0.34782608695652173,0.08695652173913043,0.0,0.17391304347826086,0.5217391304347826,0.391304347826087,0.2608695652173913,0.2608695652173913,0.2608695652173913,0.17391304347826086,0.4782608695652174,0.043478260869565216,0.0,0.30434782608695654,0.17391304347826086,0.5652173913043478,0.5652173913043478,0.21739130434782608,0.08695652173913043,0.21739130434782608,0.391304347826087,0.043478260869565216,0.043478260869565216,0.4782608695652174,0.0,0.0,0.13043478260869565,0.43478260869565216,0.0,0.30434782608695654,0.0,0.34782608695652173,0.4782608695652174,0.34782608695652173,0.391304347826087,0.5652173913043478,0.0,0.08695652173913043,0.6086956521739131,0.0,0.17391304347826086,0.34782608695652173,0.30434782608695654,0.5217391304347826,0.5217391304347826,0.0,0.17391304347826086,0.391304347826087,0.043478260869565216,0.4782608695652174,0.34782608695652173,0.9565217391304348,0.0,0.0,0.30434782608695654,0.21739130434782608,0.391304347826087,0.0,0.0,0.0,0.08695652173913043,0.0,0.2608695652173913,0.30434782608695654,0.782608695652174,0.043478260869565216,0.2608695652173913,0.2608695652173913,0.043478260869565216,0.5652173913043478,0.0,0.2608695652173913,0.43478260869565216,0.0,0.0,0.43478260869565216,0.4782608695652174,0.0,0.0,0.21739130434782608,0.17391304347826086,0.13043478260869565,0.0,0.30434782608695654,0.0,0.5652173913043478,0.043478260869565216,0.21739130434782608,0.30434782608695654,0.5217391304347826,0.08695652173913043,0.043478260869565216,0.13043478260869565,0.4782608695652174,0.30434782608695654,0.13043478260869565,0.5217391304347826,0.34782608695652173,0.8260869565217391,0.17391304347826086,0.043478260869565216,0.13043478260869565,0.2608695652173913,0.30434782608695654,0.17391304347826086,0.4782608695652174,0.17391304347826086,0.08695652173913043,0.391304347826087,0.08695652173913043,0.17391304347826086,0.43478260869565216,0.34782608695652173,0.6521739130434783,0.4782608695652174,0.043478260869565216,0.5217391304347826,0.2608695652173913,0.13043478260869565,0.5652173913043478,0.13043478260869565,0.6086956521739131,0.13043478260869565,0.6086956521739131,0.17391304347826086,0.43478260869565216,0.043478260869565216,0.17391304347826086,0.0,0.08695652173913043,0.21739130434782608,0.5217391304347826,0.17391304347826086,0.043478260869565216,0.2608695652173913,0.17391304347826086,0.30434782608695654,0.391304347826087,0.21739130434782608,0.6086956521739131,0.08695652173913043,0.21739130434782608,0.5217391304347826,0.043478260869565216,0.391304347826087,0.13043478260869565,0.13043478260869565,0.043478260869565216,0.6086956521739131,0.5217391304347826,0.0,0.30434782608695654,0.08695652173913043,0.17391304347826086,0.2608695652173913,0.7391304347826086,0.21739130434782608,0.043478260869565216,0.5652173913043478,0.30434782608695654,0.391304347826087,0.30434782608695654,0.0,0.21739130434782608,0.6956521739130435,0.5217391304347826,0.43478260869565216,0.08695652173913043,0.21739130434782608,0.4782608695652174,0.0,0.2608695652173913,0.043478260869565216,0.2608695652173913,0.6521739130434783,0.043478260869565216,0.043478260869565216,0.6086956521739131,0.08695652173913043,0.0,0.0,0.21739130434782608,0.043478260869565216,0.08695652173913043,0.0,0.391304347826087,0.13043478260869565,0.2608695652173913,0.34782608695652173,0.30434782608695654,0.21739130434782608,0.391304347826087,0.0,0.08695652173913043,0.0,0.34782608695652173,0.30434782608695654,0.0,0.17391304347826086,0.043478260869565216,0.0,0.0,0.782608695652174,0.4782608695652174,0.5217391304347826,0.08695652173913043,0.0,0.17391304347826086,0.17391304347826086,0.043478260869565216,0.043478260869565216,0.7391304347826086,0.043478260869565216,0.21739130434782608,0.2608695652173913,0.5652173913043478,0.43478260869565216,0.2608695652173913,0.17391304347826086,0.08695652173913043,0.043478260869565216,0.30434782608695654,0.6521739130434783,0.43478260869565216,0.13043478260869565,0.043478260869565216,0.5217391304347826,0.34782608695652173,0.0,0.17391304347826086,0.21739130434782608,0.30434782608695654,0.08695652173913043,0.6086956521739131,0.34782608695652173,0.6521739130434783,0.34782608695652173,0.0,0.5652173913043478,0.5652173913043478,0.17391304347826086,0.5652173913043478,0.08695652173913043,0.0,0.043478260869565216,0.043478260869565216,0.4782608695652174,0.08695652173913043,0.0,0.0,0.17391304347826086,0.0,0.0,0.2608695652173913,0.34782608695652173,0.30434782608695654,0.043478260869565216,0.5652173913043478,0.5217391304347826,0.6086956521739131,0.13043478260869565,0.43478260869565216,0.43478260869565216,0.2608695652173913,0.5652173913043478,0.21739130434782608,0.6956521739130435,0.43478260869565216,0.5217391304347826,0.17391304347826086,0.5217391304347826,0.08695652173913043,0.5217391304347826,0.782608695652174,0.13043478260869565,0.5217391304347826,0.0,0.391304347826087,0.043478260869565216,0.0,0.782608695652174,0.08695652173913043,0.4782608695652174,0.43478260869565216,0.17391304347826086,0.0,0.2608695652173913,0.13043478260869565,0.13043478260869565,0.30434782608695654,0.08695652173913043,0.08695652173913043,0.5217391304347826,0.21739130434782608,0.4782608695652174,0.043478260869565216,0.6521739130434783,0.2608695652173913,0.0,0.13043478260869565,0.21739130434782608,0.43478260869565216,0.17391304347826086,0.21739130434782608,0.21739130434782608,0.13043478260869565,0.08695652173913043,0.5217391304347826,0.043478260869565216,0.043478260869565216,0.43478260869565216,0.043478260869565216,0.08695652173913043,0.34782608695652173,0.5217391304347826,0.43478260869565216,0.4782608695652174,0.21739130434782608,0.0,0.391304347826087,0.21739130434782608,0.2608695652173913,0.08695652173913043,0.30434782608695654,0.17391304347826086,0.0,0.13043478260869565,0.0,0.043478260869565216,0.08695652173913043,0.4782608695652174,0.391304347826087,0.0,0.21739130434782608,0.2608695652173913,0.2608695652173913,0.17391304347826086,0.391304347826087,0.6086956521739131,0.17391304347826086,0.6521739130434783,0.5217391304347826,0.34782608695652173,0.2608695652173913,0.21739130434782608,0.6956521739130435,0.2608695652173913,0.6086956521739131,0.5652173913043478,0.5217391304347826,0.391304347826087,0.391304347826087,0.043478260869565216,0.391304347826087,0.0,0.21739130434782608,0.391304347826087,0.4782608695652174,0.13043478260869565,0.5652173913043478,0.8260869565217391,0.43478260869565216,0.0,0.2608695652173913,0.43478260869565216,0.5217391304347826,0.5217391304347826,0.34782608695652173,0.4782608695652174,0.0,0.17391304347826086,0.21739130434782608,0.21739130434782608,0.08695652173913043,0.30434782608695654,0.30434782608695654,0.0,0.0,0.6086956521739131,0.5652173913043478,0.391304347826087,0.08695652173913043,0.34782608695652173,0.0,0.0,0.5217391304347826,0.6086956521739131,0.21739130434782608,0.0,0.30434782608695654,0.043478260869565216,0.5652173913043478,0.391304347826087,0.34782608695652173,0.2608695652173913,0.043478260869565216,0.391304347826087,0.6086956521739131,0.2608695652173913,0.13043478260869565,0.17391304347826086,0.2608695652173913,0.0,0.08695652173913043,0.13043478260869565,0.0,0.13043478260869565,0.043478260869565216,0.5217391304347826,0.391304347826087,0.30434782608695654,0.043478260869565216,0.4782608695652174,0.2608695652173913,0.0,0.043478260869565216,0.17391304347826086,0.43478260869565216,0.13043478260869565,0.4782608695652174,0.5652173913043478,0.391304347826087,0.34782608695652173,0.043478260869565216,0.30434782608695654,0.0,0.5652173913043478,0.34782608695652173,0.5217391304347826,0.17391304347826086,0.2608695652173913,0.2608695652173913,0.08695652173913043,0.391304347826087,0.08695652173913043,0.391304347826087,0.6086956521739131,0.0,0.21739130434782608,0.0,0.21739130434782608,0.5652173913043478,0.2608695652173913,0.4782608695652174,0.0,0.0,0.0,0.0,0.043478260869565216,0.2608695652173913,0.2608695652173913,0.6086956521739131,0.4782608695652174,0.34782608695652173,0.0,0.34782608695652173,0.43478260869565216,0.17391304347826086,0.5217391304347826,0.30434782608695654,0.34782608695652173,0.43478260869565216,0.30434782608695654,0.13043478260869565,0.5217391304347826,0.17391304347826086,0.0,0.043478260869565216,0.08695652173913043,0.43478260869565216,0.391304347826087,0.4782608695652174,0.08695652173913043,0.0,0.17391304347826086,0.43478260869565216,0.0,0.5217391304347826,0.6521739130434783,0.043478260869565216,0.08695652173913043,0.5217391304347826,0.21739130434782608,0.391304347826087,0.30434782608695654,0.043478260869565216,0.0,0.2608695652173913,0.4782608695652174,0.043478260869565216,0.6086956521739131,0.043478260869565216,0.0,0.4782608695652174,0.30434782608695654,0.043478260869565216,0.17391304347826086,0.0,0.782608695652174,0.2608695652173913,0.043478260869565216,0.2608695652173913,0.043478260869565216,0.13043478260869565,0.2608695652173913,0.6521739130434783,0.21739130434782608,0.43478260869565216,0.4782608695652174,0.6086956521739131,0.043478260869565216,0.08695652173913043,0.17391304347826086,0.043478260869565216,0.4782608695652174,0.17391304347826086,0.4782608695652174,0.4782608695652174,0.34782608695652173,0.08695652173913043,0.13043478260869565,0.34782608695652173,0.6521739130434783,0.4782608695652174,0.391304347826087,0.5652173913043478,0.043478260869565216,0.0,0.13043478260869565,0.6956521739130435,0.043478260869565216,0.4782608695652174,0.2608695652173913,0.30434782608695654,0.43478260869565216,0.17391304347826086,0.5652173913043478,0.0,0.6956521739130435,0.5652173913043478,0.043478260869565216,0.13043478260869565,0.34782608695652173,0.43478260869565216,0.43478260869565216,0.391304347826087,0.4782608695652174,0.391304347826087,0.0,0.17391304347826086,0.08695652173913043,0.08695652173913043,0.2608695652173913,0.5217391304347826,0.6956521739130435,0.391304347826087,0.391304347826087,0.0,0.4782608695652174,0.0,0.43478260869565216,0.4782608695652174,0.30434782608695654,0.043478260869565216,0.043478260869565216,0.5217391304347826,0.2608695652173913,0.30434782608695654,0.043478260869565216,0.043478260869565216,0.30434782608695654,0.43478260869565216,0.5217391304347826,0.2608695652173913,0.391304347826087,0.17391304347826086,0.30434782608695654,0.0,0.30434782608695654,0.5217391304347826,0.391304347826087,0.2608695652173913,0.6956521739130435,0.34782608695652173,0.21739130434782608,0.391304347826087,0.17391304347826086,0.043478260869565216,0.2608695652173913,0.6956521739130435,0.13043478260869565,0.21739130434782608,0.34782608695652173,0.43478260869565216,0.30434782608695654,0.4782608695652174,0.0,0.30434782608695654,0.391304347826087,0.0,0.0,0.0,0.17391304347826086,0.2608695652173913,0.43478260869565216,0.0,0.21739130434782608,0.4782608695652174,0.0,0.7391304347826086,0.17391304347826086,0.0,0.17391304347826086,0.13043478260869565,0.17391304347826086,0.21739130434782608,0.30434782608695654,0.34782608695652173,0.5652173913043478,0.43478260869565216,0.34782608695652173,0.08695652173913043,0.4782608695652174,0.5652173913043478,0.43478260869565216,0.13043478260869565,0.0,0.43478260869565216,0.30434782608695654,0.2608695652173913,0.34782608695652173,0.043478260869565216,0.30434782608695654,0.2608695652173913,0.08695652173913043,0.0,0.5652173913043478,0.30434782608695654,0.6086956521739131,0.34782608695652173,0.2608695652173913,0.08695652173913043,0.043478260869565216,0.2608695652173913,0.43478260869565216,0.5652173913043478,0.08695652173913043,0.5652173913043478,0.43478260869565216,0.08695652173913043,0.34782608695652173,0.043478260869565216,0.13043478260869565,0.08695652173913043,0.9130434782608695,0.30434782608695654,0.6956521739130435,0.2608695652173913,0.043478260869565216,0.21739130434782608,0.30434782608695654,0.2608695652173913,0.43478260869565216,0.0,0.43478260869565216,0.043478260869565216,0.043478260869565216,0.30434782608695654,0.43478260869565216,0.043478260869565216,0.30434782608695654,0.34782608695652173,0.7391304347826086,0.13043478260869565,0.17391304347826086,0.391304347826087,0.43478260869565216,0.17391304347826086,0.391304347826087,0.043478260869565216,0.34782608695652173,0.2608695652173913,0.043478260869565216,0.34782608695652173,0.4782608695652174,0.0,0.2608695652173913,0.34782608695652173,0.13043478260869565,0.30434782608695654,0.6086956521739131,0.30434782608695654,0.0,0.17391304347826086,0.08695652173913043,0.8695652173913043,0.5652173913043478,0.2608695652173913,0.08695652173913043,0.391304347826087,0.08695652173913043,0.17391304347826086,0.08695652173913043,0.5652173913043478,0.13043478260869565,0.30434782608695654,0.0,0.391304347826087,0.34782608695652173,0.34782608695652173,0.391304347826087,0.30434782608695654,0.43478260869565216,0.13043478260869565,0.08695652173913043,0.43478260869565216,0.6521739130434783,0.5652173913043478,0.17391304347826086,0.391304347826087,0.43478260869565216,0.0,0.5217391304347826,0.2608695652173913,0.6956521739130435,0.0,0.21739130434782608,0.0,0.0,0.782608695652174,0.2608695652173913,0.2608695652173913,0.5217391304347826,0.17391304347826086,0.2608695652173913,0.30434782608695654,0.43478260869565216,0.21739130434782608,0.6956521739130435,0.0,0.043478260869565216,0.043478260869565216,0.043478260869565216,0.30434782608695654,0.43478260869565216,0.043478260869565216,0.043478260869565216,0.2608695652173913,0.13043478260869565,0.0,0.30434782608695654,0.2608695652173913,0.34782608695652173,0.13043478260869565,0.30434782608695654,0.13043478260869565,0.0,0.34782608695652173,0.391304347826087,0.43478260869565216,0.2608695652173913,0.0,0.0,0.30434782608695654,0.0,0.13043478260869565,0.0,0.043478260869565216,0.4782608695652174,0.8260869565217391,0.13043478260869565,0.391304347826087,0.4782608695652174,0.043478260869565216,0.43478260869565216,0.5217391304347826,0.7391304347826086,0.0,0.0,0.30434782608695654,0.17391304347826086,0.5217391304347826,0.21739130434782608,0.043478260869565216,0.34782608695652173,0.17391304347826086,0.08695652173913043,0.17391304347826086,0.08695652173913043,0.0,0.34782608695652173,0.0,0.043478260869565216,0.13043478260869565,0.5652173913043478,0.08695652173913043,0.391304347826087,0.17391304347826086,0.0,0.08695652173913043,0.2608695652173913,0.17391304347826086,0.30434782608695654,0.2608695652173913,0.34782608695652173,0.13043478260869565,0.13043478260869565,0.21739130434782608,0.4782608695652174,0.30434782608695654,0.21739130434782608,0.21739130434782608,0.17391304347826086,0.30434782608695654,0.0,0.17391304347826086,0.30434782608695654,0.5652173913043478,0.2608695652173913,0.7391304347826086,0.0,0.6956521739130435,0.6086956521739131,0.043478260869565216,0.6086956521739131,0.30434782608695654,0.6521739130434783,0.34782608695652173,0.2608695652173913,0.4782608695652174,0.21739130434782608,0.043478260869565216,0.0,0.17391304347826086,0.6956521739130435,0.30434782608695654,0.21739130434782608,0.391304347826087,0.0,0.043478260869565216,0.4782608695652174,0.043478260869565216,0.391304347826087,0.43478260869565216,0.21739130434782608,0.5217391304347826,0.08695652173913043,0.5652173913043478,0.08695652173913043,0.34782608695652173,0.0,0.5217391304347826,0.21739130434782608,0.043478260869565216,0.21739130434782608,0.13043478260869565,0.2608695652173913,0.30434782608695654,0.043478260869565216,0.4782608695652174,0.34782608695652173,0.043478260869565216,0.17391304347826086,0.0,0.7391304347826086,0.43478260869565216,0.6086956521739131,0.17391304347826086,0.6086956521739131,0.17391304347826086,0.30434782608695654,0.43478260869565216,0.4782608695652174,0.2608695652173913,0.30434782608695654,0.2608695652173913,0.2608695652173913,0.13043478260869565,0.043478260869565216,0.6521739130434783,0.13043478260869565,0.043478260869565216,0.6086956521739131,0.43478260869565216,0.34782608695652173,0.17391304347826086,0.043478260869565216,0.043478260869565216,0.6086956521739131,0.43478260869565216,0.34782608695652173,0.21739130434782608,0.6521739130434783,0.17391304347826086,0.43478260869565216,0.2608695652173913,0.0,0.0,0.043478260869565216,0.4782608695652174,0.043478260869565216,0.43478260869565216,0.13043478260869565,0.21739130434782608,0.43478260869565216,0.08695652173913043,0.34782608695652173,0.6521739130434783,0.0,0.30434782608695654,0.13043478260869565,0.0,0.5217391304347826,0.34782608695652173,0.043478260869565216,0.2608695652173913,0.17391304347826086,0.2608695652173913,0.21739130434782608,0.08695652173913043,0.0,0.0,0.17391304347826086,0.17391304347826086,0.30434782608695654,0.0,0.17391304347826086,0.43478260869565216,0.6521739130434783,0.21739130434782608,0.0,0.13043478260869565,0.30434782608695654,0.5652173913043478,0.21739130434782608,0.043478260869565216,0.043478260869565216,0.21739130434782608,0.0,0.043478260869565216,0.17391304347826086,0.043478260869565216,0.43478260869565216,0.6086956521739131,0.08695652173913043,0.4782608695652174,0.0,0.5217391304347826,0.0,0.0,0.391304347826087,0.4782608695652174,0.0,0.17391304347826086,0.08695652173913043,0.21739130434782608,0.5217391304347826,0.0,0.391304347826087,0.7391304347826086,0.043478260869565216,0.6956521739130435,0.17391304347826086,0.0,0.30434782608695654,0.2608695652173913,0.0,0.0,0.2608695652173913,0.34782608695652173,0.17391304347826086,0.6086956521739131,0.391304347826087,0.0,0.21739130434782608,0.17391304347826086,0.0,0.0,0.0,0.30434782608695654,0.0,0.08695652173913043,0.34782608695652173,0.43478260869565216,0.0,0.391304347826087,0.0,0.13043478260869565,0.043478260869565216,0.30434782608695654,0.391304347826087,0.6956521739130435,0.08695652173913043,0.6521739130434783,0.0,0.21739130434782608,0.0,0.6086956521739131,0.5217391304347826,0.0,0.21739130434782608,0.8695652173913043,0.6521739130434783,0.13043478260869565,0.34782608695652173,0.0,0.0,0.17391304347826086,0.34782608695652173,0.30434782608695654,0.7391304347826086,0.08695652173913043,0.391304347826087,0.21739130434782608,0.2608695652173913,0.08695652173913043,0.13043478260869565,0.34782608695652173,0.4782608695652174,0.043478260869565216,0.9130434782608695,0.5652173913043478,0.30434782608695654,0.0,0.043478260869565216,0.08695652173913043,0.0,0.0,0.0,0.30434782608695654,0.391304347826087,0.21739130434782608,0.21739130434782608,0.4782608695652174,0.5652173913043478,0.0,0.2608695652173913,0.4782608695652174,0.043478260869565216,0.043478260869565216,0.21739130434782608,0.9565217391304348,0.043478260869565216,0.13043478260869565,0.6521739130434783,0.43478260869565216,0.2608695652173913,0.4782608695652174,0.2608695652173913,0.043478260869565216,0.17391304347826086,0.08695652173913043,0.043478260869565216,0.13043478260869565,0.13043478260869565,0.8260869565217391,0.782608695652174,0.391304347826087,0.08695652173913043,0.08695652173913043,0.6086956521739131,0.13043478260869565,0.21739130434782608,0.5652173913043478,0.6521739130434783,0.0,0.21739130434782608,0.30434782608695654,0.43478260869565216,0.5652173913043478,0.0,0.2608695652173913,0.0,0.43478260869565216,0.17391304347826086,0.043478260869565216,0.30434782608695654,0.34782608695652173,0.08695652173913043,0.043478260869565216,0.7391304347826086,0.43478260869565216,0.391304347826087,0.2608695652173913,0.2608695652173913,0.13043478260869565,0.5217391304347826,0.21739130434782608,0.6521739130434783,0.0,0.30434782608695654,0.0,0.21739130434782608,0.391304347826087,0.2608695652173913,0.4782608695652174,0.391304347826087,0.0,0.21739130434782608,0.0,0.4782608695652174,0.5652173913043478,0.43478260869565216,0.0,0.043478260869565216,0.21739130434782608,0.4782608695652174,0.5652173913043478,0.043478260869565216,0.043478260869565216,0.5217391304347826,0.21739130434782608,0.6956521739130435,0.0,0.13043478260869565,0.0,0.043478260869565216,0.0,0.0,0.043478260869565216,0.30434782608695654,0.043478260869565216,0.21739130434782608,0.391304347826087,0.21739130434782608,0.7391304347826086,0.17391304347826086,0.08695652173913043,0.782608695652174,0.0,0.34782608695652173,0.6521739130434783,0.5217391304347826,0.0,0.08695652173913043,0.6956521739130435,0.08695652173913043,0.6521739130434783,0.30434782608695654,0.5652173913043478,0.0,0.17391304347826086,0.4782608695652174,0.13043478260869565,0.17391304347826086,0.5217391304347826,0.17391304347826086,0.30434782608695654,0.43478260869565216,0.0,0.34782608695652173,0.08695652173913043,0.4782608695652174,0.0,0.43478260869565216,0.391304347826087,0.34782608695652173,0.5652173913043478,0.0,0.0,0.08695652173913043,0.4782608695652174,0.6086956521739131,0.21739130434782608,0.5217391304347826,0.043478260869565216,0.13043478260869565,0.08695652173913043,0.0,0.2608695652173913,0.043478260869565216,0.0,0.17391304347826086,0.6086956521739131,0.4782608695652174,0.391304347826087,0.21739130434782608,0.43478260869565216,0.17391304347826086,0.08695652173913043,0.30434782608695654,0.0,0.0,0.043478260869565216,0.6521739130434783,0.0,0.391304347826087,0.8695652173913043,0.5217391304347826,0.043478260869565216,0.5217391304347826,0.21739130434782608,0.043478260869565216,0.6086956521739131,0.08695652173913043,0.043478260869565216,0.34782608695652173,0.17391304347826086,0.391304347826087,0.2608695652173913,0.6086956521739131,0.6956521739130435,0.6521739130434783,0.21739130434782608,0.0,0.08695652173913043,0.5217391304347826,0.21739130434782608,0.17391304347826086,0.043478260869565216,0.2608695652173913,0.6086956521739131,0.17391304347826086,0.30434782608695654,0.0,0.6086956521739131,0.2608695652173913,0.2608695652173913,0.0,0.6521739130434783,0.391304347826087,0.0,0.043478260869565216,0.08695652173913043,0.2608695652173913,0.4782608695652174,0.5217391304347826,0.43478260869565216,0.0,0.8260869565217391,0.17391304347826086,0.30434782608695654,0.08695652173913043,0.0,0.7391304347826086,0.21739130434782608,0.17391304347826086,0.2608695652173913,0.21739130434782608,0.5652173913043478,0.6521739130434783,0.043478260869565216,0.043478260869565216,0.043478260869565216,0.43478260869565216,0.2608695652173913,0.21739130434782608,0.4782608695652174,0.13043478260869565,0.7391304347826086,0.34782608695652173,0.21739130434782608,0.043478260869565216,0.6521739130434783,0.2608695652173913,0.34782608695652173,0.17391304347826086,0.17391304347826086,0.5217391304347826,0.21739130434782608,0.43478260869565216,0.30434782608695654,0.391304347826087,0.0,0.043478260869565216,0.43478260869565216,0.5652173913043478,0.0,0.0,0.391304347826087,0.0,0.5652173913043478,0.6521739130434783,0.043478260869565216,0.34782608695652173,0.5217391304347826,0.34782608695652173,0.5217391304347826,0.0,0.13043478260869565,0.30434782608695654,0.17391304347826086,0.8695652173913043,0.08695652173913043,0.0,0.4782608695652174,0.08695652173913043,0.0,0.30434782608695654,0.08695652173913043,0.0,0.30434782608695654,0.391304347826087,0.13043478260869565,0.21739130434782608,0.043478260869565216,0.391304347826087,0.0,0.2608695652173913,0.34782608695652173,0.2608695652173913,0.21739130434782608,0.0,0.0,0.0,0.6086956521739131,0.4782608695652174,0.30434782608695654,0.043478260869565216,0.391304347826087,0.17391304347826086,0.34782608695652173,0.043478260869565216,0.0,0.2608695652173913,0.30434782608695654,0.043478260869565216,0.21739130434782608,0.391304347826087,0.043478260869565216,0.21739130434782608,0.0,0.17391304347826086,0.4782608695652174,0.043478260869565216,0.0,0.043478260869565216,0.782608695652174,0.21739130434782608,0.17391304347826086,0.17391304347826086,0.0,0.043478260869565216,0.0,0.0,0.2608695652173913,0.391304347826087,0.0,0.0,0.34782608695652173,0.34782608695652173,0.34782608695652173,0.043478260869565216,0.30434782608695654,0.6086956521739131,0.17391304347826086,0.391304347826087,0.6086956521739131,0.0,0.6521739130434783,0.0,0.391304347826087,0.6956521739130435,0.08695652173913043,0.13043478260869565,0.30434782608695654,0.43478260869565216,0.043478260869565216,0.0,0.13043478260869565,0.0,0.34782608695652173,0.43478260869565216,0.34782608695652173,0.6956521739130435,0.2608695652173913,0.30434782608695654,0.17391304347826086,0.21739130434782608,0.043478260869565216,0.4782608695652174,0.5217391304347826,0.2608695652173913,0.13043478260869565,0.0,0.08695652173913043]},{\"axis\":{\"matches\":true},\"label\":\"Apps\",\"values\":[0.2895104895104895,0.0,0.044755244755244755,0.1006993006993007,0.0013986013986013986,0.47412587412587415,0.0013986013986013986,0.1874125874125874,0.33706293706293705,0.0,0.04195804195804196,0.14825174825174825,0.2951048951048951,0.0,0.1916083916083916,0.25034965034965034,0.008391608391608392,0.004195804195804196,0.4013986013986014,0.17342657342657342,0.06013986013986014,0.16643356643356644,0.06573426573426573,0.34685314685314683,0.16923076923076924,0.29790209790209793,0.4,0.07832167832167833,0.21958041958041957,0.2517482517482518,0.2013986013986014,0.0,0.12727272727272726,0.31608391608391606,0.0,0.23356643356643356,0.4853146853146853,0.03496503496503497,0.2601398601398601,0.02937062937062937,0.04055944055944056,0.0,0.24055944055944056,0.07832167832167833,0.1958041958041958,0.0,0.1258741258741259,0.21818181818181817,0.24895104895104894,0.0951048951048951,0.1972027972027972,0.17342657342657342,0.2881118881118881,0.8293706293706293,0.3076923076923077,0.16083916083916083,0.08811188811188811,0.206993006993007,0.006993006993006993,0.5636363636363636,0.0,0.37902097902097903,0.5118881118881119,0.2545454545454545,0.42097902097902096,0.3706293706293706,0.3594405594405594,0.34545454545454546,0.0,0.06153846153846154,0.2699300699300699,0.23496503496503496,0.046153846153846156,0.16363636363636364,0.06013986013986014,0.002797202797202797,0.023776223776223775,0.0,0.4,0.34265734265734266,0.0,0.14545454545454545,0.3804195804195804,0.0,0.0,0.1034965034965035,0.08951048951048951,0.5146853146853146,0.039160839160839164,0.27692307692307694,0.3986013986013986,0.006993006993006993,0.0,0.3776223776223776,0.3230769230769231,0.18181818181818182,0.586013986013986,0.6405594405594406,0.4951048951048951,0.28251748251748254,0.22797202797202798,0.17062937062937064,0.05874125874125874,0.0,0.24755244755244754,0.34825174825174826,0.006993006993006993,0.16783216783216784,0.05454545454545454,0.008391608391608392,0.08111888111888112,0.15804195804195803,0.0,0.17762237762237762,0.3174825174825175,0.4937062937062937,0.33146853146853145,0.5132867132867133,0.0937062937062937,0.18181818181818182,0.11188811188811189,0.35384615384615387,0.3062937062937063,0.18321678321678322,0.15104895104895105,0.0,0.02937062937062937,0.4195804195804196,0.0937062937062937,0.08951048951048951,0.193006993006993,0.0,0.012587412587412588,0.18601398601398603,0.3958041958041958,0.765034965034965,0.3328671328671329,0.009790209790209791,0.17762237762237762,0.25594405594405595,0.11188811188811189,0.26573426573426573,0.0,0.1972027972027972,0.11328671328671329,0.0013986013986013986,0.386013986013986,0.4965034965034965,0.7314685314685314,0.15664335664335666,0.5650349650349651,0.0,0.1958041958041958,0.08811188811188811,0.006993006993006993,0.2,0.1034965034965035,0.4307692307692308,0.4643356643356643,0.36923076923076925,0.0,0.5678321678321678,0.2629370629370629,0.35104895104895106,0.9300699300699301,0.0,0.08531468531468532,0.3300699300699301,0.12307692307692308,0.0,0.0,0.15804195804195803,0.1902097902097902,0.18041958041958042,0.4993006993006993,0.3594405594405594,0.02097902097902098,0.0,0.11328671328671329,0.06573426573426573,0.17062937062937064,0.4461538461538462,0.0,0.0937062937062937,0.49230769230769234,0.032167832167832165,0.17902097902097902,0.006993006993006993,0.022377622377622378,0.6671328671328671,0.0,0.009790209790209791,0.32447552447552447,0.4489510489510489,0.11608391608391608,0.44195804195804195,0.12727272727272726,0.0,0.2951048951048951,0.16363636363636364,0.4909090909090909,0.3622377622377622,0.5748251748251748,0.2699300699300699,0.13286713286713286,0.046153846153846156,0.46293706293706294,0.04195804195804196,0.002797202797202797,0.12727272727272726,0.02097902097902098,0.0,0.06573426573426573,0.08251748251748252,0.6223776223776224,0.24755244755244754,0.0,0.08811188811188811,0.17482517482517482,0.0,0.14545454545454545,0.13426573426573427,0.14545454545454545,0.0013986013986013986,0.0,0.2517482517482518,0.37202797202797205,0.0,0.22657342657342658,0.2867132867132867,0.1902097902097902,0.5972027972027972,0.45034965034965035,0.1258741258741259,0.2993006993006993,0.2951048951048951,0.37622377622377623,0.0,0.009790209790209791,0.0,0.3048951048951049,0.4979020979020979,0.05874125874125874,0.26153846153846155,0.0,0.3258741258741259,0.3300699300699301,0.46293706293706294,0.2125874125874126,0.3230769230769231,0.0965034965034965,0.26713286713286716,0.1034965034965035,0.2895104895104895,0.02097902097902098,0.37902097902097903,0.4027972027972028,0.03496503496503497,0.18601398601398603,0.17482517482517482,0.3062937062937063,0.4643356643356643,0.07832167832167833,0.0,0.16363636363636364,0.0,0.23636363636363636,0.21818181818181817,0.4965034965034965,0.14685314685314685,0.0,0.11608391608391608,0.5496503496503496,0.15104895104895105,0.0,0.0,0.43776223776223777,0.07972027972027972,0.11888111888111888,0.579020979020979,0.34405594405594403,0.5552447552447553,0.0993006993006993,0.10909090909090909,0.33426573426573425,0.04195804195804196,0.5132867132867133,0.019580419580419582,0.6601398601398601,0.1944055944055944,0.18321678321678322,0.1034965034965035,0.23636363636363636,0.0,0.005594405594405594,0.08951048951048951,0.0013986013986013986,0.008391608391608392,0.24755244755244754,0.0,0.25034965034965034,0.06573426573426573,0.45034965034965035,0.3118881118881119,0.0,0.002797202797202797,0.07832167832167833,0.0013986013986013986,0.013986013986013986,0.3776223776223776,0.3412587412587413,0.0,0.23916083916083916,0.09230769230769231,0.12727272727272726,0.1062937062937063,0.004195804195804196,0.03496503496503497,0.0,0.07692307692307693,0.0993006993006993,0.6167832167832168,0.6083916083916084,0.04895104895104895,0.26713286713286716,0.25034965034965034,0.5076923076923077,0.7622377622377622,0.34685314685314683,0.6713286713286714,0.05874125874125874,0.25314685314685315,0.0,0.33986013986013985,0.193006993006993,0.0,0.057342657342657345,0.09090909090909091,0.2517482517482518,0.3048951048951049,0.3958041958041958,0.2517482517482518,0.46153846153846156,0.4097902097902098,0.0,0.18461538461538463,0.2895104895104895,0.7818181818181819,0.009790209790209791,0.0,0.008391608391608392,0.0,0.0,0.35804195804195804,0.43636363636363634,0.15944055944055943,0.1874125874125874,0.24895104895104894,0.18461538461538463,0.1972027972027972,0.8741258741258742,0.24475524475524477,0.0,0.0,0.38461538461538464,0.36923076923076925,0.26573426573426573,0.0,0.23496503496503496,0.2727272727272727,0.45454545454545453,0.5048951048951049,0.1944055944055944,0.3916083916083916,0.0,0.4405594405594406,0.5426573426573427,0.12867132867132866,0.43916083916083914,0.015384615384615385,0.0,0.2895104895104895,0.0013986013986013986,0.23496503496503496,0.14545454545454545,0.04055944055944056,0.06013986013986014,0.1986013986013986,0.0,0.406993006993007,0.32167832167832167,0.4223776223776224,0.1258741258741259,0.15104895104895105,0.25594405594405595,0.0,0.6937062937062937,0.25594405594405595,0.015384615384615385,0.2125874125874126,0.06993006993006994,0.5370629370629371,0.17902097902097902,0.26713286713286716,0.2153846153846154,0.2993006993006993,0.3972027972027972,0.0,0.38741258741258744,0.11748251748251748,0.0,0.35244755244755244,0.05034965034965035,0.38461538461538464,0.044755244755244755,0.22517482517482518,0.009790209790209791,0.0,0.0,0.006993006993006993,0.2097902097902098,0.0,0.08671328671328671,0.1006993006993007,0.4013986013986014,0.006993006993006993,0.11328671328671329,0.05874125874125874,0.02097902097902098,0.386013986013986,0.013986013986013986,0.22237762237762237,0.3356643356643357,0.005594405594405594,0.07832167832167833,0.25874125874125875,0.24475524475524477,0.3804195804195804,0.05874125874125874,0.006993006993006993,0.05874125874125874,0.15524475524475526,0.33146853146853145,0.24895104895104894,0.3944055944055944,0.27692307692307694,0.2965034965034965,0.27692307692307694,0.0,0.10909090909090909,0.2881118881118881,0.5020979020979021,0.0,0.15524475524475526,0.4951048951048951,0.17482517482517482,0.002797202797202797,0.006993006993006993,0.1944055944055944,0.1958041958041958,0.0,0.004195804195804196,0.21818181818181817,0.0,0.5636363636363636,0.23076923076923078,0.4671328671328671,0.24755244755244754,0.32867132867132864,0.3146853146853147,0.2545454545454545,0.1958041958041958,0.1944055944055944,0.11608391608391608,0.0,0.008391608391608392,0.12307692307692308,0.2041958041958042,0.13566433566433567,0.0,0.0013986013986013986,0.0,0.5104895104895105,0.206993006993007,0.5048951048951049,0.36643356643356645,0.5916083916083916,0.44195804195804195,0.27132867132867133,0.5076923076923077,0.0,0.009790209790209791,0.027972027972027972,0.3804195804195804,0.2013986013986014,0.5020979020979021,0.2573426573426573,0.1888111888111888,0.13846153846153847,0.3986013986013986,0.04195804195804196,0.31608391608391606,0.0937062937062937,0.013986013986013986,0.0,0.14125874125874127,0.34825174825174826,0.0,0.11188811188811189,0.3902097902097902,0.4671328671328671,0.14685314685314685,0.06993006993006994,0.41818181818181815,0.13566433566433567,0.008391608391608392,0.02937062937062937,0.26433566433566436,0.4041958041958042,0.11188811188811189,0.4937062937062937,0.17482517482517482,0.0,0.6671328671328671,0.07832167832167833,0.1020979020979021,0.0,0.2965034965034965,0.002797202797202797,0.23076923076923078,0.393006993006993,0.03636363636363636,0.046153846153846156,0.0,0.11888111888111888,0.1944055944055944,0.0,0.3594405594405594,0.06433566433566433,0.07972027972027972,0.005594405594405594,0.3888111888111888,0.4979020979020979,0.006993006993006993,0.046153846153846156,0.0,0.11048951048951049,0.24755244755244754,0.0,0.36643356643356645,0.4461538461538462,0.0,0.0,0.0,0.4937062937062937,0.3594405594405594,0.032167832167832165,0.2699300699300699,0.11328671328671329,0.32727272727272727,0.009790209790209791,0.14265734265734265,0.1916083916083916,0.0,0.2839160839160839,0.0013986013986013986,0.06853146853146853,0.0,0.2083916083916084,0.1062937062937063,0.4125874125874126,0.12167832167832168,0.05314685314685315,0.5888111888111888,0.0,0.3678321678321678,0.3020979020979021,0.23636363636363636,0.006993006993006993,0.0,0.43496503496503497,0.2517482517482518,0.0,0.07412587412587412,0.0,0.31608391608391606,0.5454545454545454,0.0,0.3902097902097902,0.023776223776223775,0.0,0.0,0.40559440559440557,0.009790209790209791,0.5412587412587413,0.0,0.03636363636363636,0.3230769230769231,0.0,0.0,0.0,0.005594405594405594,0.8097902097902098,0.08951048951048951,0.006993006993006993,0.0,0.43636363636363634,0.05454545454545454,0.019580419580419582,0.0,0.46153846153846156,0.004195804195804196,0.0,0.5356643356643357,0.4489510489510489,0.0,0.0,0.0,0.0,0.023776223776223775,0.0,0.24895104895104894,0.3706293706293706,0.23636363636363636,0.6223776223776224,0.0013986013986013986,0.1076923076923077,0.5272727272727272,0.22517482517482518,0.043356643356643354,0.008391608391608392,0.25594405594405595,0.019580419580419582,0.45034965034965035,0.1048951048951049,0.2041958041958042,0.027972027972027972,0.027972027972027972,0.05034965034965035,0.37902097902097903,0.1874125874125874,0.4,0.057342657342657345,0.6909090909090909,0.0,0.5622377622377622,0.43496503496503497,0.08391608391608392,0.1020979020979021,0.42377622377622376,0.0965034965034965,0.12727272727272726,0.004195804195804196,0.11328671328671329,0.08391608391608392,0.2041958041958042,0.1258741258741259,0.0,0.0,0.25594405594405595,0.04755244755244755,0.28251748251748254,0.07272727272727272,0.0,0.26573426573426573,0.3076923076923077,0.17622377622377622,0.3132867132867133,0.35244755244755244,0.2965034965034965,0.0013986013986013986,0.0,0.0,0.35244755244755244,0.11328671328671329,0.4937062937062937,0.0,0.0,0.023776223776223775,0.27412587412587414,0.44475524475524475,0.23356643356643356,0.2517482517482518,0.1874125874125874,0.0,0.2839160839160839,0.0,0.365034965034965,0.08811188811188811,0.17482517482517482,0.2993006993006993,0.36643356643356645,0.7692307692307693,0.006993006993006993,0.6181818181818182,0.24475524475524477,0.3034965034965035,0.0,0.0951048951048951,0.0,0.12167832167832168,0.0,0.0,0.002797202797202797,0.0,0.0,0.32867132867132864,0.004195804195804196,0.0,0.0,0.11888111888111888,0.0,0.11888111888111888,0.14545454545454545,0.36643356643356645,0.48671328671328673,0.23076923076923078,0.21818181818181817,0.3034965034965035,0.3678321678321678,0.0,0.1986013986013986,0.5384615384615384,0.011188811188811189,0.22377622377622378,0.2097902097902098,0.33706293706293705,0.27412587412587414,0.0,0.1062937062937063,0.23356643356643356,0.25314685314685315,0.0,0.043356643356643354,0.0,0.26713286713286716,0.14965034965034965,0.0,0.18461538461538463,0.13846153846153847,0.24475524475524477,0.1076923076923077,0.3300699300699301,0.5496503496503496,0.0,0.1006993006993007,0.0013986013986013986,0.0,0.0,0.5216783216783217,0.5594405594405595,0.0013986013986013986,0.04755244755244755,0.13846153846153847,0.0,0.002797202797202797,0.0,0.12727272727272726,0.04195804195804196,0.09090909090909091,0.1958041958041958,0.12167832167832168,0.25314685314685315,0.08251748251748252,0.2839160839160839,0.06433566433566433,0.2601398601398601,0.2881118881118881,0.26153846153846155,0.12447552447552447,0.24195804195804196,0.0,0.5496503496503496,0.31608391608391606,0.37902097902097903,0.23916083916083916,0.1916083916083916,0.0,0.04055944055944056,0.3944055944055944,0.0,0.0,0.07692307692307693,0.32727272727272727,0.17062937062937064,0.16783216783216784,0.29790209790209793,0.14545454545454545,0.013986013986013986,0.21678321678321677,0.009790209790209791,0.08391608391608392,0.016783216783216783,0.18461538461538463,0.25874125874125875,0.3048951048951049,0.23356643356643356,0.13706293706293707,0.35244755244755244,0.32167832167832167,0.0,0.03076923076923077,0.1048951048951049,0.033566433566433566,0.13706293706293707,0.5048951048951049,0.0,0.4699300699300699,0.25034965034965034,0.13006993006993006,0.18181818181818182,0.17482517482517482,0.23356643356643356,0.14405594405594405,0.005594405594405594,0.005594405594405594,0.42657342657342656,0.22797202797202798,0.0,0.0013986013986013986,0.008391608391608392,0.0951048951048951,0.4083916083916084,0.5062937062937063,0.0,0.34825174825174826,0.0,0.21678321678321677,0.2517482517482518,0.45734265734265733,0.4489510489510489,0.0013986013986013986,0.44475524475524475,0.5188811188811189,0.27972027972027974,0.06713286713286713,0.04195804195804196,0.3356643356643357,0.15524475524475526,0.022377622377622378,0.16783216783216784,0.0,0.12307692307692308,0.0,0.0,0.1874125874125874,0.0,0.11748251748251748,0.3048951048951049,0.1916083916083916,0.31888111888111886,0.2867132867132867,0.17202797202797201,0.0,0.26853146853146853,0.039160839160839164,0.0,0.15384615384615385,0.3104895104895105,0.3258741258741259,0.2111888111888112,0.16503496503496504,0.2013986013986014,0.21958041958041957,0.08811188811188811,0.2881118881118881,0.02097902097902098,0.3916083916083916,0.4643356643356643,0.16363636363636364,0.2881118881118881,0.0,0.5398601398601398,0.12027972027972028,0.12727272727272726,0.27412587412587414,0.08251748251748252,0.21958041958041957,0.6685314685314685,0.002797202797202797,0.10909090909090909,0.006993006993006993,0.3412587412587413,0.16783216783216784,0.07132867132867132,0.06853146853146853,0.05034965034965035,0.406993006993007,0.04755244755244755,0.0,0.38741258741258744,0.06853146853146853,0.17202797202797201,0.01818181818181818,0.45874125874125876,0.24475524475524477,0.4307692307692308,0.1076923076923077,0.213986013986014,0.07272727272727272,0.0,0.0,0.3804195804195804,0.011188811188811189,0.2013986013986014,0.06433566433566433,0.5118881118881119,0.13846153846153847,0.24615384615384617,0.5524475524475524,0.02937062937062937,0.0,0.34965034965034963,0.03636363636363636,0.4783216783216783,0.0,0.13566433566433567,0.32447552447552447,0.35384615384615387,0.27972027972027974,0.21818181818181817,0.2517482517482518,0.0,0.2839160839160839,0.15664335664335666,0.45594405594405596,0.3062937062937063,0.5076923076923077,0.44755244755244755,0.11048951048951049,0.0,0.043356643356643354,0.0993006993006993,0.08391608391608392,0.32447552447552447,0.2097902097902098,0.3090909090909091,0.05874125874125874,0.2153846153846154,0.012587412587412588,0.33986013986013985,0.046153846153846156,0.0,0.2965034965034965,0.17202797202797201,0.206993006993007,0.11048951048951049,0.0013986013986013986,0.0,0.04755244755244755,0.11888111888111888,0.24475524475524477,0.0,0.12447552447552447,0.23076923076923078,0.06853146853146853,0.0,0.37202797202797205,0.16363636363636364,0.0,0.3832167832167832,0.01818181818181818,0.11608391608391608,0.0,0.057342657342657345,0.0,0.46293706293706294,0.11888111888111888,0.019580419580419582,0.2097902097902098,0.1258741258741259,0.6741258741258741,0.48951048951048953,0.34965034965034963,0.12027972027972028,0.48671328671328673,0.2545454545454545,0.06713286713286713,0.005594405594405594,0.06433566433566433,0.18041958041958042,0.07832167832167833,0.2573426573426573,0.0013986013986013986,0.4783216783216783,0.009790209790209791,0.26713286713286716,0.008391608391608392,0.33986013986013985,0.009790209790209791,0.25034965034965034,0.008391608391608392,0.25874125874125875,0.21818181818181817,0.004195804195804196,0.34405594405594403,0.3412587412587413,0.004195804195804196,0.023776223776223775,0.0,0.055944055944055944,0.24755244755244754,0.006993006993006993,0.0,0.25594405594405595,0.046153846153846156,0.45454545454545453,0.45454545454545453,0.02937062937062937,0.1888111888111888,0.011188811188811189,0.22797202797202798,0.0,0.04895104895104895,0.44755244755244755,0.1076923076923077,0.0,0.2867132867132867,0.1944055944055944,0.0,0.5734265734265734,0.11748251748251748,0.5594405594405595,0.3776223776223776,0.0,0.2783216783216783,0.24335664335664337,0.38741258741258744,0.0,0.3328671328671329,0.12727272727272726,0.3594405594405594,0.07552447552447553,0.0,0.3146853146853147,0.11048951048951049,0.07412587412587412,0.43216783216783217,0.0,0.4111888111888112,0.23636363636363636,0.5762237762237762,0.22237762237762237,0.008391608391608392,0.2153846153846154,0.1888111888111888,0.206993006993007,0.3076923076923077,0.004195804195804196,0.0,0.0965034965034965,0.14545454545454545,0.0,0.06993006993006994,0.09230769230769231,0.28251748251748254,0.23636363636363636,0.48671328671328673,0.016783216783216783,0.1062937062937063,0.2853146853146853,0.24475524475524477,0.015384615384615385,0.4783216783216783,0.18321678321678322,0.03636363636363636,0.13286713286713286,0.16363636363636364,0.05034965034965035,0.35384615384615387,0.3020979020979021,0.004195804195804196,0.17482517482517482,0.17482517482517482,0.43496503496503497,0.0,0.5132867132867133,0.213986013986014,0.2839160839160839,0.0,0.09090909090909091,0.24475524475524477,0.3734265734265734,0.2839160839160839,0.11888111888111888,0.5874125874125874,0.07692307692307693,0.011188811188811189,0.21678321678321677,0.5902097902097903,0.0,0.2517482517482518,0.006993006993006993,0.5566433566433566,0.0,0.0,0.193006993006993,0.0,0.0,0.25034965034965034,0.38741258741258744,0.23356643356643356,0.08111888111888112,0.0,0.0,0.17062937062937064,0.14825174825174825,0.3230769230769231,0.3804195804195804,0.0,0.0013986013986013986,0.2097902097902098,0.32167832167832167,0.13426573426573427,0.7594405594405594,0.11468531468531469,0.2699300699300699,0.1034965034965035,0.24195804195804196,0.45734265734265733,0.13986013986013987,0.18181818181818182,0.13566433566433567,0.0,0.17342657342657342,0.03076923076923077,0.0,0.1048951048951049,0.16363636363636364,0.0,0.0965034965034965,0.3132867132867133,0.5300699300699301,0.0,0.24055944055944056,0.427972027972028,0.10909090909090909,0.0,0.2937062937062937,0.13566433566433567,0.0,0.18461538461538463,0.22657342657342658,0.03776223776223776,0.04755244755244755,0.4489510489510489,0.3048951048951049,0.07692307692307693,0.14125874125874127,0.3034965034965035,0.2853146853146853,0.1972027972027972,0.0,0.45034965034965035,0.11748251748251748,0.0,0.3132867132867133,0.5356643356643357,0.32727272727272727,0.002797202797202797,0.2601398601398601,0.5244755244755245,0.22237762237762237,0.1972027972027972,0.005594405594405594,0.1062937062937063,0.2,0.12867132867132866,0.18461538461538463,0.20279720279720279,0.22657342657342658,0.16783216783216784,0.1958041958041958,0.22937062937062938,0.24895104895104894,0.08671328671328671,0.43776223776223777,0.2881118881118881,0.0,0.07692307692307693,0.17482517482517482,0.35244755244755244,0.2951048951048951,0.13706293706293707,0.06433566433566433,0.1034965034965035,0.17762237762237762,0.13846153846153847,0.0,0.033566433566433566,0.16223776223776223,0.015384615384615385,0.13566433566433567,0.023776223776223775,0.039160839160839164,0.0,0.33426573426573425,0.0,0.2111888111888112,0.2699300699300699,0.022377622377622378,0.21678321678321677,0.42377622377622376,0.0,0.0,0.7440559440559441,0.0,0.08391608391608392,0.5286713286713287,0.3020979020979021,0.032167832167832165,0.07412587412587412,0.0,0.22657342657342658,0.3412587412587413,0.37622377622377623,0.0,0.0013986013986013986,0.0,0.3594405594405594,0.002797202797202797,0.04755244755244755,0.27972027972027974,0.4797202797202797,0.2629370629370629,0.0,0.0,0.34405594405594403,0.12867132867132866,0.3986013986013986,0.022377622377622378,0.2937062937062937,0.6125874125874126,0.3622377622377622,0.1958041958041958,0.13706293706293707,0.27972027972027974,0.24335664335664337,0.07972027972027972,0.27972027972027974,0.0,0.4727272727272727,0.15524475524475526,0.0,0.0013986013986013986,0.3048951048951049,0.4405594405594406,0.22097902097902097,0.3132867132867133,0.01818181818181818,0.07132867132867132,0.022377622377622378,0.3048951048951049,0.1076923076923077,0.18321678321678322,0.26713286713286716,0.0,0.07832167832167833,0.5034965034965035,0.5146853146853146,0.38461538461538464,0.07552447552447553,0.42377622377622376,0.0,0.12727272727272726,0.0013986013986013986,0.4643356643356643,0.13006993006993006,0.04195804195804196,0.4013986013986014,0.0,0.3118881118881119,0.1006993006993007,0.016783216783216783,0.5188811188811189,0.213986013986014,0.01818181818181818,0.1258741258741259,0.23496503496503496,0.06153846153846154,0.019580419580419582,0.6755244755244755,0.0,0.0,0.4951048951048951,0.27412587412587414,0.0013986013986013986,0.5636363636363636,0.026573426573426574,0.0,0.2601398601398601,0.1944055944055944,0.0,0.3090909090909091,0.2965034965034965,0.34965034965034963,0.005594405594405594,0.0,0.14125874125874127,0.0,0.0,0.046153846153846156,0.005594405594405594,0.1062937062937063,0.06013986013986014,0.24195804195804196,0.15104895104895105,0.427972027972028,0.17342657342657342,0.0,0.5678321678321678,0.33706293706293705,0.4195804195804196,0.026573426573426574,0.0,0.039160839160839164,0.2895104895104895,0.08391608391608392,0.2055944055944056,0.033566433566433566,0.5496503496503496,0.393006993006993,0.0,0.5804195804195804,0.008391608391608392,0.1062937062937063,0.43496503496503497,0.43776223776223777,0.606993006993007,0.16223776223776223,0.5384615384615384,0.2,0.0,0.0,0.033566433566433566,0.0,0.0,0.012587412587412588,0.1076923076923077,0.006993006993006993,0.31888111888111886,0.4027972027972028,0.33426573426573425,0.37622377622377623,0.039160839160839164,0.36923076923076925,0.06713286713286713,0.27132867132867133,0.08111888111888112,0.14825174825174825,0.04895104895104895,0.13286713286713286,0.606993006993007,0.0,0.0013986013986013986,0.2041958041958042,0.0,0.0,0.15384615384615385,0.0,0.09230769230769231,0.6545454545454545,0.11608391608391608,0.11608391608391608,0.20279720279720279,0.4797202797202797,0.12867132867132866,0.3916083916083916,0.0,0.579020979020979,0.005594405594405594,0.36363636363636365,0.14825174825174825,0.37902097902097903,0.09230769230769231,0.4783216783216783,0.0,0.3356643356643357,0.5076923076923077,0.03496503496503497,0.0013986013986013986,0.026573426573426574,0.4783216783216783,0.3258741258741259,0.0013986013986013986,0.0,0.05174825174825175,0.21678321678321677,0.06433566433566433,0.22937062937062938,0.5034965034965035,0.07412587412587412,0.03636363636363636,0.35804195804195804,0.0,0.17062937062937064,0.05034965034965035,0.17622377622377622,0.0,0.43356643356643354,0.25314685314685315,0.04895104895104895,0.0013986013986013986,0.2111888111888112,0.26713286713286716,0.0,0.023776223776223775,0.25034965034965034,0.5244755244755245,0.04755244755244755,0.25594405594405595,0.16363636363636364,0.45874125874125876,0.18041958041958042,0.0013986013986013986,0.002797202797202797,0.3076923076923077,0.3328671328671329,0.0979020979020979,0.22657342657342658,0.32867132867132864,0.013986013986013986,0.025174825174825177,0.07412587412587412,0.0013986013986013986,0.08111888111888112,0.3804195804195804,0.015384615384615385,0.1902097902097902,0.2853146853146853,0.2545454545454545,0.35384615384615387,0.3706293706293706,0.14405594405594405,0.2755244755244755,0.08391608391608392,0.23216783216783216,0.2867132867132867,0.0,0.4125874125874126,0.004195804195804196,0.0,0.0,0.0,0.0,0.2517482517482518,0.38461538461538464,0.0,0.0,0.0,0.07132867132867132,0.08251748251748252,0.0,0.1048951048951049,0.0013986013986013986,0.09090909090909091,0.5664335664335665,0.2083916083916084,0.0,0.11608391608391608,0.3062937062937063,0.0,0.27972027972027974,0.16643356643356644,0.0,0.006993006993006993,0.0993006993006993,0.0013986013986013986,0.5426573426573427,0.16923076923076924,0.022377622377622378,0.4755244755244755,0.27972027972027974,0.45734265734265733,0.3146853146853147,0.2,0.06713286713286713,0.02937062937062937,0.48951048951048953,0.2895104895104895,0.5650349650349651,0.3132867132867133,0.4825174825174825,0.5874125874125874,0.14685314685314685,0.0,0.24755244755244754,0.07692307692307693,0.5566433566433566,0.25874125874125875,0.14125874125874127,0.18601398601398603,0.14545454545454545,0.2125874125874126,0.34965034965034963,0.07552447552447553,0.14265734265734265,0.8181818181818182,0.07832167832167833,0.0,0.3356643356643357,0.15384615384615385,0.6,0.0979020979020979,0.23916083916083916,0.24475524475524477,0.027972027972027972,0.055944055944055944,0.5230769230769231,0.005594405594405594,0.32447552447552447,0.0,0.07832167832167833,0.14125874125874127,0.0,0.33426573426573425,0.009790209790209791,0.0013986013986013986,0.11468531468531469,0.23216783216783216,0.34545454545454546,0.005594405594405594,0.12307692307692308,0.27132867132867133,0.2853146853146853,0.2629370629370629,0.5594405594405595,0.66993006993007,0.0,0.3888111888111888,0.36923076923076925,0.055944055944055944,0.0,0.2699300699300699,0.3678321678321678,0.43356643356643354,0.0,0.43496503496503497,0.4783216783216783,0.5104895104895105,0.0,0.17342657342657342,0.16643356643356644,0.0,0.6265734265734266,0.6237762237762238,0.009790209790209791,0.12867132867132866,0.1902097902097902,0.33426573426573425,0.0,0.12447552447552447,0.2923076923076923,0.17762237762237762,0.0,0.3706293706293706,0.0,0.44475524475524475,0.02097902097902098,0.07272727272727272,0.0,0.45174825174825173,0.3916083916083916,0.0,0.0,0.14405594405594405,0.206993006993007,0.019580419580419582,0.6727272727272727,0.08811188811188811,0.4195804195804196,0.22237762237762237,0.06713286713286713,0.013986013986013986,0.45874125874125876,0.0,0.044755244755244755,0.0,0.25874125874125875,0.3076923076923077,0.43216783216783217,0.1902097902097902,0.13846153846153847,0.004195804195804196,0.35244755244755244,0.0,0.4083916083916084,0.13146853146853146,0.4797202797202797,0.35244755244755244,0.005594405594405594,0.45174825174825173,0.43216783216783217,0.17482517482517482,0.13146853146853146,0.5216783216783217,0.6923076923076923,0.4881118881118881,0.18461538461538463,0.057342657342657345,0.17202797202797201,0.0,0.5202797202797202,0.13986013986013987,0.07692307692307693,0.0013986013986013986,0.23776223776223776,0.02097902097902098,0.032167832167832165,0.13986013986013987,0.06853146853146853,0.0,0.32727272727272727,0.05174825174825175,0.0,0.21818181818181817,0.34965034965034963,0.14825174825174825,0.008391608391608392,0.0,0.12867132867132866,0.039160839160839164,0.0,0.016783216783216783,0.44755244755244755,0.16223776223776223,0.2811188811188811,0.7244755244755244,0.29790209790209793,0.013986013986013986,0.0013986013986013986,0.009790209790209791,0.0,0.12867132867132866,0.012587412587412588,0.0,0.03076923076923077,0.0,0.13846153846153847,0.0,0.02097902097902098,0.22097902097902097,0.0,0.043356643356643354,0.34685314685314683,0.14545454545454545,0.2853146853146853,0.08671328671328671,0.027972027972027972,0.0,0.36363636363636365,0.022377622377622378,0.2951048951048951,0.11748251748251748,0.2755244755244755,0.45314685314685316,0.26853146853146853,0.03636363636363636,0.0,0.36083916083916084,0.4153846153846154,0.016783216783216783,0.1958041958041958,0.6377622377622377,0.21678321678321677,0.0,0.13986013986013987,0.13146853146853146,0.16083916083916083,0.3146853146853147,0.34685314685314683,0.3034965034965035,0.24195804195804196,0.24195804195804196,0.1062937062937063,0.35524475524475524,0.2993006993006993,0.06153846153846154,0.057342657342657345,0.1986013986013986,0.04195804195804196,0.0,0.002797202797202797,0.21678321678321677,0.365034965034965,0.2909090909090909,0.12867132867132866,0.4125874125874126,0.0,0.08391608391608392,0.1986013986013986,0.16923076923076924,0.005594405594405594,0.33146853146853145,0.18041958041958042,0.4993006993006993,0.18601398601398603,0.32727272727272727,0.002797202797202797,0.1062937062937063,0.26573426573426573,0.3258741258741259,0.43916083916083914,0.025174825174825177,0.4699300699300699,0.6503496503496503,0.3300699300699301,0.7174825174825175,0.0,0.0,0.006993006993006993,0.4909090909090909,0.0,0.15524475524475526,0.004195804195804196,0.0,0.2937062937062937,0.06853146853146853,0.008391608391608392,0.032167832167832165,0.24615384615384617,0.0,0.46573426573426574,0.2923076923076923,0.025174825174825177,0.4251748251748252,0.413986013986014,0.34545454545454546,0.012587412587412588,0.6097902097902098,0.004195804195804196,0.044755244755244755,0.4699300699300699,0.14405594405594405,0.008391608391608392,0.0013986013986013986,0.1888111888111888,0.2923076923076923,0.365034965034965,0.1986013986013986,0.3384615384615385,0.35664335664335667,0.4461538461538462,0.23496503496503496,0.7020979020979021,0.36083916083916084,0.0,0.22657342657342658,0.509090909090909,0.11328671328671329,0.09090909090909091,0.0,0.1006993006993007,0.24195804195804196,0.40559440559440557,0.2013986013986014,0.16363636363636364,0.032167832167832165,0.06853146853146853,0.4433566433566434,0.0,0.0,0.22937062937062938,0.12307692307692308,0.45034965034965035,0.5132867132867133,0.06013986013986014,0.009790209790209791,0.2517482517482518,0.365034965034965,0.0,0.0,0.2881118881118881,0.04895104895104895,0.0,0.14405594405594405,0.33426573426573425,0.025174825174825177,0.2755244755244755,0.0,0.36363636363636365,0.23776223776223776,0.11888111888111888,0.3706293706293706,0.2993006993006993,0.0,0.09090909090909091,0.5034965034965035,0.0,0.07832167832167833,0.3832167832167832,0.22237762237762237,0.3076923076923077,0.3832167832167832,0.0013986013986013986,0.12307692307692308,0.2965034965034965,0.0,0.3986013986013986,0.2629370629370629,0.5160839160839161,0.0,0.0013986013986013986,0.28251748251748254,0.18461538461538463,0.11188811188811189,0.0,0.0,0.0,0.02937062937062937,0.0,0.12867132867132866,0.23776223776223776,0.7832167832167832,0.005594405594405594,0.0979020979020979,0.12727272727272726,0.0,0.4811188811188811,0.0,0.23916083916083916,0.18321678321678322,0.0,0.0,0.46573426573426574,0.3174825174825175,0.0013986013986013986,0.0,0.07552447552447553,0.03496503496503497,0.13566433566433567,0.0,0.25874125874125875,0.0,0.5174825174825175,0.05174825174825175,0.0979020979020979,0.13006993006993006,0.4167832167832168,0.09230769230769231,0.0,0.16083916083916083,0.36643356643356645,0.11748251748251748,0.05874125874125874,0.406993006993007,0.24195804195804196,0.8321678321678322,0.0951048951048951,0.0,0.06853146853146853,0.17622377622377622,0.193006993006993,0.213986013986014,0.5706293706293706,0.14825174825174825,0.05874125874125874,0.21958041958041957,0.0,0.12447552447552447,0.35244755244755244,0.13006993006993006,0.5706293706293706,0.26153846153846155,0.0,0.46013986013986014,0.22097902097902097,0.13706293706293707,0.558041958041958,0.06433566433566433,0.3832167832167832,0.046153846153846156,0.6307692307692307,0.08111888111888112,0.4671328671328671,0.1258741258741259,0.07132867132867132,0.0,0.032167832167832165,0.14685314685314685,0.46573426573426574,0.05174825174825175,0.002797202797202797,0.2111888111888112,0.06853146853146853,0.2013986013986014,0.27972027972027974,0.17902097902097902,0.427972027972028,0.009790209790209791,0.13286713286713286,0.45454545454545453,0.02097902097902098,0.36083916083916084,0.1062937062937063,0.0,0.0,0.5216783216783217,0.4013986013986014,0.005594405594405594,0.213986013986014,0.08531468531468532,0.03496503496503497,0.17762237762237762,0.393006993006993,0.26853146853146853,0.002797202797202797,0.4909090909090909,0.13566433566433567,0.20279720279720279,0.13146853146853146,0.0,0.206993006993007,0.3062937062937063,0.3734265734265734,0.2937062937062937,0.013986013986013986,0.11468531468531469,0.3062937062937063,0.0013986013986013986,0.1888111888111888,0.0,0.0979020979020979,0.5776223776223777,0.0013986013986013986,0.07132867132867132,0.5062937062937063,0.0,0.0,0.0013986013986013986,0.1048951048951049,0.0013986013986013986,0.05034965034965035,0.0,0.36363636363636365,0.03076923076923077,0.24475524475524477,0.2601398601398601,0.3076923076923077,0.11048951048951049,0.33146853146853145,0.0,0.0,0.0,0.31608391608391606,0.22797202797202798,0.07692307692307693,0.14265734265734265,0.009790209790209791,0.0,0.0,0.8391608391608392,0.36083916083916084,0.634965034965035,0.0013986013986013986,0.055944055944055944,0.11188811188811189,0.14965034965034965,0.0951048951048951,0.013986013986013986,0.7006993006993008,0.0,0.18041958041958042,0.02097902097902098,0.5300699300699301,0.2699300699300699,0.18181818181818182,0.15524475524475526,0.03076923076923077,0.06573426573426573,0.2867132867132867,0.5524475524475524,0.3034965034965035,0.004195804195804196,0.04195804195804196,0.45594405594405596,0.3146853146853147,0.004195804195804196,0.16643356643356644,0.15244755244755245,0.22797202797202798,0.07692307692307693,0.5076923076923077,0.2699300699300699,0.5706293706293706,0.2097902097902098,0.0,0.43216783216783217,0.2937062937062937,0.1986013986013986,0.4937062937062937,0.08111888111888112,0.026573426573426574,0.0,0.0,0.4951048951048951,0.0,0.008391608391608392,0.0013986013986013986,0.1944055944055944,0.0,0.0,0.11888111888111888,0.37622377622377623,0.2629370629370629,0.06013986013986014,0.3076923076923077,0.5468531468531469,0.5342657342657343,0.15384615384615385,0.4671328671328671,0.22657342657342658,0.2097902097902098,0.6195804195804195,0.2517482517482518,0.5874125874125874,0.2041958041958042,0.5188811188811189,0.1020979020979021,0.2951048951048951,0.0,0.3594405594405594,0.5062937062937063,0.08671328671328671,0.2125874125874126,0.002797202797202797,0.2965034965034965,0.0,0.0,0.5958041958041959,0.046153846153846156,0.3776223776223776,0.45734265734265733,0.004195804195804196,0.0013986013986013986,0.14965034965034965,0.04895104895104895,0.019580419580419582,0.23216783216783216,0.008391608391608392,0.1048951048951049,0.3300699300699301,0.08531468531468532,0.2727272727272727,0.03496503496503497,0.4881118881118881,0.21958041958041957,0.0,0.05454545454545454,0.14125874125874127,0.2867132867132867,0.07552447552447553,0.1076923076923077,0.21678321678321677,0.11468531468531469,0.06433566433566433,0.45454545454545453,0.0,0.044755244755244755,0.43216783216783217,0.05034965034965035,0.04195804195804196,0.37622377622377623,0.38461538461538464,0.4433566433566434,0.2909090909090909,0.08951048951048951,0.0,0.3020979020979021,0.044755244755244755,0.16083916083916083,0.05034965034965035,0.3006993006993007,0.06853146853146853,0.0,0.04055944055944056,0.0,0.0013986013986013986,0.0,0.2923076923076923,0.28251748251748254,0.0,0.16223776223776223,0.21678321678321677,0.14545454545454545,0.07272727272727272,0.3034965034965035,0.6013986013986014,0.055944055944055944,0.5454545454545454,0.2867132867132867,0.3062937062937063,0.15244755244755245,0.2629370629370629,0.7118881118881119,0.21958041958041957,0.44195804195804195,0.45454545454545453,0.41818181818181815,0.2923076923076923,0.16223776223776223,0.0,0.3384615384615385,0.0,0.22377622377622378,0.3146853146853147,0.4811188811188811,0.013986013986013986,0.4489510489510489,0.7328671328671329,0.36923076923076925,0.0,0.1888111888111888,0.34685314685314683,0.42657342657342656,0.43916083916083914,0.2895104895104895,0.46293706293706294,0.0,0.06013986013986014,0.15524475524475526,0.13706293706293707,0.09090909090909091,0.22797202797202798,0.15944055944055943,0.0,0.0,0.6,0.413986013986014,0.17482517482517482,0.004195804195804196,0.25314685314685315,0.0,0.0,0.3958041958041958,0.6601398601398601,0.06433566433566433,0.0,0.23076923076923078,0.04055944055944056,0.4489510489510489,0.2965034965034965,0.3048951048951049,0.14965034965034965,0.1034965034965035,0.25034965034965034,0.45174825174825173,0.2,0.06293706293706294,0.17482517482517482,0.14965034965034965,0.0,0.05314685314685315,0.023776223776223775,0.0,0.07692307692307693,0.04895104895104895,0.2853146853146853,0.2839160839160839,0.11328671328671329,0.0,0.3132867132867133,0.16923076923076924,0.03636363636363636,0.0,0.2055944055944056,0.3986013986013986,0.06993006993006994,0.37622377622377623,0.5244755244755245,0.32167832167832167,0.2951048951048951,0.06153846153846154,0.2573426573426573,0.0,0.4951048951048951,0.25594405594405595,0.5076923076923077,0.11188811188811189,0.24055944055944056,0.027972027972027972,0.015384615384615385,0.26853146853146853,0.026573426573426574,0.2755244755244755,0.43916083916083914,0.0,0.1258741258741259,0.0,0.1972027972027972,0.5384615384615384,0.1874125874125874,0.36923076923076925,0.0013986013986013986,0.0,0.0,0.0,0.0,0.14685314685314685,0.1972027972027972,0.5468531468531469,0.45314685314685316,0.22937062937062938,0.0,0.3146853146853147,0.17482517482517482,0.16083916083916083,0.3734265734265734,0.24755244755244754,0.42657342657342656,0.1916083916083916,0.23076923076923078,0.07552447552447553,0.4195804195804196,0.07412587412587412,0.0,0.0,0.011188811188811189,0.38181818181818183,0.2839160839160839,0.2853146853146853,0.03076923076923077,0.0,0.07832167832167833,0.365034965034965,0.0,0.4097902097902098,0.6055944055944056,0.0,0.07272727272727272,0.44195804195804195,0.027972027972027972,0.3174825174825175,0.1076923076923077,0.0013986013986013986,0.0,0.17342657342657342,0.40559440559440557,0.016783216783216783,0.5776223776223777,0.08391608391608392,0.0,0.26713286713286716,0.2895104895104895,0.0,0.12867132867132866,0.0,0.66993006993007,0.21818181818181817,0.06153846153846154,0.16643356643356644,0.0,0.046153846153846156,0.23916083916083916,0.2867132867132867,0.06713286713286713,0.42657342657342656,0.45874125874125876,0.17202797202797201,0.0013986013986013986,0.0,0.046153846153846156,0.043356643356643354,0.4013986013986014,0.12727272727272726,0.2517482517482518,0.213986013986014,0.2755244755244755,0.15104895104895105,0.06293706293706294,0.22937062937062938,0.36923076923076925,0.3776223776223776,0.18181818181818182,0.4433566433566434,0.009790209790209791,0.0,0.0979020979020979,0.43496503496503497,0.025174825174825177,0.43776223776223777,0.14825174825174825,0.14545454545454545,0.413986013986014,0.07832167832167833,0.6461538461538462,0.1034965034965035,0.551048951048951,0.5692307692307692,0.0013986013986013986,0.032167832167832165,0.3776223776223776,0.24755244755244754,0.3328671328671329,0.1986013986013986,0.3986013986013986,0.3048951048951049,0.009790209790209791,0.16503496503496504,0.05034965034965035,0.0013986013986013986,0.17482517482517482,0.46853146853146854,0.4965034965034965,0.26153846153846155,0.3048951048951049,0.0,0.3888111888111888,0.0,0.2727272727272727,0.37202797202797205,0.16223776223776223,0.006993006993006993,0.0,0.32447552447552447,0.22237762237762237,0.206993006993007,0.0,0.01818181818181818,0.14965034965034965,0.43776223776223777,0.23076923076923078,0.2013986013986014,0.3916083916083916,0.21678321678321677,0.2125874125874126,0.0,0.23916083916083916,0.48671328671328673,0.3048951048951049,0.24755244755244754,0.5846153846153846,0.25314685314685315,0.14125874125874127,0.37622377622377623,0.2153846153846154,0.0,0.0993006993006993,0.5342657342657343,0.12867132867132866,0.06993006993006994,0.28251748251748254,0.31888111888111886,0.17482517482517482,0.45314685314685316,0.002797202797202797,0.15804195804195803,0.48951048951048953,0.0,0.004195804195804196,0.0,0.13146853146853146,0.2573426573426573,0.38181818181818183,0.002797202797202797,0.2111888111888112,0.393006993006993,0.0,0.6237762237762238,0.032167832167832165,0.0,0.1048951048951049,0.013986013986013986,0.044755244755244755,0.14545454545454545,0.15104895104895105,0.3202797202797203,0.37622377622377623,0.3146853146853147,0.2909090909090909,0.0,0.2993006993006993,0.4643356643356643,0.4797202797202797,0.08391608391608392,0.0,0.3174825174825175,0.24615384615384617,0.3062937062937063,0.24055944055944056,0.03636363636363636,0.27412587412587414,0.14265734265734265,0.023776223776223775,0.004195804195804196,0.45174825174825173,0.25874125874125875,0.41818181818181815,0.15944055944055943,0.2125874125874126,0.06433566433566433,0.0,0.16503496503496504,0.14545454545454545,0.34545454545454546,0.002797202797202797,0.5174825174825175,0.3104895104895105,0.0,0.3062937062937063,0.0,0.06293706293706294,0.06853146853146853,0.5846153846153846,0.2125874125874126,0.5524475524475524,0.12867132867132866,0.01818181818181818,0.14825174825174825,0.26853146853146853,0.14545454545454545,0.35664335664335667,0.0,0.0937062937062937,0.0,0.0,0.2895104895104895,0.4797202797202797,0.022377622377622378,0.15804195804195803,0.24195804195804196,0.6839160839160839,0.0,0.025174825174825177,0.3804195804195804,0.40559440559440557,0.13006993006993006,0.46293706293706294,0.023776223776223775,0.1944055944055944,0.07692307692307693,0.015384615384615385,0.3006993006993007,0.32167832167832167,0.0,0.015384615384615385,0.31608391608391606,0.07692307692307693,0.22097902097902097,0.2923076923076923,0.26713286713286716,0.0,0.026573426573426574,0.039160839160839164,0.3174825174825175,0.4671328671328671,0.08391608391608392,0.043356643356643354,0.27972027972027974,0.0,0.08671328671328671,0.0951048951048951,0.4909090909090909,0.07132867132867132,0.16503496503496504,0.0,0.22797202797202798,0.2517482517482518,0.4167832167832168,0.2867132867132867,0.21958041958041957,0.36083916083916084,0.12867132867132866,0.022377622377622378,0.4433566433566434,0.5384615384615384,0.4671328671328671,0.1076923076923077,0.25034965034965034,0.4097902097902098,0.0,0.38741258741258744,0.18041958041958042,0.5804195804195804,0.0,0.23356643356643356,0.006993006993006993,0.0,0.24615384615384617,0.2111888111888112,0.16363636363636364,0.4783216783216783,0.22237762237762237,0.15804195804195803,0.3300699300699301,0.36923076923076925,0.1944055944055944,0.4461538461538462,0.039160839160839164,0.0,0.0,0.0,0.24335664335664337,0.35664335664335667,0.0,0.0,0.08391608391608392,0.16923076923076924,0.002797202797202797,0.2993006993006993,0.28251748251748254,0.14545454545454545,0.019580419580419582,0.17622377622377622,0.05034965034965035,0.0,0.34265734265734266,0.3076923076923077,0.34685314685314683,0.14965034965034965,0.07412587412587412,0.0,0.15804195804195803,0.0,0.0,0.0,0.0,0.3328671328671329,0.48671328671328673,0.08811188811188811,0.3594405594405594,0.45034965034965035,0.0,0.4083916083916084,0.4083916083916084,0.7608391608391608,0.033566433566433566,0.0013986013986013986,0.12307692307692308,0.04755244755244755,0.34265734265734266,0.1972027972027972,0.0,0.2,0.07832167832167833,0.033566433566433566,0.13146853146853146,0.15104895104895105,0.0,0.2965034965034965,0.0,0.0013986013986013986,0.023776223776223775,0.3888111888111888,0.12307692307692308,0.3020979020979021,0.022377622377622378,0.0,0.022377622377622378,0.1874125874125874,0.15524475524475526,0.23496503496503496,0.22797202797202798,0.26573426573426573,0.1944055944055944,0.04055944055944056,0.16923076923076924,0.4671328671328671,0.25034965034965034,0.13846153846153847,0.17902097902097902,0.06293706293706294,0.24335664335664337,0.0,0.08951048951048951,0.17482517482517482,0.32727272727272727,0.2699300699300699,0.22377622377622378,0.0,0.5160839160839161,0.4125874125874126,0.0,0.5804195804195804,0.07412587412587412,0.5342657342657343,0.2839160839160839,0.24895104895104894,0.38181818181818183,0.044755244755244755,0.0,0.0,0.1020979020979021,0.4937062937062937,0.21678321678321677,0.11748251748251748,0.24615384615384617,0.006993006993006993,0.016783216783216783,0.47692307692307695,0.0,0.17342657342657342,0.34545454545454546,0.13426573426573427,0.4167832167832168,0.14825174825174825,0.6713286713286714,0.027972027972027972,0.2881118881118881,0.0,0.18321678321678322,0.057342657342657345,0.006993006993006993,0.15944055944055943,0.03076923076923077,0.15944055944055943,0.17902097902097902,0.03076923076923077,0.4083916083916084,0.35384615384615387,0.03496503496503497,0.06013986013986014,0.03776223776223776,0.7174825174825175,0.3328671328671329,0.5202797202797202,0.193006993006993,0.33986013986013985,0.15524475524475526,0.22097902097902097,0.24335664335664337,0.45314685314685316,0.20279720279720279,0.23636363636363636,0.2083916083916084,0.15244755244755245,0.03496503496503497,0.05034965034965035,0.5216783216783217,0.0965034965034965,0.0,0.6391608391608392,0.2699300699300699,0.25314685314685315,0.05174825174825175,0.0,0.022377622377622378,0.46853146853146854,0.2895104895104895,0.27132867132867133,0.14405594405594405,0.37902097902097903,0.1076923076923077,0.1972027972027972,0.16083916083916083,0.0,0.0,0.004195804195804196,0.3706293706293706,0.0,0.28251748251748254,0.0979020979020979,0.1958041958041958,0.43356643356643354,0.05874125874125874,0.16363636363636364,0.4097902097902098,0.0,0.35384615384615387,0.011188811188811189,0.005594405594405594,0.3916083916083916,0.22237762237762237,0.0,0.23496503496503496,0.14405594405594405,0.2125874125874126,0.23636363636363636,0.06293706293706294,0.027972027972027972,0.0,0.07272727272727272,0.07552447552447553,0.22937062937062938,0.0,0.23076923076923078,0.3356643356643357,0.38461538461538464,0.23776223776223776,0.022377622377622378,0.11748251748251748,0.18461538461538463,0.43636363636363634,0.1076923076923077,0.0,0.01818181818181818,0.26153846153846155,0.013986013986013986,0.0,0.07132867132867132,0.0,0.33986013986013985,0.38461538461538464,0.025174825174825177,0.4671328671328671,0.0,0.4965034965034965,0.0,0.0,0.3090909090909091,0.2881118881118881,0.0,0.07832167832167833,0.0,0.14125874125874127,0.34685314685314683,0.0,0.32727272727272727,0.7230769230769231,0.0,0.5286713286713287,0.08671328671328671,0.0,0.3090909090909091,0.13146853146853146,0.0,0.0,0.22937062937062938,0.3146853146853147,0.1076923076923077,0.4097902097902098,0.13006993006993006,0.0,0.15524475524475526,0.13146853146853146,0.0,0.0,0.002797202797202797,0.26853146853146853,0.008391608391608392,0.11188811188811189,0.22937062937062938,0.34825174825174826,0.0,0.3300699300699301,0.0,0.08391608391608392,0.0,0.14265734265734265,0.4153846153846154,0.6447552447552447,0.07832167832167833,0.7286713286713287,0.0,0.05174825174825175,0.002797202797202797,0.46153846153846156,0.2601398601398601,0.009790209790209791,0.22377622377622378,0.48391608391608393,0.6083916083916084,0.033566433566433566,0.3804195804195804,0.0,0.0,0.1916083916083916,0.34405594405594403,0.28251748251748254,0.6643356643356644,0.06573426573426573,0.32727272727272727,0.16503496503496504,0.17482517482517482,0.0,0.08811188811188811,0.22377622377622378,0.427972027972028,0.07272727272727272,0.6741258741258741,0.24895104895104894,0.22377622377622378,0.0,0.0,0.07132867132867132,0.0,0.013986013986013986,0.0,0.26153846153846155,0.12027972027972028,0.11048951048951049,0.07832167832167833,0.2601398601398601,0.49230769230769234,0.0,0.2573426573426573,0.26573426573426573,0.005594405594405594,0.11188811188811189,0.17762237762237762,0.7818181818181819,0.0,0.0937062937062937,0.3748251748251748,0.11048951048951049,0.1888111888111888,0.2699300699300699,0.22377622377622378,0.0,0.11328671328671329,0.05314685314685315,0.0,0.08811188811188811,0.05314685314685315,0.551048951048951,0.5692307692307692,0.2055944055944056,0.0,0.008391608391608392,0.5034965034965035,0.055944055944055944,0.09090909090909091,0.406993006993007,0.4013986013986014,0.005594405594405594,0.05314685314685315,0.07692307692307693,0.2811188811188811,0.42377622377622376,0.0,0.039160839160839164,0.0,0.32727272727272727,0.07552447552447553,0.0,0.3328671328671329,0.1902097902097902,0.03636363636363636,0.0,0.5020979020979021,0.38741258741258744,0.40559440559440557,0.025174825174825177,0.22237762237762237,0.1062937062937063,0.5412587412587413,0.12447552447552447,0.6979020979020979,0.0,0.23776223776223776,0.0,0.16503496503496504,0.16223776223776223,0.2083916083916084,0.3748251748251748,0.2699300699300699,0.0,0.15244755244755245,0.004195804195804196,0.3412587412587413,0.4727272727272727,0.01818181818181818,0.002797202797202797,0.0,0.15104895104895105,0.45594405594405596,0.34545454545454546,0.004195804195804196,0.15104895104895105,0.45314685314685316,0.17762237762237762,0.6391608391608392,0.0013986013986013986,0.0013986013986013986,0.0,0.009790209790209791,0.0013986013986013986,0.0,0.015384615384615385,0.2601398601398601,0.0,0.14265734265734265,0.17202797202797201,0.0979020979020979,0.7426573426573426,0.002797202797202797,0.0,0.586013986013986,0.0,0.16783216783216784,0.5258741258741259,0.5244755244755245,0.09090909090909091,0.004195804195804196,0.5286713286713287,0.06573426573426573,0.4979020979020979,0.16923076923076924,0.4937062937062937,0.004195804195804196,0.08951048951048951,0.3734265734265734,0.03076923076923077,0.03496503496503497,0.36083916083916084,0.12867132867132866,0.14545454545454545,0.37902097902097903,0.03076923076923077,0.16083916083916083,0.0,0.33426573426573425,0.0,0.2895104895104895,0.2839160839160839,0.25594405594405595,0.5076923076923077,0.0,0.03636363636363636,0.009790209790209791,0.4223776223776224,0.3132867132867133,0.09230769230769231,0.3258741258741259,0.0013986013986013986,0.11328671328671329,0.055944055944055944,0.0013986013986013986,0.15384615384615385,0.05034965034965035,0.027972027972027972,0.019580419580419582,0.6293706293706294,0.4167832167832168,0.24335664335664337,0.11888111888111888,0.365034965034965,0.046153846153846156,0.006993006993006993,0.1944055944055944,0.0,0.008391608391608392,0.025174825174825177,0.5468531468531469,0.05174825174825175,0.32727272727272727,0.8293706293706293,0.4083916083916084,0.005594405594405594,0.4153846153846154,0.18461538461538463,0.0,0.5006993006993007,0.016783216783216783,0.02937062937062937,0.22937062937062938,0.15244755244755245,0.2545454545454545,0.2909090909090909,0.3300699300699301,0.5972027972027972,0.5608391608391609,0.17902097902097902,0.0,0.07132867132867132,0.3916083916083916,0.13286713286713286,0.15944055944055943,0.004195804195804196,0.16783216783216784,0.3734265734265734,0.03496503496503497,0.2699300699300699,0.006993006993006993,0.3734265734265734,0.23356643356643356,0.24055944055944056,0.002797202797202797,0.5076923076923077,0.31888111888111886,0.0013986013986013986,0.0,0.07132867132867132,0.15804195804195803,0.4937062937062937,0.5202797202797202,0.28251748251748254,0.0,0.6713286713286714,0.0013986013986013986,0.23356643356643356,0.019580419580419582,0.026573426573426574,0.6685314685314685,0.08951048951048951,0.12867132867132866,0.14545454545454545,0.17622377622377622,0.17202797202797201,0.6055944055944056,0.11188811188811189,0.0,0.039160839160839164,0.1958041958041958,0.25034965034965034,0.2,0.3748251748251748,0.14265734265734265,0.45454545454545453,0.17902097902097902,0.24195804195804196,0.043356643356643354,0.551048951048951,0.2055944055944056,0.27692307692307694,0.17202797202797201,0.11748251748251748,0.3230769230769231,0.2083916083916084,0.3594405594405594,0.3174825174825175,0.14685314685314685,0.044755244755244755,0.0,0.3202797202797203,0.44475524475524475,0.0,0.0,0.24895104895104894,0.0,0.365034965034965,0.4965034965034965,0.07552447552447553,0.1986013986013986,0.5524475524475524,0.18461538461538463,0.37622377622377623,0.043356643356643354,0.08111888111888112,0.2125874125874126,0.05034965034965035,0.6937062937062937,0.006993006993006993,0.0,0.4097902097902098,0.032167832167832165,0.0,0.2125874125874126,0.06153846153846154,0.0,0.24755244755244754,0.26573426573426573,0.1258741258741259,0.18461538461538463,0.0,0.40559440559440557,0.0,0.14965034965034965,0.16923076923076924,0.25874125874125875,0.15804195804195803,0.006993006993006993,0.0,0.0,0.579020979020979,0.35524475524475524,0.36923076923076925,0.06993006993006994,0.23216783216783216,0.11048951048951049,0.25594405594405595,0.046153846153846156,0.0,0.1986013986013986,0.2867132867132867,0.0,0.006993006993006993,0.406993006993007,0.0,0.07132867132867132,0.043356643356643354,0.032167832167832165,0.38181818181818183,0.0,0.0,0.026573426573426574,0.8405594405594405,0.2951048951048951,0.1006993006993007,0.16643356643356644,0.0,0.0,0.025174825174825177,0.039160839160839164,0.27412587412587414,0.2755244755244755,0.0,0.0,0.3146853146853147,0.31608391608391606,0.2867132867132867,0.0,0.2083916083916084,0.5258741258741259,0.1006993006993007,0.33426573426573425,0.4811188811188811,0.002797202797202797,0.22377622377622378,0.0,0.3048951048951049,0.37622377622377623,0.039160839160839164,0.006993006993006993,0.17902097902097902,0.3006993006993007,0.03776223776223776,0.0013986013986013986,0.05454545454545454,0.0,0.2867132867132867,0.3678321678321678,0.22237762237762237,0.4097902097902098,0.23496503496503496,0.2783216783216783,0.14825174825174825,0.07132867132867132,0.0,0.33146853146853145,0.4153846153846154,0.10909090909090909,0.08811188811188811,0.0,0.002797202797202797]},{\"axis\":{\"matches\":true},\"label\":\"Caps\",\"values\":[0.2722222222222222,0.0,0.0,0.06111111111111111,0.0,0.011111111111111112,0.0,0.03333333333333333,0.4388888888888889,0.0,0.0,0.0,0.15,0.0,0.15,0.2388888888888889,0.0,0.0,0.0,0.005555555555555556,0.0,0.08333333333333333,0.0,0.1388888888888889,0.17222222222222222,0.0,0.0,0.0,0.1,0.0,0.03888888888888889,0.0,0.0,0.34444444444444444,0.0,0.0,0.016666666666666666,0.0,0.16111111111111112,0.0,0.0,0.0,0.011111111111111112,0.0,0.0,0.0,0.0,0.0,0.0,0.0,0.022222222222222223,0.10555555555555556,0.08333333333333333,0.11666666666666667,0.0,0.0,0.0,0.0,0.0,0.2777777777777778,0.0,0.03333333333333333,0.0,0.18333333333333332,0.25,0.0,0.0,0.0,0.0,0.05,0.2611111111111111,0.09444444444444444,0.0,0.1111111111111111,0.0,0.0,0.0,0.0,0.3055555555555556,0.0,0.0,0.0,0.18888888888888888,0.0,0.0,0.0,0.0,0.0,0.0,0.022222222222222223,0.10555555555555556,0.0,0.0,0.0,0.06666666666666667,0.0,0.26666666666666666,0.0,0.0,0.0,0.005555555555555556,0.05555555555555555,0.0,0.0,0.23333333333333334,0.18333333333333332,0.0,0.0,0.027777777777777776,0.0,0.0,0.16111111111111112,0.0,0.0,0.17222222222222222,0.0,0.11666666666666667,0.4722222222222222,0.0,0.0,0.0,0.0,0.005555555555555556,0.0,0.027777777777777776,0.0,0.0,0.0,0.0,0.016666666666666666,0.0,0.0,0.0,0.03888888888888889,0.29444444444444445,1.0,0.3277777777777778,0.0,0.12222222222222222,0.0,0.016666666666666666,0.06666666666666667,0.0,0.12777777777777777,0.0,0.0,0.39444444444444443,0.21666666666666667,0.0,0.0,0.0,0.0,0.0,0.0,0.0,0.03333333333333333,0.0,0.011111111111111112,0.03333333333333333,0.15,0.0,0.38333333333333336,0.022222222222222223,0.0,0.0,0.0,0.0,0.16666666666666666,0.0,0.0,0.0,0.09444444444444444,0.08888888888888889,0.09444444444444444,0.0,0.0,0.0,0.0,0.05,0.0,0.0,0.18333333333333332,0.0,0.0,0.016666666666666666,0.0,0.0,0.0,0.0,0.6444444444444445,0.0,0.0,0.0,0.005555555555555556,0.0,0.0,0.011111111111111112,0.0,0.0,0.0,0.0,0.0,0.1388888888888889,0.21666666666666667,0.016666666666666666,0.0,0.16111111111111112,0.016666666666666666,0.05555555555555555,0.0,0.0,0.0,0.0,0.027777777777777776,0.15,0.022222222222222223,0.0,0.0,0.0,0.0,0.016666666666666666,0.0,0.08888888888888889,0.0,0.011111111111111112,0.0,0.0,0.0,0.0,0.0,0.03888888888888889,0.0,0.0,0.0,0.0,0.1388888888888889,0.005555555555555556,0.0,0.0,0.0,0.0,0.0,0.0,0.10555555555555556,0.0,0.0,0.005555555555555556,0.0,0.0,0.0,0.0,0.25,0.08333333333333333,0.0,0.0,0.0,0.23333333333333334,0.0,0.13333333333333333,0.044444444444444446,0.0,0.35,0.0,0.0,0.0,0.0,0.022222222222222223,0.016666666666666666,0.03333333333333333,0.06111111111111111,0.0,0.0,0.08333333333333333,0.15,0.0,0.0,0.0,0.0,0.0,0.2388888888888889,0.016666666666666666,0.5277777777777778,0.0,0.0,0.25555555555555554,0.0,0.0,0.0,0.022222222222222223,0.0,0.022222222222222223,0.0,0.03333333333333333,0.0,0.0,0.044444444444444446,0.0,0.0,0.0,0.0,0.16111111111111112,0.0,0.0,0.0,0.0,0.0,0.0,0.0,0.0,0.0,0.15,0.0,0.0,0.0,0.0,0.0,0.0,0.0,0.0,0.0,0.2,0.0,0.0,0.0,0.016666666666666666,0.0,0.0,0.5888888888888889,0.37777777777777777,0.7611111111111111,0.0,0.0,0.0,0.4166666666666667,0.0,0.0,0.0,0.03333333333333333,0.17777777777777778,0.06666666666666667,0.0,0.0,0.0,0.06111111111111111,0.0,0.0,0.0,0.7722222222222223,0.06666666666666667,0.0,0.0,0.0,0.0,0.0,0.06111111111111111,0.0,0.0,0.0,0.0,0.08333333333333333,0.15555555555555556,0.0,0.0,0.0,0.0,0.0,0.005555555555555556,0.0,0.0,0.43333333333333335,0.0,0.20555555555555555,0.0,0.0,0.0,0.0,0.3111111111111111,0.0,0.0,0.0,0.0,0.0,0.0,0.05,0.08333333333333333,0.0,0.0,0.03333333333333333,0.0,0.19444444444444445,0.027777777777777776,0.0,0.0,0.0,0.0,0.0,0.6222222222222222,0.0,0.0,0.06111111111111111,0.12222222222222222,0.43333333333333335,0.0,0.16666666666666666,0.03888888888888889,0.20555555555555555,0.022222222222222223,0.0,0.0,0.005555555555555556,0.0,0.0,0.08333333333333333,0.0,0.0,0.0,0.0,0.0,0.0,0.0,0.011111111111111112,0.0,0.0,0.0,0.08333333333333333,0.0,0.0,0.0,0.0,0.0,0.0,0.0,0.03888888888888889,0.0,0.0,0.0,0.13333333333333333,0.05,0.0,0.0,0.0,0.0,0.027777777777777776,0.011111111111111112,0.16111111111111112,0.011111111111111112,0.3111111111111111,0.0,0.0,0.016666666666666666,0.0,0.07777777777777778,0.0,0.0,0.016666666666666666,0.005555555555555556,0.0,0.0,0.0,0.0,0.0,0.0,0.03333333333333333,0.0,0.0,0.16111111111111112,0.005555555555555556,0.0,0.26666666666666666,0.1,0.0,0.0,0.0,0.0,0.0,0.0,0.0,0.03333333333333333,0.07222222222222222,0.0,0.0,0.0,0.05555555555555555,0.11666666666666667,0.0,0.34444444444444444,0.0,0.016666666666666666,0.21666666666666667,0.027777777777777776,0.0,0.0,0.0,0.2833333333333333,0.0,0.005555555555555556,0.022222222222222223,0.0,0.005555555555555556,0.1111111111111111,0.0,0.08888888888888889,0.0,0.0,0.0,0.0,0.17222222222222222,0.0,0.016666666666666666,0.40555555555555556,0.25,0.03333333333333333,0.0,0.25555555555555554,0.0,0.0,0.0,0.005555555555555556,0.0,0.016666666666666666,0.0,0.0,0.0,0.0,0.0,0.0,0.0,0.0,0.0,0.03888888888888889,0.2222222222222222,0.0,0.0,0.0,0.09444444444444444,0.0,0.0,0.2,0.0,0.005555555555555556,0.0,0.011111111111111112,0.0,0.0,0.0,0.0,0.0,0.0,0.0,0.35,0.07777777777777778,0.0,0.0,0.0,0.32222222222222224,0.0,0.0,0.0,0.005555555555555556,0.0,0.0,0.08333333333333333,0.0,0.0,0.0,0.0,0.0,0.0,0.016666666666666666,0.05555555555555555,0.0,0.1,0.0,0.12777777777777777,0.0,0.005555555555555556,0.022222222222222223,0.21666666666666667,0.0,0.0,0.38333333333333336,0.15555555555555556,0.0,0.0,0.0,0.0,0.26666666666666666,0.0,0.03888888888888889,0.0,0.0,0.0,0.0,0.0,0.0,0.0,0.0,0.0,0.0,0.0,0.0,0.044444444444444446,0.4666666666666667,0.0,0.0,0.0,0.06111111111111111,0.0,0.0,0.0,0.044444444444444446,0.0,0.0,0.011111111111111112,0.3111111111111111,0.0,0.0,0.0,0.0,0.03333333333333333,0.0,0.11666666666666667,0.0,0.24444444444444444,0.40555555555555556,0.0,0.0,0.0,0.0,0.0,0.07222222222222222,0.0,0.0,0.0,0.1388888888888889,0.17222222222222222,0.0,0.0,0.0,0.11666666666666667,0.0,0.0,0.011111111111111112,0.39444444444444443,0.0,0.0,0.016666666666666666,0.0,0.0,0.05,0.0,0.0,0.0,0.0,0.0,0.0,0.016666666666666666,0.0,0.0,0.07777777777777778,0.0,0.10555555555555556,0.15555555555555556,0.0,0.0,0.005555555555555556,0.06666666666666667,0.0,0.24444444444444444,0.0,0.0,0.0,0.0,0.0,0.08333333333333333,0.0,0.0,0.0,0.0,0.011111111111111112,0.22777777777777777,0.0,0.0,0.0,0.0,0.16666666666666666,0.0,0.016666666666666666,0.0,0.022222222222222223,0.0,0.0,0.32222222222222224,0.0,0.5944444444444444,0.022222222222222223,0.0,0.0,0.0,0.0,0.0,0.0,0.0,0.03888888888888889,0.0,0.0,0.0,0.0,0.0,0.0,0.0,0.0,0.0,0.011111111111111112,0.005555555555555556,0.0,0.0,0.0,0.0,0.37222222222222223,0.0,0.016666666666666666,0.6611111111111111,0.0,0.022222222222222223,0.022222222222222223,0.15555555555555556,0.2222222222222222,0.0,0.0,0.1,0.011111111111111112,0.005555555555555556,0.0,0.0,0.0,0.0,0.0,0.12222222222222222,0.0,0.17222222222222222,0.03888888888888889,0.5111111111111111,0.0,0.0,0.011111111111111112,0.0,0.0,0.0,0.35555555555555557,0.0,0.0,0.0,0.08333333333333333,0.0,0.0,0.0,0.011111111111111112,0.0,0.07222222222222222,0.07222222222222222,0.1111111111111111,0.005555555555555556,0.0,0.06111111111111111,0.0,0.0,0.0,0.2111111111111111,0.0,0.13333333333333333,0.0,0.0,0.23333333333333334,0.11666666666666667,0.0,0.19444444444444445,0.0,0.0,0.2388888888888889,0.0,0.0,0.0,0.0,0.0,0.0,0.0,0.0,0.0,0.0,0.0,0.0,0.0,0.027777777777777776,0.022222222222222223,0.25,0.0,0.0,0.0,0.0,0.0,0.0,0.0,0.0,0.0,0.0,0.0,0.5444444444444444,0.0,0.09444444444444444,0.0,0.0,0.16666666666666666,0.0,0.0,0.0,0.0,0.027777777777777776,0.0,0.0,0.0,0.0,0.022222222222222223,0.0,0.0,0.005555555555555556,0.0,0.17777777777777778,0.0,0.0,0.07777777777777778,0.0,0.17777777777777778,0.3888888888888889,0.0,0.0,0.0,0.011111111111111112,0.016666666666666666,0.0,0.0,0.0,0.0,0.05,0.0,0.0,0.0,0.0,0.0,0.0,0.005555555555555556,0.0,0.0,0.0,0.0,0.022222222222222223,0.0,0.0,0.05,0.0,0.0,0.06111111111111111,0.005555555555555556,0.12222222222222222,0.0,0.2,0.0,0.005555555555555556,0.0,0.0,0.12222222222222222,0.0,0.07777777777777778,0.0,0.0,0.16111111111111112,0.03888888888888889,0.0,0.022222222222222223,0.0,0.03333333333333333,0.0,0.0,0.0,0.0,0.0,0.005555555555555556,0.0,0.0,0.0,0.0,0.0,0.0,0.0,0.15,0.10555555555555556,0.17222222222222222,0.0,0.0,0.06666666666666667,0.0,0.0,0.0,0.0,0.005555555555555556,0.09444444444444444,0.10555555555555556,0.0,0.03333333333333333,0.0,0.0,0.0,0.16666666666666666,0.0,0.21666666666666667,0.0,0.0,0.005555555555555556,0.027777777777777776,0.0,0.0,0.03888888888888889,0.0,0.0,0.011111111111111112,0.022222222222222223,0.08888888888888889,0.0,0.19444444444444445,0.0,0.0,0.0,0.011111111111111112,0.0,0.0,0.19444444444444445,0.005555555555555556,0.0,0.0,0.0,0.011111111111111112,0.0,0.0,0.0,0.0,0.0,0.0,0.0,0.0,0.0,0.0,0.05,0.0,0.0,0.022222222222222223,0.0,0.0,0.0,0.0,0.0,0.0,0.0,0.0,0.0,0.0,0.0,0.4222222222222222,0.0,0.0,0.0,0.0,0.0,0.29444444444444445,0.0,0.0,0.2,0.05,0.0,0.0,0.0,0.0,0.0,0.0,0.0,0.10555555555555556,0.0,0.10555555555555556,0.0,0.0,0.0,0.0,0.0,0.09444444444444444,0.044444444444444446,0.0,0.0,0.16111111111111112,0.0,0.0,0.0,0.0,0.1111111111111111,0.0,0.0,0.0,0.0,0.0,0.0,0.0,0.03888888888888889,0.0,0.11666666666666667,0.0,0.0,0.16111111111111112,0.0,0.0,0.0,0.005555555555555556,0.0,0.08333333333333333,0.0,0.37777777777777777,0.0,0.0,0.0,0.0,0.027777777777777776,0.0,0.0,0.05,0.15,0.0,0.0,0.06111111111111111,0.0,0.0,0.13333333333333333,0.0,0.3388888888888889,0.17777777777777778,0.0,0.12222222222222222,0.0,0.0,0.1,0.027777777777777776,0.0,0.0,0.0,0.0,0.0,0.0,0.0,0.0,0.011111111111111112,0.0,0.4666666666666667,0.0,0.011111111111111112,0.1111111111111111,0.17777777777777778,0.0,0.10555555555555556,0.011111111111111112,0.0,0.0,0.011111111111111112,0.0,0.0,0.0,0.0,0.0,0.0,0.2722222222222222,0.0,0.08888888888888889,0.0,0.0,0.0,0.03333333333333333,0.0,0.0,0.10555555555555556,0.0,0.0,0.0,0.0,0.19444444444444445,0.05555555555555555,0.0,0.05,0.0,0.05,0.0,0.0,0.0,0.0,0.0,0.08888888888888889,0.0,0.005555555555555556,0.0,0.0,0.0,0.0,0.016666666666666666,0.0,0.06111111111111111,0.0,0.0,0.0,0.23333333333333334,0.0,0.0,0.0,0.18333333333333332,0.0,0.17777777777777778,0.0,0.0,0.05555555555555555,0.0,0.0,0.08333333333333333,0.0,0.0,0.0,0.0,0.0,0.0,0.0,0.5666666666666667,0.0,0.1,0.26666666666666666,0.0,0.0,0.0,0.06111111111111111,0.0,0.0,0.005555555555555556,0.0,0.0,0.34444444444444444,0.0,0.011111111111111112,0.0,0.0,0.011111111111111112,0.17777777777777778,0.0,0.16111111111111112,0.0,0.0,0.0,0.05555555555555555,0.10555555555555556,0.0,0.027777777777777776,0.005555555555555556,0.15555555555555556,0.0,0.0,0.022222222222222223,0.022222222222222223,0.0,0.022222222222222223,0.0,0.011111111111111112,0.0,0.0,0.0,0.26666666666666666,0.005555555555555556,0.28888888888888886,0.05555555555555555,0.0,0.0,0.0,0.22777777777777777,0.0,0.0,0.0,0.0,0.011111111111111112,0.027777777777777776,0.0,0.005555555555555556,0.0,0.0,0.0,0.0,0.0,0.0,0.15555555555555556,0.0,0.0,0.06666666666666667,0.0,0.0,0.05555555555555555,0.0,0.0,0.5388888888888889,0.0,0.0,0.10555555555555556,0.20555555555555555,0.0,0.06111111111111111,0.0,0.016666666666666666,0.23333333333333334,0.0,0.0,0.0,0.0,0.18888888888888888,0.0,0.11666666666666667,0.05,0.22777777777777777,0.0,0.0,0.0,0.011111111111111112,0.0,0.35,0.0,0.0,0.016666666666666666,0.0,0.1111111111111111,0.0,0.09444444444444444,0.2388888888888889,0.0,0.06111111111111111,0.0,0.16666666666666666,0.0,0.0,0.0,0.022222222222222223,0.16111111111111112,0.0,0.21666666666666667,0.0,0.0,0.0,0.0,0.0,0.06111111111111111,0.15555555555555556,0.0,0.0,0.027777777777777776,0.2777777777777778,0.0,0.0,0.40555555555555556,0.0,0.011111111111111112,0.0,0.03888888888888889,0.0,0.0,0.32222222222222224,0.0,0.011111111111111112,0.0,0.0,0.0,0.0,0.0,0.0,0.03888888888888889,0.0,0.0,0.3611111111111111,0.0,0.0,0.0,0.26666666666666666,0.0,0.0,0.0,0.0,0.044444444444444446,0.03888888888888889,0.0,0.12777777777777777,0.06111111111111111,0.0,0.0,0.0,0.0,0.0,0.0,0.0,0.0,0.0,0.0,0.0,0.11666666666666667,0.0,0.14444444444444443,0.0,0.40555555555555556,0.0,0.4,0.05555555555555555,0.0,0.0,0.0,0.005555555555555556,0.0,0.0,0.0,0.0,0.0,0.0,0.0,0.0,0.28888888888888886,0.13333333333333333,0.4722222222222222,0.005555555555555556,0.0,0.0,0.0,0.0,0.0,0.0,0.0,0.0,0.0,0.0,0.0,0.0,0.23333333333333334,0.0,0.005555555555555556,0.12777777777777777,0.0,0.0,0.0,0.0,0.0,0.005555555555555556,0.06111111111111111,0.0,0.0,0.0,0.0,0.0,0.011111111111111112,0.0,0.0,0.022222222222222223,0.18333333333333332,0.016666666666666666,0.0,0.005555555555555556,0.0,0.0,0.0,0.3055555555555556,0.0,0.37777777777777777,0.06666666666666667,0.0,0.044444444444444446,0.044444444444444446,0.0,0.05,0.36666666666666664,0.0,0.0,0.0,0.20555555555555555,0.0,0.0,0.0,0.0,0.0,0.0,0.022222222222222223,0.044444444444444446,0.0,0.0,0.05,0.0,0.044444444444444446,0.0,0.0,0.0,0.0,0.2,0.0,0.0,0.03888888888888889,0.07777777777777778,0.0,0.0,0.13333333333333333,0.011111111111111112,0.0,0.005555555555555556,0.2,0.0,0.19444444444444445,0.0,0.022222222222222223,0.1388888888888889,0.13333333333333333,0.08333333333333333,0.044444444444444446,0.0,0.07777777777777778,0.0,0.0,0.0,0.0,0.0,0.0,0.027777777777777776,0.3111111111111111,0.07222222222222222,0.0,0.0,0.1,0.0,0.0,0.027777777777777776,0.016666666666666666,0.0,0.022222222222222223,0.0,0.0,0.0,0.0,0.0,0.1111111111111111,0.0,0.0,0.0,0.0,0.0,0.0,0.0,0.0,0.0,0.0,0.0,0.09444444444444444,0.0,0.0,0.0,0.0,0.0,0.1111111111111111,0.0,0.0,0.0,0.0,0.07222222222222222,0.03333333333333333,0.0,0.19444444444444445,0.022222222222222223,0.2722222222222222,0.0,0.0,0.0,0.0,0.0,0.2388888888888889,0.0,0.0,0.37777777777777777,0.044444444444444446,0.0,0.0,0.15555555555555556,0.0,0.0,0.06111111111111111,0.0,0.0,0.027777777777777776,0.0,0.0,0.044444444444444446,0.016666666666666666,0.9,0.0,0.0,0.0,0.0,0.6222222222222222,0.0,0.0,0.14444444444444443,0.027777777777777776,0.0,0.25555555555555554,0.0,0.0,0.0,0.0,0.027777777777777776,0.0,0.016666666666666666,0.0,0.0,0.05555555555555555,0.19444444444444445,0.0,0.0,0.10555555555555556,0.14444444444444443,0.09444444444444444,0.0,0.3111111111111111,0.7388888888888889,0.0,0.0,0.05555555555555555,0.0,0.0,0.0,0.17222222222222222,0.027777777777777776,0.0,0.016666666666666666,0.39444444444444443,0.2,0.0,0.027777777777777776,0.0,0.0,0.8,0.005555555555555556,0.0,0.022222222222222223,0.15555555555555556,0.08333333333333333,0.0,0.0,0.20555555555555555,0.005555555555555556,0.0,0.06111111111111111,0.0,0.2722222222222222,0.0,0.0,0.0,0.07222222222222222,0.022222222222222223,0.0,0.0,0.0,0.0,0.0,0.5777777777777777,0.06666666666666667,0.12777777777777777,0.0,0.0,0.0,0.35,0.0,0.0,0.0,0.2833333333333333,0.016666666666666666,0.16111111111111112,0.0,0.21666666666666667,0.0,0.0,0.0,0.0,0.005555555555555556,0.07777777777777778,0.011111111111111112,0.0,0.0,0.2222222222222222,0.06666666666666667,0.0,0.35555555555555557,0.7111111111111111,0.005555555555555556,0.03888888888888889,0.0,0.027777777777777776,0.0,0.09444444444444444,0.1,0.0,0.0,0.0,0.0,0.022222222222222223,0.0,0.005555555555555556,0.0,0.0,0.0,0.0,0.016666666666666666,0.09444444444444444,0.0,0.0,0.0,0.0,0.005555555555555556,0.0,0.0,0.3277777777777778,0.0,0.12777777777777777,0.14444444444444443,0.0,0.0,0.0,0.0,0.0,0.016666666666666666,0.0,0.0,0.0,0.0,0.0,0.0,0.0,0.0,0.0,0.0,0.005555555555555556,0.0,0.07222222222222222,0.0,0.0,0.0,0.0,0.0,0.09444444444444444,0.0,0.0,0.3111111111111111,0.0,0.0,0.0,0.0,0.0,0.0,0.03888888888888889,0.36666666666666664,0.03888888888888889,0.0,0.0,0.011111111111111112,0.0,0.0,0.0,0.14444444444444443,0.005555555555555556,0.05,0.0,0.05,0.0,0.0,0.05555555555555555,0.0,0.0,0.0,0.0,0.0,0.08333333333333333,0.044444444444444446,0.0,0.20555555555555555,0.0,0.0,0.0,0.0,0.0,0.0,0.0,0.4111111111111111,0.0,0.14444444444444443,0.0,0.0,0.32222222222222224,0.005555555555555556,0.2222222222222222,0.0,0.0,0.016666666666666666,0.08333333333333333,0.6333333333333333,0.0,0.0,0.0,0.5055555555555555,0.0,0.005555555555555556,0.0,0.0,0.0,0.0,0.0,0.0,0.26666666666666666,0.0,0.5055555555555555,0.027777777777777776,0.0,0.09444444444444444,0.1,0.0,0.0,0.8444444444444444,0.0,0.0,0.15,0.0,0.0,0.0,0.0,0.0,0.17777777777777778,0.0,0.2388888888888889,0.19444444444444445,0.03333333333333333,0.1388888888888889,0.07222222222222222,0.0,0.0,0.12222222222222222,0.03333333333333333,0.0,0.0,0.0,0.0,0.0,0.1111111111111111,0.0,0.0,0.0,0.0,0.0,0.0,0.0,0.022222222222222223,0.016666666666666666,0.2388888888888889,0.4166666666666667,0.0,0.0,0.0,0.0,0.0,0.0,0.0,0.0,0.0,0.027777777777777776,0.09444444444444444,0.0,0.20555555555555555,0.0,0.03333333333333333,0.0,0.0,0.22777777777777777,0.0,0.0,0.0,0.005555555555555556,0.0,0.0,0.03333333333333333,0.0,0.016666666666666666,0.0,0.0,0.0,0.08888888888888889,0.0,0.0,0.07222222222222222,0.027777777777777776,0.0,0.0,0.05555555555555555,0.005555555555555556,0.0,0.0,0.0,0.0,0.0,0.0,0.07222222222222222,0.0,0.8444444444444444,0.0,0.044444444444444446,0.0,0.0,0.15555555555555556,0.0,0.005555555555555556,0.0,0.0,0.0,0.24444444444444444,0.0,0.0,0.0,0.0,0.0,0.0,0.0,0.1111111111111111,0.0,0.12777777777777777,0.0,0.005555555555555556,0.005555555555555556,0.1388888888888889,0.0,0.0,0.0,0.0,0.0,0.0,0.0,0.0,0.7111111111111111,0.0,0.0,0.027777777777777776,0.06111111111111111,0.0,0.06111111111111111,0.011111111111111112,0.0,0.0,0.15,0.0,0.0,0.24444444444444444,0.0,0.10555555555555556,0.0,0.0,0.07222222222222222,0.0,0.0,0.5055555555555555,0.0,0.0,0.0,0.42777777777777776,0.0,0.28888888888888886,0.06666666666666667,0.0,0.0,0.0,0.0,0.0,0.0,0.0,0.05,0.0,0.0,0.0,0.03333333333333333,0.17777777777777778,0.005555555555555556,0.0,0.0,0.0,0.2222222222222222,0.0,0.0,0.0,0.15555555555555556,0.4777777777777778,0.0,0.03888888888888889,0.0,0.0,0.03333333333333333,0.17777777777777778,0.005555555555555556,0.0,0.0,0.0,0.0,0.022222222222222223,0.0,0.0,0.0,0.07777777777777778,0.09444444444444444,0.0,0.0,0.0,0.0,0.0,0.0,0.0,0.0,0.0,0.0,0.05,0.0,0.0,0.0,0.0,0.0,0.0,0.0,0.16111111111111112,0.0,0.23333333333333334,0.0,0.17777777777777778,0.005555555555555556,0.06111111111111111,0.0,0.0,0.0,0.05,0.07222222222222222,0.0,0.0,0.0,0.0,0.0,0.25555555555555554,0.12222222222222222,0.3888888888888889,0.0,0.0,0.0,0.016666666666666666,0.0,0.0,0.0,0.0,0.0,0.0,0.0,0.15555555555555556,0.005555555555555556,0.0,0.0,0.0,0.0,0.0,0.005555555555555556,0.0,0.0,0.0,0.12222222222222222,0.0,0.0,0.06111111111111111,0.06666666666666667,0.0,0.0,0.1,0.0,0.12222222222222222,0.0,0.03888888888888889,0.2111111111111111,0.12222222222222222,0.18888888888888888,0.0,0.005555555555555556,0.0,0.0,0.2222222222222222,0.0,0.0,0.0,0.022222222222222223,0.0,0.0,0.15555555555555556,0.16111111111111112,0.0,0.0,0.022222222222222223,0.0,0.0,0.0,0.4,0.011111111111111112,0.0,0.6666666666666666,0.03333333333333333,0.03333333333333333,0.005555555555555556,0.5222222222222223,0.016666666666666666,0.11666666666666667,0.0,0.044444444444444446,0.40555555555555556,0.0,0.09444444444444444,0.0,0.011111111111111112,0.0,0.0,0.0,0.0,0.0,0.005555555555555556,0.0,0.0,0.0,0.0,0.0,0.0,0.0,0.0,0.0,0.0,0.0,0.0,0.0,0.0,0.0,0.0,0.0,0.0,0.0,0.0,0.06111111111111111,0.06666666666666667,0.0,0.06111111111111111,0.0,0.0,0.0,0.0,0.0,0.13333333333333333,0.16666666666666666,0.45,0.18888888888888888,0.0,0.0,0.0,0.0,0.06111111111111111,0.0,0.0,0.011111111111111112,0.0,0.0,0.0,0.0,0.0,0.0,0.0,0.0,0.0,0.0,0.005555555555555556,0.0,0.0,0.0,0.0,0.0,0.1111111111111111,0.09444444444444444,0.0,0.20555555555555555,0.07777777777777778,0.17777777777777778,0.2,0.20555555555555555,0.05,0.17777777777777778,0.0,0.0,0.21666666666666667,0.0,0.11666666666666667,0.0,0.1111111111111111,0.0,0.0,0.21666666666666667,0.2,0.0,0.044444444444444446,0.0,0.14444444444444443,0.0,0.0,0.26666666666666666,0.0,0.0,0.0,0.005555555555555556,0.0,0.0,0.0,0.0,0.0,0.0,0.0,0.0,0.0,0.05,0.0,0.0,0.09444444444444444,0.07222222222222222,0.0,0.0,0.15,0.0,0.06666666666666667,0.11666666666666667,0.22777777777777777,0.0,0.08333333333333333,0.08888888888888889,0.0,0.022222222222222223,0.0,0.011111111111111112,0.0,0.0,0.0,0.0,0.0,0.0,0.0,0.15,0.08333333333333333,0.0,0.0,0.3055555555555556,0.022222222222222223,0.0,0.0,0.0,0.20555555555555555,0.0,0.05,0.0,0.14444444444444443,0.044444444444444446,0.0,0.0,0.0,0.4166666666666667,0.21666666666666667,0.005555555555555556,0.005555555555555556,0.011111111111111112,0.0,0.0,0.0,0.0,0.03888888888888889,0.0,0.0,0.0,0.0,0.0,0.0,0.022222222222222223,0.0,0.0,0.0,0.0,0.0,0.0,0.0,0.0,0.0,0.11666666666666667,0.14444444444444443,0.0,0.0,0.15,0.0,0.005555555555555556,0.0,0.0,0.25555555555555554,0.0,0.0,0.005555555555555556,0.0,0.0,0.0,0.0,0.12222222222222222,0.17222222222222222,0.005555555555555556,0.0,0.0,0.05,0.0,0.0,0.17777777777777778,0.6277777777777778,0.0,0.0,0.0,0.0,0.0,0.0,0.011111111111111112,0.0,0.19444444444444445,0.18333333333333332,0.0,0.03333333333333333,0.022222222222222223,0.0,0.0,0.0,0.0,0.016666666666666666,0.0,0.0,0.0,0.022222222222222223,0.03888888888888889,0.0,0.0,0.1388888888888889,0.005555555555555556,0.0,0.08333333333333333,0.2,0.0,0.0,0.0,0.0,0.0,0.4777777777777778,0.0,0.0,0.0,0.016666666666666666,0.022222222222222223,0.0,0.16111111111111112,0.011111111111111112,0.0,0.0,0.2611111111111111,0.0,0.0,0.0,0.0,0.0,0.2722222222222222,0.0,0.0,0.0,0.027777777777777776,0.6,0.016666666666666666,0.2722222222222222,0.34444444444444444,0.0,0.0,0.0,0.0,0.07222222222222222,0.0,0.005555555555555556,0.13333333333333333,0.0,0.1388888888888889,0.0,0.0,0.0,0.0,0.6611111111111111,0.0,0.0,0.0,0.03333333333333333,0.0,0.09444444444444444,0.0,0.0,0.0,0.0,0.022222222222222223,0.044444444444444446,0.0,0.0,0.0,0.0,0.3888888888888889,0.0,0.0,0.011111111111111112,0.0,0.0,0.0,0.0,0.15555555555555556,0.0,0.0,0.03888888888888889,0.011111111111111112,0.15555555555555556,0.0,0.0,0.0,0.0,0.0,0.0,0.0,0.0,0.0,0.0,0.0,0.0,0.0,0.05555555555555555,0.0,0.0,0.0,0.022222222222222223,0.2222222222222222,0.38333333333333336,0.0,0.03333333333333333,0.5055555555555555,0.0,0.15555555555555556,0.0,0.0,0.0,0.0,0.0,0.06111111111111111,0.0,0.15,0.3333333333333333,0.022222222222222223,0.23333333333333334,0.0,0.016666666666666666,0.0,0.0,0.03333333333333333,0.0,0.0,0.0,0.016666666666666666,0.0,0.0,0.0,0.0,0.0,0.0,0.0,0.0,0.0,0.0,0.0,0.0,0.0,0.0,0.0,0.2388888888888889,0.0,0.5333333333333333,0.14444444444444443,0.0,0.0,0.0,0.005555555555555556,0.0,0.0,0.022222222222222223,0.0,0.13333333333333333,0.0,0.07222222222222222,0.09444444444444444,0.0,0.0,0.0,0.0,0.0,0.0,0.011111111111111112,0.18888888888888888,0.0,0.11666666666666667,0.011111111111111112,0.1,0.0,0.0,0.32222222222222224,0.08333333333333333,0.0,0.26666666666666666,0.0,0.0,0.0,0.0,0.13333333333333333,0.0,0.0,0.0,0.005555555555555556,0.0,0.03888888888888889,0.0,0.0,0.0,0.0,0.0,0.0,0.2611111111111111,0.005555555555555556,0.0,0.0,0.0,0.0,0.027777777777777776,0.0,0.0,0.011111111111111112,0.0,0.0,0.022222222222222223,0.03888888888888889,0.18888888888888888,0.0,0.13333333333333333,0.09444444444444444,0.0,0.0,0.0,0.05,0.044444444444444446,0.03888888888888889,0.016666666666666666,0.0,0.0,0.0,0.0,0.0,0.2833333333333333,0.0,0.0,0.0,0.03888888888888889,0.11666666666666667,0.0,0.11666666666666667,0.0,0.17777777777777778,0.005555555555555556,0.13333333333333333,0.05555555555555555,0.0,0.0,0.0,0.0,0.03333333333333333,0.016666666666666666,0.0,0.0,0.0,0.0,0.0,0.022222222222222223,0.17222222222222222,0.0,0.0,0.18888888888888888,0.0,0.0,0.08888888888888889,0.07777777777777778,0.0,0.0,0.0,0.0,0.0,0.0,0.0,0.0,0.0,0.0,0.0,0.14444444444444443,0.0,0.005555555555555556,0.0,0.0,0.23333333333333334,0.2111111111111111,0.0,0.0,0.0,0.0,0.0,0.05,0.0,0.0,0.0,0.0,0.0,0.016666666666666666,0.0,0.0,0.0,0.0,0.0,0.005555555555555556,0.0,0.2777777777777778,0.0,0.0,0.0,0.0,0.0,0.0,0.05,0.005555555555555556,0.005555555555555556,0.0,0.027777777777777776,0.0,0.011111111111111112,0.0,0.011111111111111112,0.0,0.05555555555555555,0.0,0.0,0.005555555555555556,0.0,0.12222222222222222,0.0,0.0,0.6277777777777778,0.0,0.0,0.0,0.0,0.0,0.23333333333333334,0.20555555555555555,0.05555555555555555,0.0,0.0,0.0,0.0,0.03333333333333333,0.1111111111111111,0.0,0.0,0.0,0.0,0.40555555555555556,0.0,0.011111111111111112,0.0,0.0,0.19444444444444445,0.1,0.25,0.0,0.0,0.0,0.05555555555555555,0.0,0.0,0.0,0.0,0.005555555555555556,0.10555555555555556,0.0,0.0,0.0,0.05555555555555555,0.0,0.0,0.005555555555555556,0.07222222222222222,0.0,0.07777777777777778,0.3333333333333333,0.03888888888888889,0.0,0.0,0.05555555555555555,0.044444444444444446,0.0,0.0,0.1111111111111111,0.0,0.0,0.3611111111111111,0.0,0.0,0.6388888888888888,0.0,0.2222222222222222,0.0,0.0,0.0,0.2722222222222222,0.0,0.044444444444444446,0.07777777777777778,0.0,0.016666666666666666,0.0,0.11666666666666667,0.0,0.0,0.0,0.2222222222222222,0.0,0.0,0.0,0.0,0.08333333333333333,0.0,0.07777777777777778,0.0,0.0,0.2111111111111111,0.011111111111111112,0.0,0.06111111111111111,0.18333333333333332,0.0,0.016666666666666666,0.0,0.0,0.2833333333333333,0.0,0.0,0.0,0.0,0.0,0.15555555555555556,0.0,0.20555555555555555,0.07222222222222222,0.0,0.0,0.0,0.0,0.28888888888888886,0.25,0.0,0.0,0.0,0.03888888888888889,0.0,0.0,0.0,0.0,0.0,0.0,0.0,0.016666666666666666,0.0,0.48333333333333334,0.0,0.0,0.35,0.21666666666666667,0.0,0.0,0.0,0.0,0.32222222222222224,0.0,0.0,0.3,0.0,0.5444444444444444,0.016666666666666666,0.0,0.005555555555555556,0.21666666666666667,0.0,0.0,0.0,0.0,0.07222222222222222,0.0,0.09444444444444444,0.0,0.0,0.027777777777777776,0.0,0.0,0.0,0.13333333333333333,0.0,0.0,0.09444444444444444,0.0,0.0,0.16111111111111112,0.0,0.0,0.0,0.0,0.0,0.6777777777777778,0.0,0.8444444444444444,0.0,0.0,0.0,0.35,0.07222222222222222,0.0,0.0,0.0,0.4222222222222222,0.0,0.016666666666666666,0.0,0.0,0.016666666666666666,0.18333333333333332,0.13333333333333333,0.9722222222222222,0.0,0.28888888888888886,0.16111111111111112,0.2611111111111111,0.0,0.0,0.0,0.06666666666666667,0.044444444444444446,0.0,0.05555555555555555,0.11666666666666667,0.0,0.0,0.0,0.0,0.0,0.0,0.0,0.05,0.0,0.0,0.07222222222222222,0.05,0.0,0.005555555555555556,0.17222222222222222,0.0,0.0,0.12777777777777777,0.005555555555555556,0.0,0.022222222222222223,0.0,0.0,0.0,0.027777777777777776,0.19444444444444445,0.0,0.0,0.0,0.0,0.0,0.0,0.31666666666666665,0.2,0.0,0.0,0.0,0.12222222222222222,0.0,0.0,0.0,0.21666666666666667,0.0,0.0,0.0,0.03888888888888889,0.0,0.0,0.0,0.0,0.03888888888888889,0.0,0.0,0.12777777777777777,0.05555555555555555,0.0,0.0,0.0,0.0,0.10555555555555556,0.0,0.0,0.0,0.45,0.011111111111111112,0.2222222222222222,0.0,0.17777777777777778,0.0,0.13333333333333333,0.0,0.0,0.18888888888888888,0.16111111111111112,0.0,0.0,0.0,0.005555555555555556,0.0,0.0,0.0,0.0,0.06111111111111111,0.08888888888888889,0.20555555555555555,0.0,0.08333333333333333,0.6611111111111111,0.0,0.3888888888888889,0.0,0.0,0.0,0.0,0.0,0.0,0.0,0.0,0.0,0.0,0.0,0.0,0.011111111111111112,0.0,0.0,0.5666666666666667,0.0,0.2222222222222222,0.07777777777777778,0.25555555555555554,0.022222222222222223,0.0,0.4222222222222222,0.13333333333333333,0.0,0.0,0.07222222222222222,0.0,0.0,0.0,0.0,0.0,0.07222222222222222,0.027777777777777776,0.0,0.0,0.0,0.08888888888888889,0.0,0.0,0.0,0.0,0.0,0.027777777777777776,0.3333333333333333,0.0,0.0,0.0,0.005555555555555556,0.19444444444444445,0.011111111111111112,0.0,0.0,0.0,0.0,0.0,0.0,0.0,0.0,0.0,0.0,0.39444444444444443,0.0,0.07222222222222222,0.0,0.0,0.06666666666666667,0.0,0.0,0.0,0.0,0.0,0.0,0.2222222222222222,0.2777777777777778,0.022222222222222223,0.0,0.0,0.0,0.0,0.10555555555555556,0.0,0.0,0.027777777777777776,0.005555555555555556,0.15,0.21666666666666667,0.0,0.25555555555555554,0.2611111111111111,0.0,0.0,0.0,0.07222222222222222,0.0,0.022222222222222223,0.0,0.005555555555555556,0.0,0.0,0.0,0.0,0.0,0.022222222222222223,0.016666666666666666,0.0,0.0,0.09444444444444444,0.0,0.0,0.0,0.0,0.22777777777777777,0.12222222222222222,0.0,0.0,0.0,0.0,0.0,0.0,0.0,0.6222222222222222,0.0,0.0,0.0,0.03888888888888889,0.0,0.0,0.022222222222222223,0.0,0.0,0.0,0.0,0.17222222222222222,0.0,0.0,0.5944444444444444,0.10555555555555556,0.1111111111111111,0.08888888888888889,0.13333333333333333,0.016666666666666666,0.09444444444444444,0.0,0.0,0.027777777777777776,0.0,0.25555555555555554,0.022222222222222223,0.0,0.0,0.0,0.0,0.0,0.0,0.011111111111111112,0.016666666666666666,0.0,0.16111111111111112,0.05555555555555555,0.0,0.0,0.24444444444444444,0.12222222222222222,0.0,0.0,0.0,0.016666666666666666,0.0,0.07222222222222222,0.0,0.0,0.1388888888888889,0.0,0.0,0.0,0.0,0.0,0.0,0.18888888888888888,0.027777777777777776,0.0,0.0,0.0,0.0,0.0,0.0,0.016666666666666666,0.0,0.0,0.0,0.0,0.09444444444444444,0.4111111111111111,0.0,0.0,0.016666666666666666,0.0,0.0,0.0,0.0,0.0,0.10555555555555556,0.0,0.0,0.0,0.0,0.0,0.0,0.0,0.4388888888888889,0.0,0.0,0.0,0.3388888888888889,0.005555555555555556,0.0,0.0,0.0,0.0,0.0,0.0,0.0,0.05,0.0,0.0,0.06111111111111111,0.016666666666666666,0.25,0.0,0.23333333333333334,0.0,0.0,0.03333333333333333,0.25555555555555554,0.0,0.0,0.0,0.19444444444444445,0.35,0.027777777777777776,0.0,0.022222222222222223,0.24444444444444444,0.0,0.0,0.0,0.0,0.1,0.005555555555555556,0.0,0.10555555555555556,0.005555555555555556,0.03333333333333333,0.05555555555555555,0.0,0.0,0.0,0.03888888888888889,0.0,0.005555555555555556,0.0,0.0]}],\"hovertemplate\":\"%{xaxis.title.text}=%{x}\\u003cbr\\u003e%{yaxis.title.text}=%{y}\\u003cbr\\u003eWage=%{marker.color}\\u003cextra\\u003e\\u003c\\u002fextra\\u003e\",\"legendgroup\":\"\",\"marker\":{\"color\":[5200000,58500,105000,202000,38000,1290000,441000,2466000,448000,21000,47500,6240000,4785000,52000,1440000,950000,147000,156000,963000,2340000,50000,3448000,129000,5527000,1305000,92000,802000,60500,1881000,672000,1854000,29000,2207000,658000,40000,780000,3380000,83000,3877000,155000,14500,156000,3437000,362000,3900000,43000,202000,1719000,2340000,247000,2552000,214000,2392000,830000,1224000,718000,818000,860000,31000,2080000,20000,5200000,123000,2149000,3120000,132000,1820000,1290000,31000,774000,2860000,8320000,32000,1197000,187000,23500,78000,18250,2860000,632000,13000,398000,5112000,64500,41000,110000,2600000,1040000,520000,5527000,3120000,78000,29000,1161000,5155000,87500,3786000,1820000,141000,314000,430000,284000,90500,47500,1655000,5604000,26000,1121000,193000,128000,307000,2600000,52000,168000,4595000,985000,3095000,18200000,141000,67000,416000,312000,356000,60500,605000,260000,13750,105000,2080000,1161000,860000,31000,36000,973000,8598000,11710000,859000,1300000,2080000,1040000,1300000,862000,15750,14300000,244000,78500,2340000,859000,1232000,2080000,127000,26000,1031000,319000,104000,123000,208000,2431000,122000,1759000,26000,9880000,3869000,165000,291000,130000,179000,13000000,61500,3600,29000,1328000,2600000,945000,2600000,1032000,20000,86000,4160000,140000,192000,2340000,37000,67000,1767000,43500,161000,15750,224000,10380000,26000,24500,144000,51500,876000,567000,2600000,30500,304000,58500,1560000,157000,2871000,6240000,723000,3439000,2340000,106000,47000,426000,13500,16750,2600000,780000,247000,4680000,25500,17000,802000,13000,224000,202000,6240000,104000,52000,646000,1681000,41500,62500,668000,3900000,1290000,560000,661000,1595000,2195000,2600000,13000,78000,32500,667000,1186000,441000,7280000,36000,3120000,5720000,597000,957000,78500,210000,6018000,1798000,179000,41500,1834000,2600000,16000,1695000,2579000,431000,6500000,369000,20000,774000,130000,1612000,559000,2802000,1103000,31000,62500,341000,2600000,32000,23000,264000,526000,2149000,2578000,258000,224000,78500,860000,11177000,256000,1632000,29000,2080000,807000,215000,862000,244000,29000,18250,104000,461000,13500,181000,156000,1103000,105000,349000,1300000,21500,31000,179000,26000,71000,164000,1298000,52000,274000,135000,786000,80500,25000,57000,208000,893000,1820000,1610000,1548000,71500,560000,60500,65000,5604000,672000,10346000,415000,963000,13000,1276000,2080000,29000,533000,1300000,655000,858000,408000,67000,2600000,1103000,19000,1595000,1300000,6240000,258000,25000,130000,15750,15750,776000,5200000,733000,2860000,1276000,105000,2340000,802000,298000,29000,26000,451000,1412000,5720000,43000,2690000,4311000,2600000,5200000,508000,298000,51500,336000,8151000,223000,1300000,18000,16750,123000,33500,3190000,343000,31500,897000,428000,18000,3900000,7397000,1276000,1266000,169000,1345000,39000,14616000,542000,128000,776000,2340000,3439000,269000,3319000,1310000,9100000,4680000,13000,112000,946000,16750,1086000,1820000,2860000,47000,508000,37000,30000,52000,36500,872000,13000,858000,353000,941000,13000,1078000,1595000,15500,957000,136000,119000,1742000,101000,2340000,87500,3448000,2080000,106000,18000,132000,67000,215000,315000,4793000,428000,3009000,3007000,29000,4091000,731000,534000,62500,112000,2466000,227000,31000,20000,893000,141000,104000,43500,6448000,20000,1560000,1595000,3319000,567000,4160000,101000,112000,478000,559000,3900000,31000,73000,138000,355000,2080000,156000,27000,56000,3120000,1087000,560000,3404000,1050000,3900000,252000,4785000,130000,269000,21000,3586000,403000,290000,177000,1820000,491000,441000,17500,797000,145000,17500,22500,146000,1820000,86000,9360000,1595000,5720000,523000,731000,2017000,192000,7500,35500,5200000,802000,138000,112000,276000,62500,697000,499000,59000,15750,1276000,16750,6240000,8320000,78000,15500,31000,608000,713000,43500,717000,815000,67000,191000,928000,320000,29000,43500,13000,303000,712000,36000,1548000,3267000,29000,18000,13000,150000,1086000,188000,672000,5588000,1414000,13500,1719000,687000,13000,2149000,18250,65000,130000,1121000,3071000,2600000,559000,1560000,860000,29000,3009000,859000,2080000,130000,23000,3439000,7800000,390000,554000,15750,1898000,8598000,29000,1032000,21000,68500,29000,1290000,104000,78500,32000,125000,928000,780000,26000,27000,1560000,3362000,38500,78000,104000,3869000,20000,520000,51500,1502000,770000,5250,2397000,567000,13000,26000,13500,78000,60000,26000,286000,1820000,2860000,8840000,27500,776000,1134000,1292000,130000,636000,264000,87500,164000,619000,1354000,104000,14250,1719000,735000,5200000,762000,12000,1287000,29000,123000,6500000,157000,215000,5200000,620000,28000,22500,1595000,416000,664000,393000,78000,68500,721000,276000,276000,1300000,29000,467000,1169000,2600000,2340000,12037000,404000,14750,29000,22500,5200000,1290000,947000,13000,22500,13500,825000,4999000,774000,123000,128000,78000,1868000,65500,445000,74000,412000,4160000,523000,2129000,130000,3120000,314000,280000,13000,2080000,31000,202000,38000,52000,65000,52000,25000,731000,17500,13000,31000,1035000,13000,1290000,2579000,4160000,381000,132000,340000,1560000,858000,31000,464000,1655000,161000,2579000,638000,3380000,2592000,156000,325000,301000,430000,41500,96500,17250,800000,672000,13000,7984000,780000,4004000,1090000,2600000,692000,23500,224000,20000,156000,18250,10380000,353000,104000,78000,1047000,38500,38000,16750,325000,13000,383000,560000,2735000,2340000,702000,3439000,1300000,897000,2494000,9578000,254000,517000,5250,1534000,2586000,310000,356000,2767000,26500,99000,716000,29000,130000,150000,1548000,336000,67000,398000,862000,23500,309000,12250,232000,112000,3380000,3095000,1293000,2600000,448000,2466000,722000,25000,13000,231000,13500,260000,802000,52000,2397000,2579000,2364000,1051000,645000,3120000,679000,441000,31000,379000,802000,29000,21000,208000,1820000,1103000,1141000,13000,2871000,130000,11177000,62500,578000,1820000,20000,1300000,2235000,383000,303000,78000,299000,241000,104000,301000,78000,224000,78000,26000,119000,156000,49000,112000,101000,884000,862000,1134000,18000,787000,416000,29000,230000,4594000,141000,1040000,362000,1579000,672000,130000,348000,478000,670000,190000,897000,1032000,7500,4127000,902000,320000,2552000,536000,411000,2381000,26000,78500,44000,560000,1171000,164000,286000,147000,672000,54000,26000,213000,920000,2080000,26500,7280000,2080000,4199000,128000,2242000,74000,13000,21000,112000,35000,501000,2586000,3640000,403000,119000,515000,53500,130000,3120000,26000,4160000,29000,74000,2080000,963000,241000,450000,4423000,47000,172000,2397000,1178000,1069000,179000,242000,74000,29000,141000,9360000,78500,1595000,1562000,1820000,35000,128000,53500,403000,228000,312000,4680000,441000,153000,301000,37500,26000,2600000,124000,1655000,156000,179000,1293000,1300000,16750,105000,657000,29000,1896000,302000,168000,18000,51500,43500,998000,1546000,42500,359000,776000,785000,15080000,650000,638000,3120000,1290000,860000,64000,125000,157000,179000,183000,260000,2600000,13000,2340000,12250,258000,67000,672000,130000,270000,1503000,52000,242000,3900000,31500,24500,52000,624000,983000,352000,51500,2045000,166000,4160000,1560000,156000,2149000,78000,636000,31000,420000,7984000,829000,47000,1075000,1276000,29000,1116000,1127000,9100000,756000,114000,885000,362000,2392000,47000,1472000,7800000,903000,54500,31000,1724000,65000,917000,4420000,13000,3869000,6878000,966000,807000,430000,138000,3439000,3120000,1121000,89500,168000,1121000,483000,40000,51500,83000,123000,448000,1076000,24000,279000,4793000,3120000,345000,1103000,2340000,40500,87500,215000,139000,523000,83000,17500,1334000,7983000,1440000,29000,4680000,224000,966000,64500,1560000,638000,410000,381000,241000,2586000,559000,43500,6760000,462000,13000,642000,172000,4420000,130000,32500,270000,3400,78000,986000,270000,2600000,138000,31000,29000,572000,174000,1004000,7621000,13000,31000,379000,1820000,510000,655000,314000,4931000,2579000,560000,1435000,240000,4680000,957000,78500,4474000,52000,2700,817000,793000,104000,78500,1161000,10244000,29000,440000,1724000,65000,30000,536000,157000,52000,5200000,3120000,213000,112000,3869000,105000,748000,247000,330000,1543000,1857000,208000,3900000,38000,26000,60500,1595000,963000,156000,112000,2080000,8598000,726000,159000,1820000,538000,1655000,287000,688000,2871000,1040000,280000,178000,2578000,1037000,6240000,158000,364000,260000,516000,1595000,825000,179000,67000,166000,731000,1820000,52000,1035000,112000,229000,2600000,137000,568000,13000,6760000,13000,101000,860000,34000,2155000,280000,156000,26000,14432000,37000,387000,6706000,552000,1820000,467000,31000,1719000,4035000,1103000,29000,390000,52000,3380000,13000,2080000,560000,1627000,638000,13000,104000,4311000,897000,2802000,130000,552000,242000,87500,60500,476000,4420000,4680000,2340000,4368000,81000,541000,413000,13000,156000,2095000,672000,1204000,7983000,1040000,74000,237000,1681000,260000,9100000,52000,13000,40500,1560000,15965000,1802000,566000,1966000,31000,3016000,52000,3509000,258000,75500,5720000,13000,3353000,258000,123000,83000,172000,130000,438000,568000,141000,156000,2767000,16000,13000,415000,2579000,22500,4299000,104000,29000,957000,3439000,19750,8320000,7222000,298000,52000,14750,403000,29000,20000,312000,13000,403000,129000,83000,1290000,217000,2600000,18000,688000,141000,5587000,2080000,13000,171000,343000,41500,113000,159000,702000,69500,29000,218000,26000,945000,359000,4793000,9656000,1300000,3640000,2600000,13500,18250,128000,24500,16750,78000,538000,24500,1040000,2923000,3871000,712000,67000,395000,28500,4138000,112000,572000,1345000,2600000,3009000,51500,124000,1300000,29000,3200,504000,13500,2080000,104000,382000,147000,280000,738000,860000,83000,52000,9360000,16750,15046000,112000,712000,1560000,572000,26000,1293000,1754000,187000,38500,34500,2149000,803000,140000,29000,299000,1693000,200000,78500,1595000,160000,130000,2236000,130000,2340000,31000,78500,13000,1759000,1655000,172000,156000,1040000,3120000,78000,31000,4785000,1560000,316000,1053000,2600000,830000,1548000,260000,260000,2600000,928000,1505000,2340000,3380000,130000,76500,329000,4500,160000,605000,41500,1052000,381000,4643000,722000,359000,2600000,298000,67000,3439000,1345000,39000,2761000,73000,33500,29000,18750,15750,1137000,567000,86000,26000,13000,173000,1032000,20000,157000,29000,315000,436000,672000,29000,281000,202000,31500,1276000,150000,18000,17500,570000,41000,3380000,1655000,130000,1121000,1035000,12381000,1560000,1560000,112000,859000,712000,12070000,780000,153000,6448000,923000,203000,26000,135000,133000,646000,1032000,888000,412000,2600000,351000,1724000,2080000,6665000,34821000,120000,22500,1820000,196000,672000,524000,426000,1384000,726000,181000,10400000,14000,427000,13000,13500,1892000,27500,881000,43500,15750,672000,672000,2080000,227000,448000,1300000,123000,957000,802000,1980000,31000,168000,309000,101000,13000,255000,1560000,3640000,18250,2340000,3439000,4680000,18000,6909000,349000,29000,1222000,337000,31000,4160000,187000,4958000,62500,530000,4793000,2340000,13000,5200000,18250,3190000,349000,32000,26000,1914000,426000,34000,13000,508000,87500,5200000,2852000,2149000,4311000,1289000,815000,13500,15600000,29000,104000,52000,3900000,6240000,1135000,169000,1290000,13500,1163000,33500,2600000,798000,3640000,1595000,33500,134000,2207000,1892000,752000,7308000,2579000,4160000,3640000,67000,484000,26000,2297000,1410000,138000,31000,712000,22500,37500,1290000,1103000,130000,774000,552000,27500,4160000,5587000,946000,38000,18250,141000,167000,17500,208000,8580000,96500,6379000,8320000,65000,11750,78000,88000,86000,124000,130000,78000,62500,31000,1405000,41000,301000,751000,29000,244000,3120000,103000,78500,538000,47000,33500,112000,20000,3640000,2080000,138000,8598000,957000,43500,21000,136000,336000,104000,6878000,13747000,123000,26000,2340000,883000,464000,123000,672000,2340000,572000,3380000,344000,105000,213000,2600000,6466000,2184000,92500,27500,130000,660000,2600000,862000,583000,84500,28500,888000,315000,273000,16750,60500,51500,3380000,337000,1003000,33500,991000,5200000,3009000,2149000,29000,309000,2600000,991000,881000,20000,78000,20000,1711000,25000,1032000,13500,15750,215000,52000,43500,34500,2340000,29000,2149000,408000,138000,3016000,9360000,985000,40000,1655000,22500,23500,2080000,4160000,336000,364000,1595000,1892000,1664000,141000,6240000,6500000,752000,3380000,980000,1290000,41000,1032000,4160000,517000,150000,29000,362000,451000,4311000,1879000,1121000,67000,138000,298000,260000,58500,785000,2080000,2059000,10400000,416000,31000,95000,581000,282000,18250,1560000,58500,68500,875000,2080000,29000,4680000,29000,3439000,203000,319000,2233000,1595000,68500,236000,1552000,20000,112000,4160000,885000,561000,1300000,52000,4160000,6897000,63000,1290000,1820000,1560000,26000,260000,2397000,1545000,62500,37500,62500,29000,440000,18250,1121000,381000,14432000,18250,128000,112000,19000,1797000,26000,1595000,176000,20000,13000,3828000,67000,39000,68500,224000,52000,1595000,31000,187000,13000,957000,412000,1595000,168000,2690000,453000,43500,156000,645000,56000,516000,831000,65500,1473000,413000,78000,7800000,87500,929000,3992000,1890000,649000,1560000,269000,32500,159000,3900000,191000,4160000,119000,18000,2288000,112000,116000,17680000,52000,302000,477000,2080000,22500,8840000,7738000,182000,29000,13500,234000,430000,83000,26000,412000,96500,448000,638000,3009000,451000,123000,247000,1032000,13500,1595000,1290000,130000,260000,3439000,1632000,26000,3190000,347000,87500,603000,78500,797000,130000,1121000,160000,128000,638000,21000,392000,287000,1896000,367000,11750,1051000,83000,13000,269000,21000,1370000,436000,156000,2600000,966000,15500,13000,13000,293000,45500,530000,13000,7733000,95000,9405000,336000,2207000,976000,459000,13000,22500,41500,897000,452000,964000,134000,15750,29000,39000,3880000,428000,4160000,78000,67000,186000,672000,1290000,18000,408000,31000,181000,37000,945000,4299000,662000,49000,336000,260000,636000,408000,5043000,60500,344000,2340000,1719000,215000,353000,7280000,421000,478000,690000,4299000,2466000,293000,13000,2751000,269000,8082000,2871000,5200000,2211000,52000,31000,830000,182000,65000,52000,802000,26000,103000,1820000,6141000,802000,128000,1595000,355000,137000,655000,7983000,2552000,448000,19959000,9457000,542000,3190000,18810000,1052000,1650000,130000,5200000,1328000,130000,5200000,71500,1233000,38000,52000,134000,113000,747000,672000,20000,13000,110000,65000,33500,381000,60500,186000,388000,538000,987000,104000,727000,30000,156000,123000,92000,2579000,67000,780000,8190000,225000,74000,1216000,45500,5200000,9887000,26000,325000,269000,2860000,7800000,298000,1040000,41500,388000,45000,65000,323000,3120000,643000,29000,74000,40000,68500,52000,526000,169000,27000,1655000,645000,1440000,1436000,1759000,953000,104000,78500,105000,3900000,299000,13756000,3190000,2994000,2207000,10385000,2578000,4423000,101000,29000,1034000,29000,2579000,336000,1032000,83000,1354000,4160000,11440000,78500,8320000,173000,1300000,224000,237000,1276000,52000,220000,83000,473000,542000,1293000,392000,74000,24500,3007000,224000,112000,78000,832000,130000,30000,2600000,780000,60500,50500,10346000,23500,2364000,8840000,2392000,436000,4729000,567000,3910000,1719000,411000,374000,43500,78000,2080000,284000,29000,11960000,276000,5720000,791000,312000,130000,9880000,441000,86000,53000,257000,7308000,73000,2078000,270000,298000,2080000,2860000,1444000,68500,6483000,5200000,957000,357000,3380000,155000,78000,917000,83000,291000,957000,12500,96000,13500,287000,3432000,300000,2600000,78000,52000,68500,15750,24500,157000,462000,2080000,3673000,5200000,30000,381000,4940000,2080000,280000,3380000,2340000,5200000,260000,688000,291000,319000,29000,31000,24500,3380000,797000,2235000,25000,29000,338000,430000,40000,1216000,9360000,52000,105000,802000,87500,435000,638000,104000,364000,3190000,3009000,23500,3640000,3869000,51500,287000,654000,16500,2340000,50500,78500,1075000,10346000,1820000,23000,42500,1040000,5200000,268000,3900000,479000,34500,15750,31000,28000,78500,18200000,147000,405000,471000,2340000,5159000,75500,664000,3640000,687000,69500,1623000,21000,39000,144000,347000,52000,1103000,65000,138000,403000,2149000,12037000,1820000,96500,2860000,104000,38500,105000,897000,1276000,1435000,3900000,2392000,65000,3987000,1560000,86000,96500,923000,1419000,65000,3190000,31000,862000,29000,722000,1040000,314000,713000,31000,1050000,583000,1048000,21500,20000,74000,9360000,1198000,1914000,457000,260000,105000,29000,309000,7397000,1276000,1595000,1596000,1892000,736000,1116000,3120000,13000,174000,368000,162000,56000,398000,885000,1724000,1889000,13000,141000,619000,31000,31500,29000,2466000,6335000,12381000,16000,2242000,8845000,13000,1121000,78000,43000,31000,52000,478000,1238000,957000,5582000,3035000,621000,3120000,42500,452000,881000,756000,179000,26000,321000,729000,1107000,112000,15750,67000,859000,260000,37500,628000,1134000,726000,69000,138000,1595000,52000,54000,124000,2084000,110000,5200000,2154000,5250,1238000,31000,159000,67000,1121000,1328000,285000,1328000,130000,1216000,780000,74000,67000,52000,43000,13000,52000,1759000,7182000,13000,1820000,96500,2235000,17500,146000,4974000,9457000,148000,3640000,33500,258000,52000,19500,3640000,903000,29000,430000,2600000,307000,1017000,483000,1810000,31000,13500,206000,722000,12480000,107000,36000,291000,32000,1560000,695000,1290000,95000,251000,68500,146000,436000,2340000,87500,56000,2199000,3449000,52000,767000,645000,1892000,2600000,7984000,3439000,56000,657000,65000,123000,13000,8924000,78000,29000,319000,2080000,138000,654000,17680000,159000,4680000,1323000,1141000,825000,18500,16750,104000,26000,699000,164000,104000,27500,616000,1820000,260000,1722000,3120000,215000,520000,4160000,83000,52000,3009000,929000,1462000,87500,18250,18250,87500,34000,39000,13000,9000,520000,132000,520000,325000,3992000,16750,977000,653000,2786000,179000,156000,141000,233000,69500,1103000,12250,58500,1582000,527000,291000,1505000,52000,1300000,29000,104000,17500,1548000,624000,6760000,51500,20000,78000,83000,2600000,797000,2340000,1118000,1719000,33500,3120000,2749000,1276000,1290000,83000,3017000,2579000,31000,638000,1474000,412000,1268000,83000,18250,7983000,2149000,22500,388000,1300000,502000,1879000,7983000,2418000,25000,27000,13000,2579000,3900000,4940000,111000,67000,78500,78000,11440000,20500,1549000,1795000,2080000,1104000,1290000,19500000,60500,672000,52000,214000,61000,15750,149000,60500,1300000,1856000,2340000,567000,190000,129000,187000,262000,1273000,38000,2600000,11173000,1820000,381000,99500,479000,1871000,1290000,1219000,141000,430000,1560000,112000,3640000,134000,182000,15046000,2340000,12896000,73000,18000,78500,3007000,157000,1634000,467000,436000,2860000,87500,572000,13000,52000,39000,5200000,47000,2080000,860000,138000,6760000,65000,619000,78000,31000,2579000,104000,15750,940000,2621000,13000,541000,485000,328000,7800000,29000,31500,13000,363000,67000,1560000,13000,6240000,1276000,1548000,2340000,25000,2600000,6240000,4423000,138000,21500,20500,1328000,18000,15750,133000,8500,1301000,141000,260000,1069000,39000,15476000,52000,13000,2837000,2397000,26000,56000,25000,776000,1574000,77500,203000,2073000,31000,5200000,323000,31000,514000,150000,13000,29000,224000,315000,602000,91500,1375000,29000,3190000,1585000,13000,104000,13000,2578000,20000,1104000,1235000,860000,26000,742000,13000,1003000,15750,83000,672000,6630000,576000,1582000,40000,78500,13000,1793000,417000,69000,438000,260000,8598000,18000,135000,47000,33500,5200000,8320000,818000,824000,645000,2600000,2579000,598000,44000,311000,261000,3640000,1255000,241000,78500,619000,47500,18250,336000,58500,17250,52000,3380000,217000,957000,74000,338000,1767000,13000,2579000,177000,21000,520000,4974000,654000,31000,828000,261000,392000,141000,508000,2578000,11250,179000,130000,18000,398000,67000,3120000,464000,560000,78000,41500,6909000,731000,381000,898000,157000,13000,65500,87500,2397000,516000,29000,143000,29000,6240000,1276000,37000,2600000,269000,90500,22500,412000,62500,5720000,75000,206000,4680000,2080000,3640000,7800000,38500,5720000,26000,1857000,223000,827000,560000,598000,13000,572000,13250,1256000,638000,29000,163000,18250,538000,1820000,672000,232000,2555000,42125000,282000,2340000,13000,66500,650000,46000,29000,29000,23000,1031000,16750,150000,755000,455000,1276000,33500,13500,654000,29000,365000,2397000,2340000,1040000,18000,4299000,2472000,830000,785000,2340000,29000,1032000,534000,1560000,112000,112000,986000,862000,860000,33500,252000,33500,778000,29000,344000,740000,638000,923000,13000,13000,20000,645000,1345000,2080000,112000,58500,672000,130000,104000,128000,483000,51500,32500,567000,1163000,132000,1328000,2860000,39000,624000,92000,14500,29000,140000,541000,416000,8621000,1444000,2711000,32500,94000,1820000,19250,780000,74000,20000,440000,1412000,5720000,3640000,83000,1820000,3640000,87500,15500,34500,1440000,112000,780000,120000,1572000,695000,101000,435000,104000,290000,1991000,544000,19250,157000,3120000,52000,52000,67000,2080000,448000,5720000,270000,52000,315000,58000,224000,24500,516000,3871000,202000,3439000,590000,3640000,123000,752000,1232000,52000,780000,112000,353000,1266000,903000,132000,10317000,332000,1170000,52000,3120000,3871000,255000,2080000,234000,2080000,1300000,1793000,4160000,101000,199000,13500,1457000,1035000,13000,26000,3370000,31000,1914000,210000,1548000,381000,5720000,6552000,688000,96500,157000,2340000,776000,1289000,130000,29000,1441000,56000,29000,679000,399000,51500,242000,12896000,2080000,135000,27000,785000,65500,878000,292000,908000,74000,130000,29000,86000,343000,5200000,332000,186000,2600000,162000,1017000,260000,78000,328000,2550000,25000,43500,741000,78500,1040000,20000,430000,2718000,13000,104000,65500,6240000,507000,1560000,104000,26000,338000,15500,134000,1300000,3190000,20000,78000,2143000,217000,14616000,30000,3319000,1161000,208000,1583000,1116000,163000,83000,28500,770000,177000,2080000,31000,619000,7738000,15750,78000,47000,29000,298000,785000,4160000,1077000,3198000,278000,649000,52000,13500,1298000,1289000,1028000,1820000,26000,47000],\"coloraxis\":\"coloraxis\",\"symbol\":\"circle\"},\"name\":\"\",\"showlegend\":false,\"type\":\"splom\"}],                        {\"template\":{\"data\":{\"histogram2dcontour\":[{\"type\":\"histogram2dcontour\",\"colorbar\":{\"outlinewidth\":0,\"ticks\":\"\"},\"colorscale\":[[0.0,\"#0d0887\"],[0.1111111111111111,\"#46039f\"],[0.2222222222222222,\"#7201a8\"],[0.3333333333333333,\"#9c179e\"],[0.4444444444444444,\"#bd3786\"],[0.5555555555555556,\"#d8576b\"],[0.6666666666666666,\"#ed7953\"],[0.7777777777777778,\"#fb9f3a\"],[0.8888888888888888,\"#fdca26\"],[1.0,\"#f0f921\"]]}],\"choropleth\":[{\"type\":\"choropleth\",\"colorbar\":{\"outlinewidth\":0,\"ticks\":\"\"}}],\"histogram2d\":[{\"type\":\"histogram2d\",\"colorbar\":{\"outlinewidth\":0,\"ticks\":\"\"},\"colorscale\":[[0.0,\"#0d0887\"],[0.1111111111111111,\"#46039f\"],[0.2222222222222222,\"#7201a8\"],[0.3333333333333333,\"#9c179e\"],[0.4444444444444444,\"#bd3786\"],[0.5555555555555556,\"#d8576b\"],[0.6666666666666666,\"#ed7953\"],[0.7777777777777778,\"#fb9f3a\"],[0.8888888888888888,\"#fdca26\"],[1.0,\"#f0f921\"]]}],\"heatmap\":[{\"type\":\"heatmap\",\"colorbar\":{\"outlinewidth\":0,\"ticks\":\"\"},\"colorscale\":[[0.0,\"#0d0887\"],[0.1111111111111111,\"#46039f\"],[0.2222222222222222,\"#7201a8\"],[0.3333333333333333,\"#9c179e\"],[0.4444444444444444,\"#bd3786\"],[0.5555555555555556,\"#d8576b\"],[0.6666666666666666,\"#ed7953\"],[0.7777777777777778,\"#fb9f3a\"],[0.8888888888888888,\"#fdca26\"],[1.0,\"#f0f921\"]]}],\"heatmapgl\":[{\"type\":\"heatmapgl\",\"colorbar\":{\"outlinewidth\":0,\"ticks\":\"\"},\"colorscale\":[[0.0,\"#0d0887\"],[0.1111111111111111,\"#46039f\"],[0.2222222222222222,\"#7201a8\"],[0.3333333333333333,\"#9c179e\"],[0.4444444444444444,\"#bd3786\"],[0.5555555555555556,\"#d8576b\"],[0.6666666666666666,\"#ed7953\"],[0.7777777777777778,\"#fb9f3a\"],[0.8888888888888888,\"#fdca26\"],[1.0,\"#f0f921\"]]}],\"contourcarpet\":[{\"type\":\"contourcarpet\",\"colorbar\":{\"outlinewidth\":0,\"ticks\":\"\"}}],\"contour\":[{\"type\":\"contour\",\"colorbar\":{\"outlinewidth\":0,\"ticks\":\"\"},\"colorscale\":[[0.0,\"#0d0887\"],[0.1111111111111111,\"#46039f\"],[0.2222222222222222,\"#7201a8\"],[0.3333333333333333,\"#9c179e\"],[0.4444444444444444,\"#bd3786\"],[0.5555555555555556,\"#d8576b\"],[0.6666666666666666,\"#ed7953\"],[0.7777777777777778,\"#fb9f3a\"],[0.8888888888888888,\"#fdca26\"],[1.0,\"#f0f921\"]]}],\"surface\":[{\"type\":\"surface\",\"colorbar\":{\"outlinewidth\":0,\"ticks\":\"\"},\"colorscale\":[[0.0,\"#0d0887\"],[0.1111111111111111,\"#46039f\"],[0.2222222222222222,\"#7201a8\"],[0.3333333333333333,\"#9c179e\"],[0.4444444444444444,\"#bd3786\"],[0.5555555555555556,\"#d8576b\"],[0.6666666666666666,\"#ed7953\"],[0.7777777777777778,\"#fb9f3a\"],[0.8888888888888888,\"#fdca26\"],[1.0,\"#f0f921\"]]}],\"mesh3d\":[{\"type\":\"mesh3d\",\"colorbar\":{\"outlinewidth\":0,\"ticks\":\"\"}}],\"scatter\":[{\"fillpattern\":{\"fillmode\":\"overlay\",\"size\":10,\"solidity\":0.2},\"type\":\"scatter\"}],\"parcoords\":[{\"type\":\"parcoords\",\"line\":{\"colorbar\":{\"outlinewidth\":0,\"ticks\":\"\"}}}],\"scatterpolargl\":[{\"type\":\"scatterpolargl\",\"marker\":{\"colorbar\":{\"outlinewidth\":0,\"ticks\":\"\"}}}],\"bar\":[{\"error_x\":{\"color\":\"#2a3f5f\"},\"error_y\":{\"color\":\"#2a3f5f\"},\"marker\":{\"line\":{\"color\":\"#E5ECF6\",\"width\":0.5},\"pattern\":{\"fillmode\":\"overlay\",\"size\":10,\"solidity\":0.2}},\"type\":\"bar\"}],\"scattergeo\":[{\"type\":\"scattergeo\",\"marker\":{\"colorbar\":{\"outlinewidth\":0,\"ticks\":\"\"}}}],\"scatterpolar\":[{\"type\":\"scatterpolar\",\"marker\":{\"colorbar\":{\"outlinewidth\":0,\"ticks\":\"\"}}}],\"histogram\":[{\"marker\":{\"pattern\":{\"fillmode\":\"overlay\",\"size\":10,\"solidity\":0.2}},\"type\":\"histogram\"}],\"scattergl\":[{\"type\":\"scattergl\",\"marker\":{\"colorbar\":{\"outlinewidth\":0,\"ticks\":\"\"}}}],\"scatter3d\":[{\"type\":\"scatter3d\",\"line\":{\"colorbar\":{\"outlinewidth\":0,\"ticks\":\"\"}},\"marker\":{\"colorbar\":{\"outlinewidth\":0,\"ticks\":\"\"}}}],\"scattermapbox\":[{\"type\":\"scattermapbox\",\"marker\":{\"colorbar\":{\"outlinewidth\":0,\"ticks\":\"\"}}}],\"scatterternary\":[{\"type\":\"scatterternary\",\"marker\":{\"colorbar\":{\"outlinewidth\":0,\"ticks\":\"\"}}}],\"scattercarpet\":[{\"type\":\"scattercarpet\",\"marker\":{\"colorbar\":{\"outlinewidth\":0,\"ticks\":\"\"}}}],\"carpet\":[{\"aaxis\":{\"endlinecolor\":\"#2a3f5f\",\"gridcolor\":\"white\",\"linecolor\":\"white\",\"minorgridcolor\":\"white\",\"startlinecolor\":\"#2a3f5f\"},\"baxis\":{\"endlinecolor\":\"#2a3f5f\",\"gridcolor\":\"white\",\"linecolor\":\"white\",\"minorgridcolor\":\"white\",\"startlinecolor\":\"#2a3f5f\"},\"type\":\"carpet\"}],\"table\":[{\"cells\":{\"fill\":{\"color\":\"#EBF0F8\"},\"line\":{\"color\":\"white\"}},\"header\":{\"fill\":{\"color\":\"#C8D4E3\"},\"line\":{\"color\":\"white\"}},\"type\":\"table\"}],\"barpolar\":[{\"marker\":{\"line\":{\"color\":\"#E5ECF6\",\"width\":0.5},\"pattern\":{\"fillmode\":\"overlay\",\"size\":10,\"solidity\":0.2}},\"type\":\"barpolar\"}],\"pie\":[{\"automargin\":true,\"type\":\"pie\"}]},\"layout\":{\"autotypenumbers\":\"strict\",\"colorway\":[\"#636efa\",\"#EF553B\",\"#00cc96\",\"#ab63fa\",\"#FFA15A\",\"#19d3f3\",\"#FF6692\",\"#B6E880\",\"#FF97FF\",\"#FECB52\"],\"font\":{\"color\":\"#2a3f5f\"},\"hovermode\":\"closest\",\"hoverlabel\":{\"align\":\"left\"},\"paper_bgcolor\":\"white\",\"plot_bgcolor\":\"#E5ECF6\",\"polar\":{\"bgcolor\":\"#E5ECF6\",\"angularaxis\":{\"gridcolor\":\"white\",\"linecolor\":\"white\",\"ticks\":\"\"},\"radialaxis\":{\"gridcolor\":\"white\",\"linecolor\":\"white\",\"ticks\":\"\"}},\"ternary\":{\"bgcolor\":\"#E5ECF6\",\"aaxis\":{\"gridcolor\":\"white\",\"linecolor\":\"white\",\"ticks\":\"\"},\"baxis\":{\"gridcolor\":\"white\",\"linecolor\":\"white\",\"ticks\":\"\"},\"caxis\":{\"gridcolor\":\"white\",\"linecolor\":\"white\",\"ticks\":\"\"}},\"coloraxis\":{\"colorbar\":{\"outlinewidth\":0,\"ticks\":\"\"}},\"colorscale\":{\"sequential\":[[0.0,\"#0d0887\"],[0.1111111111111111,\"#46039f\"],[0.2222222222222222,\"#7201a8\"],[0.3333333333333333,\"#9c179e\"],[0.4444444444444444,\"#bd3786\"],[0.5555555555555556,\"#d8576b\"],[0.6666666666666666,\"#ed7953\"],[0.7777777777777778,\"#fb9f3a\"],[0.8888888888888888,\"#fdca26\"],[1.0,\"#f0f921\"]],\"sequentialminus\":[[0.0,\"#0d0887\"],[0.1111111111111111,\"#46039f\"],[0.2222222222222222,\"#7201a8\"],[0.3333333333333333,\"#9c179e\"],[0.4444444444444444,\"#bd3786\"],[0.5555555555555556,\"#d8576b\"],[0.6666666666666666,\"#ed7953\"],[0.7777777777777778,\"#fb9f3a\"],[0.8888888888888888,\"#fdca26\"],[1.0,\"#f0f921\"]],\"diverging\":[[0,\"#8e0152\"],[0.1,\"#c51b7d\"],[0.2,\"#de77ae\"],[0.3,\"#f1b6da\"],[0.4,\"#fde0ef\"],[0.5,\"#f7f7f7\"],[0.6,\"#e6f5d0\"],[0.7,\"#b8e186\"],[0.8,\"#7fbc41\"],[0.9,\"#4d9221\"],[1,\"#276419\"]]},\"xaxis\":{\"gridcolor\":\"white\",\"linecolor\":\"white\",\"ticks\":\"\",\"title\":{\"standoff\":15},\"zerolinecolor\":\"white\",\"automargin\":true,\"zerolinewidth\":2},\"yaxis\":{\"gridcolor\":\"white\",\"linecolor\":\"white\",\"ticks\":\"\",\"title\":{\"standoff\":15},\"zerolinecolor\":\"white\",\"automargin\":true,\"zerolinewidth\":2},\"scene\":{\"xaxis\":{\"backgroundcolor\":\"#E5ECF6\",\"gridcolor\":\"white\",\"linecolor\":\"white\",\"showbackground\":true,\"ticks\":\"\",\"zerolinecolor\":\"white\",\"gridwidth\":2},\"yaxis\":{\"backgroundcolor\":\"#E5ECF6\",\"gridcolor\":\"white\",\"linecolor\":\"white\",\"showbackground\":true,\"ticks\":\"\",\"zerolinecolor\":\"white\",\"gridwidth\":2},\"zaxis\":{\"backgroundcolor\":\"#E5ECF6\",\"gridcolor\":\"white\",\"linecolor\":\"white\",\"showbackground\":true,\"ticks\":\"\",\"zerolinecolor\":\"white\",\"gridwidth\":2}},\"shapedefaults\":{\"line\":{\"color\":\"#2a3f5f\"}},\"annotationdefaults\":{\"arrowcolor\":\"#2a3f5f\",\"arrowhead\":0,\"arrowwidth\":1},\"geo\":{\"bgcolor\":\"white\",\"landcolor\":\"#E5ECF6\",\"subunitcolor\":\"white\",\"showland\":true,\"showlakes\":true,\"lakecolor\":\"white\"},\"title\":{\"x\":0.05},\"mapbox\":{\"style\":\"light\"}}},\"coloraxis\":{\"colorbar\":{\"title\":{\"text\":\"Wage\"}},\"colorscale\":[[0.0,\"#0d0887\"],[0.1111111111111111,\"#46039f\"],[0.2222222222222222,\"#7201a8\"],[0.3333333333333333,\"#9c179e\"],[0.4444444444444444,\"#bd3786\"],[0.5555555555555556,\"#d8576b\"],[0.6666666666666666,\"#ed7953\"],[0.7777777777777778,\"#fb9f3a\"],[0.8888888888888888,\"#fdca26\"],[1.0,\"#f0f921\"]]},\"legend\":{\"tracegroupgap\":0},\"title\":{\"text\":\"Scatterplot Matrix\"},\"dragmode\":\"select\"},                        {\"responsive\": true}                    ).then(function(){\n",
              "                            \n",
              "var gd = document.getElementById('6e42664c-f1e3-4916-ae6f-62bb30cb53dc');\n",
              "var x = new MutationObserver(function (mutations, observer) {{\n",
              "        var display = window.getComputedStyle(gd).display;\n",
              "        if (!display || display === 'none') {{\n",
              "            console.log([gd, 'removed!']);\n",
              "            Plotly.purge(gd);\n",
              "            observer.disconnect();\n",
              "        }}\n",
              "}});\n",
              "\n",
              "// Listen for the removal of the full notebook cells\n",
              "var notebookContainer = gd.closest('#notebook-container');\n",
              "if (notebookContainer) {{\n",
              "    x.observe(notebookContainer, {childList: true});\n",
              "}}\n",
              "\n",
              "// Listen for the clearing of the current output cell\n",
              "var outputEl = gd.closest('.output');\n",
              "if (outputEl) {{\n",
              "    x.observe(outputEl, {childList: true});\n",
              "}}\n",
              "\n",
              "                        })                };                            </script>        </div>\n",
              "</body>\n",
              "</html>"
            ]
          },
          "metadata": {}
        }
      ]
    },
    {
      "cell_type": "markdown",
      "source": [
        "## (C)\n",
        "Perform the multiple regression procedure on the training data set in Python. Show\n",
        "the summary output and the ANOVA table."
      ],
      "metadata": {
        "id": "oLCQ0Al7LkQQ"
      }
    },
    {
      "cell_type": "code",
      "source": [
        "!pip install statsmodels\n",
        "import statsmodels.api as sm\n",
        "import statsmodels.formula.api as smf\n",
        "from statsmodels.stats.anova import anova_lm"
      ],
      "metadata": {
        "colab": {
          "base_uri": "https://localhost:8080/"
        },
        "id": "n1rjju8aNQAa",
        "outputId": "79dcdc90-c596-47b1-e415-70f77449102e"
      },
      "execution_count": 12,
      "outputs": [
        {
          "output_type": "stream",
          "name": "stdout",
          "text": [
            "Requirement already satisfied: statsmodels in /usr/local/lib/python3.10/dist-packages (0.14.4)\n",
            "Requirement already satisfied: numpy<3,>=1.22.3 in /usr/local/lib/python3.10/dist-packages (from statsmodels) (1.26.4)\n",
            "Requirement already satisfied: scipy!=1.9.2,>=1.8 in /usr/local/lib/python3.10/dist-packages (from statsmodels) (1.13.1)\n",
            "Requirement already satisfied: pandas!=2.1.0,>=1.4 in /usr/local/lib/python3.10/dist-packages (from statsmodels) (2.2.2)\n",
            "Requirement already satisfied: patsy>=0.5.6 in /usr/local/lib/python3.10/dist-packages (from statsmodels) (1.0.1)\n",
            "Requirement already satisfied: packaging>=21.3 in /usr/local/lib/python3.10/dist-packages (from statsmodels) (24.2)\n",
            "Requirement already satisfied: python-dateutil>=2.8.2 in /usr/local/lib/python3.10/dist-packages (from pandas!=2.1.0,>=1.4->statsmodels) (2.8.2)\n",
            "Requirement already satisfied: pytz>=2020.1 in /usr/local/lib/python3.10/dist-packages (from pandas!=2.1.0,>=1.4->statsmodels) (2024.2)\n",
            "Requirement already satisfied: tzdata>=2022.7 in /usr/local/lib/python3.10/dist-packages (from pandas!=2.1.0,>=1.4->statsmodels) (2024.2)\n",
            "Requirement already satisfied: six>=1.5 in /usr/local/lib/python3.10/dist-packages (from python-dateutil>=2.8.2->pandas!=2.1.0,>=1.4->statsmodels) (1.17.0)\n"
          ]
        }
      ]
    },
    {
      "cell_type": "code",
      "source": [
        "X_train_const = sm.add_constant(X_train)\n",
        "\n",
        "# Fit the multiple linear regression model\n",
        "model = sm.OLS(y_train, X_train_const).fit()\n",
        "\n",
        "print(model.summary())\n",
        "anova_data = pd.DataFrame({'resid': model.resid,\n",
        "                           'fittedvalues': model.fittedvalues,\n",
        "                           'Age': X_train['Age'],\n",
        "                           'Apps': X_train['Apps'],\n",
        "                           'Caps': X_train['Caps']})\n",
        "\n",
        "anova_table = anova_lm(smf.ols('resid ~ fittedvalues + Age + Apps + Caps', data=anova_data).fit())\n",
        "\n",
        "print(anova_table)"
      ],
      "metadata": {
        "colab": {
          "base_uri": "https://localhost:8080/"
        },
        "id": "CtBLrXGELwvH",
        "outputId": "e1af51e1-8988-4870-e550-0ce1e773b2fa"
      },
      "execution_count": 13,
      "outputs": [
        {
          "output_type": "stream",
          "name": "stdout",
          "text": [
            "                            OLS Regression Results                            \n",
            "==============================================================================\n",
            "Dep. Variable:                   Wage   R-squared:                       0.369\n",
            "Model:                            OLS   Adj. R-squared:                  0.369\n",
            "Method:                 Least Squares   F-statistic:                     609.1\n",
            "Date:                Tue, 17 Dec 2024   Prob (F-statistic):          1.22e-311\n",
            "Time:                        23:47:08   Log-Likelihood:                -49716.\n",
            "No. Observations:                3125   AIC:                         9.944e+04\n",
            "Df Residuals:                    3121   BIC:                         9.946e+04\n",
            "Df Model:                           3                                         \n",
            "Covariance Type:            nonrobust                                         \n",
            "==============================================================================\n",
            "                 coef    std err          t      P>|t|      [0.025      0.975]\n",
            "------------------------------------------------------------------------------\n",
            "const       5.793e+05   5.66e+04     10.231      0.000    4.68e+05     6.9e+05\n",
            "Age        -4.346e+06   4.41e+05     -9.850      0.000   -5.21e+06   -3.48e+06\n",
            "Apps         7.19e+06    5.4e+05     13.303      0.000    6.13e+06    8.25e+06\n",
            "Caps        1.033e+07   3.72e+05     27.767      0.000     9.6e+06    1.11e+07\n",
            "==============================================================================\n",
            "Omnibus:                     2728.152   Durbin-Watson:                   1.966\n",
            "Prob(Omnibus):                  0.000   Jarque-Bera (JB):           235427.535\n",
            "Skew:                           3.706   Prob(JB):                         0.00\n",
            "Kurtosis:                      44.871   Cond. No.                         20.8\n",
            "==============================================================================\n",
            "\n",
            "Notes:\n",
            "[1] Standard Errors assume that the covariance matrix of the errors is correctly specified.\n",
            "                  df        sum_sq       mean_sq             F    PR(>F)\n",
            "fittedvalues     1.0  1.319806e-16  1.319806e-16  3.418955e-29  1.000000\n",
            "Age              1.0  3.255314e-14  3.255314e-14  8.432881e-27  1.000000\n",
            "Apps             1.0  1.374293e-15  1.374293e-15  3.560103e-28  1.000000\n",
            "Caps             1.0  2.786941e+12  2.786941e+12  7.219564e-01  0.395568\n",
            "Residual      3121.0  1.204788e+16  3.860263e+12           NaN       NaN\n"
          ]
        }
      ]
    },
    {
      "cell_type": "markdown",
      "source": [
        "## (D)\n",
        " Write the least squares prediction equation for the response variable. (Note: This\n",
        "does not include the error term in the model.)\n",
        "- Wage = 579278.81 + -4345869.05 * Age + 7190023.29 * Apps + 10327452.89 * Caps"
      ],
      "metadata": {
        "id": "4pLlXJAiOZ_V"
      }
    },
    {
      "cell_type": "code",
      "source": [
        "print(\"Wage =\", model.params[0], \"+\",  model.params[1], \"* Age +\", model.params[2], \"* Apps +\", model.params[3], \"* Caps\")"
      ],
      "metadata": {
        "colab": {
          "base_uri": "https://localhost:8080/"
        },
        "id": "_XDBpbP7OgIE",
        "outputId": "7ffd718f-c1fd-4f04-85f4-f8fda824f586"
      },
      "execution_count": 14,
      "outputs": [
        {
          "output_type": "stream",
          "name": "stdout",
          "text": [
            "Wage = 579278.8112849529 + -4345869.052337444 * Age + 7190023.287149105 * Apps + 10327452.894118186 * Caps\n"
          ]
        },
        {
          "output_type": "stream",
          "name": "stderr",
          "text": [
            "<ipython-input-14-8ee50e036bde>:1: FutureWarning:\n",
            "\n",
            "Series.__getitem__ treating keys as positions is deprecated. In a future version, integer keys will always be treated as labels (consistent with DataFrame behavior). To access a value by position, use `ser.iloc[pos]`\n",
            "\n"
          ]
        }
      ]
    },
    {
      "cell_type": "markdown",
      "source": [
        "## (E)\n",
        "Conduct a test of overall model utility (the global F-test) at the 5% level. State the\n",
        "hypotheses, write the value of the test statistic, report the p-value, and state the\n",
        "conclusion. Is the model statistically useful for predicting the response?\n",
        "-  Hypotheses:\n",
        " - H0: β1 = β2 = β3 = 0 (The model is not statistically useful)\n",
        " - H1: At least one βi ≠ 0 (The model is statistically useful)\n",
        "- F-Statistix: 609.08\n",
        "- Pvalue: 0.000000\n",
        "- So we can reject the null hypothesis, the model is statistically useful for predicting the response."
      ],
      "metadata": {
        "id": "FGVX-IaZPAMM"
      }
    },
    {
      "cell_type": "code",
      "source": [
        "# Test statistic:\n",
        "f_statistic = model.fvalue\n",
        "print(f\"F-statistic: {f_statistic}\")\n",
        "\n",
        "# P-value:\n",
        "p_value = model.f_pvalue\n",
        "print(f\"P-value: {p_value}\")\n",
        "\n",
        "# Conclusion:\n",
        "alpha = 0.05\n",
        "if p_value < alpha:\n",
        "    print(\"Conclusion: Reject the null hypothesis. The model is statistically useful for predicting the response.\")\n",
        "else:\n",
        "    print(\"Conclusion: Fail to reject the null hypothesis. The model is not statistically useful for predicting the response.\")"
      ],
      "metadata": {
        "colab": {
          "base_uri": "https://localhost:8080/"
        },
        "id": "97XHaNxLPERW",
        "outputId": "6f1d1514-d71d-4e70-c87b-d4a3474741a1"
      },
      "execution_count": 15,
      "outputs": [
        {
          "output_type": "stream",
          "name": "stdout",
          "text": [
            "F-statistic: 609.0806923571348\n",
            "P-value: 1.2241609198273e-311\n",
            "Conclusion: Reject the null hypothesis. The model is statistically useful for predicting the response.\n"
          ]
        }
      ]
    },
    {
      "cell_type": "markdown",
      "source": [
        "##(F)\n",
        " Report the p-values for the t-tests on the individual β parameters of the model (the\n",
        "coefficients of the above explanatory variables). Which of the above explanatory\n",
        "variables are statistically useful for predicting the response variable?\n",
        "- All the explanatory variables are statistically signifcant\n",
        "##(G)\n",
        "Report and interpret the R2\n",
        "a value for the model.\n",
        "- The R-Squared is 36.93%, meaning about 37 percent of the variability in the dependent wage, is explained by these variables. Some of it is due to categorical variables being Omitted variables"
      ],
      "metadata": {
        "id": "oJJMnNeeQEnZ"
      }
    },
    {
      "cell_type": "code",
      "source": [
        "print(model.pvalues)\n",
        "\n",
        "alpha = 0.05\n",
        "significant_vars = []\n",
        "for var, p_value in model.pvalues.items():\n",
        "    if p_value < alpha and var != 'const':\n",
        "        significant_vars.append(var)\n",
        "print(\"\\nStatistically significant variables:\", significant_vars)\n",
        "\n",
        "\n",
        "# (g)\n",
        "r_squared = model.rsquared\n",
        "print(f\"\\nR-squared: {r_squared}\")\n",
        "print(f\"Interpretation: {r_squared*100:.2f}% of the variability in the response variable (Wage) is explained by the model.\")"
      ],
      "metadata": {
        "colab": {
          "base_uri": "https://localhost:8080/"
        },
        "id": "xii4TUDwQKnG",
        "outputId": "3500d5ed-42c9-41e5-a036-340ee8c1d327"
      },
      "execution_count": 16,
      "outputs": [
        {
          "output_type": "stream",
          "name": "stdout",
          "text": [
            "const     3.445248e-24\n",
            "Age       1.455798e-22\n",
            "Apps      2.577146e-39\n",
            "Caps     7.714124e-152\n",
            "dtype: float64\n",
            "\n",
            "Statistically significant variables: ['Age', 'Apps', 'Caps']\n",
            "\n",
            "R-squared: 0.3692709549393852\n",
            "Interpretation: 36.93% of the variability in the response variable (Wage) is explained by the model.\n"
          ]
        }
      ]
    },
    {
      "cell_type": "markdown",
      "source": [
        "## (H)\n",
        "Create a residual plot for the model. That is, create a scatterplot of the residuals vs\n",
        "the fitted values (or predicted values). Is this a good residual plot? Briefly explain.\n",
        "Create also a histogram of the residuals\n",
        "- The residual plot shows it is a good predictor when the wages are lower but the variabilty increases out of proportion as the wages would increase. Some of the variability is due to omitted varaible bias"
      ],
      "metadata": {
        "id": "OrZ8_BH3Q-6-"
      }
    },
    {
      "cell_type": "code",
      "source": [
        "\n",
        "\n",
        "# Create a residual plot\n",
        "plt.figure(figsize=(8, 6))\n",
        "plt.scatter(model.fittedvalues, model.resid)\n",
        "plt.xlabel(\"Fitted Values\")\n",
        "plt.ylabel(\"Residuals\")\n",
        "plt.title(\"Residual Plot\")\n",
        "plt.axhline(y=0, color='r', linestyle='--')  # Add a horizontal line at y=0\n",
        "plt.show()\n",
        "\n",
        "# Create a histogram of residuals\n",
        "plt.figure(figsize=(8, 6))\n",
        "plt.hist(model.resid, bins=30)\n",
        "plt.xlabel(\"Residuals\")\n",
        "plt.ylabel(\"Frequency\")\n",
        "plt.title(\"Histogram of Residuals\")\n",
        "plt.show()"
      ],
      "metadata": {
        "colab": {
          "base_uri": "https://localhost:8080/",
          "height": 1000
        },
        "id": "h9CB2jwZRCU6",
        "outputId": "63b3bef4-eb89-4871-dae0-79b4d8d72ede"
      },
      "execution_count": 17,
      "outputs": [
        {
          "output_type": "display_data",
          "data": {
            "text/plain": [
              "<Figure size 800x600 with 1 Axes>"
            ],
            "image/png": "[encoded data removed]"
          },
          "metadata": {}
        },
        {
          "output_type": "display_data",
          "data": {
            "text/plain": [
              "<Figure size 800x600 with 1 Axes>"
            ],
            "image/png": "[encoded data removed]"
          },
          "metadata": {}
        }
      ]
    },
    {
      "cell_type": "markdown",
      "source": [
        "##(I)\n",
        "Based on the results from (e), (g) and (h), would you recommend using your model\n",
        "to predict the response variable?\n",
        "- I beleive that because the model is restricted to quanitative variables, we have a lower R-squared of approximately 37%. However in the context of the dataset,  predicting a futbol players wage based on strictly appereances, international appearances, and age, will yield these expected results. It is not by all means useless, but we can easily fix the low r-squared. Variables like the club they play for and what league that club is in matters, and we clearly have highly statistically significant variables as it is so adding a couple more categorical would perfect the model."
      ],
      "metadata": {
        "id": "qXoOGiOIRwUA"
      }
    },
    {
      "cell_type": "markdown",
      "source": [
        "## (J)\n",
        "Regardless of the outcome of (i) above, calculate the predicted values of the first-\n",
        "order multiple regression model on the test set. Then, calculate the RMSE (root\n",
        "mean square error) of the model on the test set.\n",
        "- RMSE of 2475813\n",
        "- Because a lot of the wages are in the millions this is not a terrible result"
      ],
      "metadata": {
        "id": "V_ojZdB6Ssmk"
      }
    },
    {
      "cell_type": "code",
      "source": [
        "X_test_const = sm.add_constant(X_test)\n",
        "\n",
        "y_pred = model.predict(X_test_const)\n",
        "\n",
        "# Calculate the RMSE\n",
        "rmse = np.sqrt(mean_squared_error(y_test, y_pred))\n",
        "print(f\"RMSE on the test set: {rmse}\")"
      ],
      "metadata": {
        "colab": {
          "base_uri": "https://localhost:8080/"
        },
        "id": "bM_eiFEVSwjw",
        "outputId": "3e8e484d-5ba1-4f1d-d391-3070b272df74"
      },
      "execution_count": 18,
      "outputs": [
        {
          "output_type": "stream",
          "name": "stdout",
          "text": [
            "RMSE on the test set: 2475813.1621288336\n"
          ]
        }
      ]
    },
    {
      "cell_type": "markdown",
      "source": [
        "# 3) Second-Order Multiple Linear Regression\n"
      ],
      "metadata": {
        "id": "woJCDyBiU4Xo"
      }
    },
    {
      "cell_type": "markdown",
      "source": [
        "# (a)\n",
        "Write a complete second-order model for the response variable (y) as a function of\n",
        "the three quantitative explanatory variables you selected. (Note: This includes all\n",
        "interaction terms and all curvature terms. As before, include the error term in the\n",
        "model and state the assumptions.)\n",
        "\n",
        " y = Beta0 + Beta1 * X1 + Beta2 * X2 + Beta3 * X3 + Beta 1 1 * X1^2 + Beta 2 2 * X2^2 + Beta 3 3 * X3^2 + Beta 1 2 * X1 * X2 + Beta 1 3 * X1 * X3 + Beta 2 3 * X2 * X3 + E"
      ],
      "metadata": {
        "id": "cS_bxUo7VVzI"
      }
    },
    {
      "cell_type": "markdown",
      "source": [
        "# (b)\n",
        "Fit the second-order model on the training data set in Python. Show the summary\n",
        "output and the ANOVA table."
      ],
      "metadata": {
        "id": "gJiqkP5SWrnw"
      }
    },
    {
      "cell_type": "code",
      "source": [
        "secondorder = 'Wage ~ Age + Apps + Caps + I(Age**2) + I(Apps**2) + I(Caps**2) + I(Age*Apps) + I(Age*Caps) + I(Apps*Caps)'\n",
        "reg = smf.ols(secondorder, data=train_wage)\n",
        "res = reg.fit()\n",
        "print(res.summary())"
      ],
      "metadata": {
        "colab": {
          "base_uri": "https://localhost:8080/"
        },
        "id": "Vn6y9qSdWuu1",
        "outputId": "1012c28d-2fdd-4ae6-815a-1958e2323958"
      },
      "execution_count": 19,
      "outputs": [
        {
          "output_type": "stream",
          "name": "stdout",
          "text": [
            "                            OLS Regression Results                            \n",
            "==============================================================================\n",
            "Dep. Variable:                   Wage   R-squared:                       0.442\n",
            "Model:                            OLS   Adj. R-squared:                  0.441\n",
            "Method:                 Least Squares   F-statistic:                     274.5\n",
            "Date:                Tue, 17 Dec 2024   Prob (F-statistic):               0.00\n",
            "Time:                        23:49:34   Log-Likelihood:                -49524.\n",
            "No. Observations:                3125   AIC:                         9.907e+04\n",
            "Df Residuals:                    3115   BIC:                         9.913e+04\n",
            "Df Model:                           9                                         \n",
            "Covariance Type:            nonrobust                                         \n",
            "==================================================================================\n",
            "                     coef    std err          t      P>|t|      [0.025      0.975]\n",
            "----------------------------------------------------------------------------------\n",
            "Intercept       1.423e+05   6.53e+04      2.179      0.029    1.43e+04     2.7e+05\n",
            "Age            -2.413e+06   9.56e+05     -2.524      0.012   -4.29e+06   -5.39e+05\n",
            "Apps            9.562e+06    1.2e+06      8.000      0.000    7.22e+06    1.19e+07\n",
            "Caps            1.983e+07    1.2e+06     16.582      0.000    1.75e+07    2.22e+07\n",
            "I(Age ** 2)     4.646e+06   2.77e+06      1.678      0.093   -7.82e+05    1.01e+07\n",
            "I(Apps ** 2)    9.619e+05   4.41e+06      0.218      0.827   -7.69e+06    9.61e+06\n",
            "I(Caps ** 2)    9.236e+05   2.02e+06      0.457      0.647   -3.04e+06    4.88e+06\n",
            "I(Age * Apps)  -1.389e+07   6.62e+06     -2.097      0.036   -2.69e+07   -9.01e+05\n",
            "I(Age * Caps)  -5.114e+07   3.87e+06    -13.198      0.000   -5.87e+07   -4.35e+07\n",
            "I(Apps * Caps)  4.022e+07   4.48e+06      8.988      0.000    3.14e+07     4.9e+07\n",
            "==============================================================================\n",
            "Omnibus:                     2729.424   Durbin-Watson:                   1.986\n",
            "Prob(Omnibus):                  0.000   Jarque-Bera (JB):           268493.068\n",
            "Skew:                           3.660   Prob(JB):                         0.00\n",
            "Kurtosis:                      47.816   Cond. No.                         281.\n",
            "==============================================================================\n",
            "\n",
            "Notes:\n",
            "[1] Standard Errors assume that the covariance matrix of the errors is correctly specified.\n"
          ]
        }
      ]
    },
    {
      "cell_type": "code",
      "source": [
        "secondorder_anova_table = anova_lm(res, typ=2)\n",
        "print(secondorder_anova_table)"
      ],
      "metadata": {
        "id": "vKlA1Pejhnew",
        "colab": {
          "base_uri": "https://localhost:8080/"
        },
        "outputId": "aa035ce5-db00-470f-ae65-8e5b4440f621"
      },
      "execution_count": 20,
      "outputs": [
        {
          "output_type": "stream",
          "name": "stdout",
          "text": [
            "                      sum_sq      df           F        PR(>F)\n",
            "Age             2.178869e+13     1.0    6.371577  1.164556e-02\n",
            "Apps            2.188706e+14     1.0   64.003445  1.735278e-15\n",
            "Caps            9.402904e+14     1.0  274.965303  3.026065e-59\n",
            "I(Age ** 2)     9.631230e+12     1.0    2.816421  9.340453e-02\n",
            "I(Apps ** 2)    1.625370e+11     1.0    0.047530  8.274326e-01\n",
            "I(Caps ** 2)    7.155997e+11     1.0    0.209260  6.473800e-01\n",
            "I(Age * Apps)   1.503519e+13     1.0    4.396680  3.608940e-02\n",
            "I(Age * Caps)   5.956984e+14     1.0  174.197661  9.638849e-39\n",
            "I(Apps * Caps)  2.762321e+14     1.0   80.777432  4.281335e-19\n",
            "Residual        1.065227e+16  3115.0         NaN           NaN\n"
          ]
        }
      ]
    },
    {
      "cell_type": "markdown",
      "source": [
        "# (c)\n"
      ],
      "metadata": {
        "id": "zddVM6D9hray"
      }
    },
    {
      "cell_type": "code",
      "source": [
        "p_value = res.pvalues[0]\n",
        "r_squared = res.rsquared\n",
        "r_squared_adj = res.rsquared_adj"
      ],
      "metadata": {
        "id": "R0NKnhtEhux5",
        "colab": {
          "base_uri": "https://localhost:8080/"
        },
        "outputId": "ce492bb0-f318-41a1-d15d-381eb8e86902"
      },
      "execution_count": 21,
      "outputs": [
        {
          "output_type": "stream",
          "name": "stderr",
          "text": [
            "<ipython-input-21-0f4e2e14f042>:1: FutureWarning:\n",
            "\n",
            "Series.__getitem__ treating keys as positions is deprecated. In a future version, integer keys will always be treated as labels (consistent with DataFrame behavior). To access a value by position, use `ser.iloc[pos]`\n",
            "\n"
          ]
        }
      ]
    },
    {
      "cell_type": "code",
      "source": [
        "print(\"P-value for the overall model : \", p_value)\n",
        "print(\"R-squared : \", r_squared)\n",
        "print(\"Adjusted R-squared : \", r_squared_adj)"
      ],
      "metadata": {
        "id": "AZITU9N6hwtU",
        "colab": {
          "base_uri": "https://localhost:8080/"
        },
        "outputId": "8e8ec7bd-8e71-4c5c-c492-d753b0fe0aed"
      },
      "execution_count": 22,
      "outputs": [
        {
          "output_type": "stream",
          "name": "stdout",
          "text": [
            "P-value for the overall model :  0.02940568435829294\n",
            "R-squared :  0.4423337105013162\n",
            "Adjusted R-squared :  0.4407224756359909\n"
          ]
        }
      ]
    },
    {
      "cell_type": "code",
      "source": [
        "# Conclusion:\n",
        "alpha = 0.05\n",
        "if p_value < alpha:\n",
        "    print(\"Conclusion: Reject the null hypothesis. The model is statistically useful for predicting the response.\")\n",
        "else:\n",
        "    print(\"Conclusion: Fail to reject the null hypothesis. The model is not statistically useful for predicting the response.\")"
      ],
      "metadata": {
        "id": "2vzHt8zXh1Wv",
        "colab": {
          "base_uri": "https://localhost:8080/"
        },
        "outputId": "c65028b8-335a-4d85-9cc5-7a9f15cc2fed"
      },
      "execution_count": 23,
      "outputs": [
        {
          "output_type": "stream",
          "name": "stdout",
          "text": [
            "Conclusion: Reject the null hypothesis. The model is statistically useful for predicting the response.\n"
          ]
        }
      ]
    },
    {
      "cell_type": "markdown",
      "source": [
        "# Our R-Squared is 43.78%, meaning approximately 43.78%  of the variability in the dependent wage is explained by these variables in the second-order model. This percentage is higher than the adjusted R-squared value in the first-order model which was 36.93%. We expect the second-order model will be better for making predictions.\n",
        "\n",
        "\n"
      ],
      "metadata": {
        "id": "WEMXhggKh2s7"
      }
    },
    {
      "cell_type": "markdown",
      "source": [
        "# (d)"
      ],
      "metadata": {
        "id": "E7taSDcHiGhe"
      }
    },
    {
      "cell_type": "code",
      "source": [
        "X_test_const = sm.add_constant(X_test)\n",
        "y_pred = res.predict(X_test_const)\n",
        "\n",
        "# Calculate RMSE\n",
        "from sklearn.metrics import mean_squared_error\n",
        "rmse = np.sqrt(mean_squared_error(y_test, y_pred))\n",
        "print(\"RMSE on the test set:\", rmse)"
      ],
      "metadata": {
        "id": "p-lqQ_V0iJAP",
        "colab": {
          "base_uri": "https://localhost:8080/"
        },
        "outputId": "6c49210b-62f6-482f-a31a-0458e25e2bb2"
      },
      "execution_count": 24,
      "outputs": [
        {
          "output_type": "stream",
          "name": "stdout",
          "text": [
            "RMSE on the test set: 2280520.934088251\n"
          ]
        }
      ]
    },
    {
      "cell_type": "markdown",
      "source": [
        "# # 4) k-Nearest Neighbors for Regression"
      ],
      "metadata": {
        "id": "pZFlAvJEiMJ4"
      }
    },
    {
      "cell_type": "markdown",
      "source": [
        "# (a)"
      ],
      "metadata": {
        "id": "hKSc51Rhil6A"
      }
    },
    {
      "cell_type": "code",
      "source": [
        "import numpy as np\n",
        "import pandas as pd\n",
        "from matplotlib import pyplot as plt\n",
        "import seaborn as sns\n",
        "from sklearn.model_selection import train_test_split\n",
        "from sklearn.neighbors import KNeighborsRegressor\n",
        "from sklearn.metrics import mean_squared_error\n",
        "import statsmodels.api as sm\n",
        "import statsmodels.formula.api as smf"
      ],
      "metadata": {
        "id": "GowYyPT9ioln"
      },
      "execution_count": 25,
      "outputs": []
    },
    {
      "cell_type": "code",
      "source": [
        "numk = 10\n",
        "kvalues = np.zeros(numk)\n",
        "RMSETestSet = np.zeros(numk)\n",
        "for k in range(1,numk+1):\n",
        "    kvalues[k-1] = k\n",
        "knnreg = KNeighborsRegressor(n_neighbors=k)\n",
        "knnreg.fit(X_train, y_train)\n",
        "y_pred = knnreg.predict(X_test)\n",
        "RMSETestSet[k-1] = np.sqrt(mean_squared_error(y_test, y_pred))\n",
        "results_test = pd.concat([pd.Series(kvalues), pd.Series(RMSETestSet)],\\\n",
        "axis=1)\n",
        "results_test.columns = ['k', 'RMSE']\n",
        "rmse_k10 = results_test[results_test['k'] == 10]['RMSE'].values[0]\n"
      ],
      "metadata": {
        "id": "dA7Kr0XQirXf"
      },
      "execution_count": 26,
      "outputs": []
    },
    {
      "cell_type": "code",
      "source": [
        "print(\"RMSE for k = \", k, \":\", rmse_k10)"
      ],
      "metadata": {
        "id": "RqDFe-Q6iuwI",
        "colab": {
          "base_uri": "https://localhost:8080/"
        },
        "outputId": "b8ae6fcc-52e0-4811-dfe2-f1a538ddf930"
      },
      "execution_count": 27,
      "outputs": [
        {
          "output_type": "stream",
          "name": "stdout",
          "text": [
            "RMSE for k =  10 : 2364317.3483076473\n"
          ]
        }
      ]
    },
    {
      "cell_type": "markdown",
      "source": [
        "# (b)"
      ],
      "metadata": {
        "id": "TGB3Z4mMiwqf"
      }
    },
    {
      "cell_type": "markdown",
      "source": [
        "#\n",
        "Our RMSE for k = 10 value of 2,364,874.39 is larger than our RMSE value of 2,268,908.02 from above, so the second-order model has the better predictive ability on the test set."
      ],
      "metadata": {
        "id": "TJKIUXyQizWt"
      }
    },
    {
      "cell_type": "markdown",
      "source": [
        "# **Part 2: Statistical and Machine Learning Methods for Classification**\n",
        "\n",
        "*   List item\n",
        "*   List item\n",
        "\n"
      ],
      "metadata": {
        "id": "gm_FG2-4Ia8O"
      }
    },
    {
      "cell_type": "code",
      "source": [
        "import numpy as np\n",
        "import pandas as pd\n",
        "from matplotlib import pyplot as plt\n",
        "import seaborn as sns\n",
        "from sklearn import datasets\n",
        "from sklearn.model_selection import train_test_split\n",
        "from sklearn.neighbors import KNeighborsClassifier\n",
        "from sklearn.metrics import accuracy_score\n",
        "from sklearn import metrics"
      ],
      "metadata": {
        "id": "L5YoRo7JIxq2"
      },
      "execution_count": 28,
      "outputs": []
    },
    {
      "cell_type": "markdown",
      "source": [
        "## 1. Data Description and Preparation"
      ],
      "metadata": {
        "id": "uT7UkMiuI29G"
      }
    },
    {
      "cell_type": "markdown",
      "source": [
        "### (a) Description of dataset"
      ],
      "metadata": {
        "id": "cd2CZbN4I_fn"
      }
    },
    {
      "cell_type": "markdown",
      "source": [
        "https://www.kaggle.com/datasets/prishasawhney/mushroom-dataset\n",
        "\n",
        "The dataset that was selected is to determine whether a mushroom is edible or poisonous based on their physical and seasonal characteristics. The dataset contains a mix of numerical variables and categorical variables which are represented in a numerical format. The variables that are being analyzed to predict the edibility of mushrooms are cap diameter, cap shape, gill attachment, gill color, stem height, stem width, stem color, and season. The target variable in this data set is class.\n",
        "\n",
        "For this assignment the variables that we are using to predict the edibility of a mushroom, or the target variable class, are its stem height, stem width, and stem color. We are using the machine learning models KNN classifer, decision tree, and random forrest tree to identify the most effective predictive model to predict a mushroom edibility. These models will be evaluated and compared based on their accuracy."
      ],
      "metadata": {
        "id": "j0lK_WIdJH8B"
      }
    },
    {
      "cell_type": "markdown",
      "source": [
        "### (b) Pandas dataframe with response variable (class) and three quantative variables (stem-height, stem-width, stem-color). Address any missing values."
      ],
      "metadata": {
        "id": "N3nv3sjrJKfa"
      }
    },
    {
      "cell_type": "code",
      "source": [
        "from google.colab import drive\n",
        "drive.mount('/content/drive')\n",
        "!cp \"/content/drive/My Drive/mushroom.csv\" .\n",
        "\n",
        "mushroom = pd.read_csv(\"mushroom.csv\")"
      ],
      "metadata": {
        "colab": {
          "base_uri": "https://localhost:8080/"
        },
        "id": "xeftA5FhI-Mp",
        "outputId": "3c65fa58-cbce-41a5-9f6d-94ca58ad31fb"
      },
      "execution_count": 29,
      "outputs": [
        {
          "output_type": "stream",
          "name": "stdout",
          "text": [
            "Drive already mounted at /content/drive; to attempt to forcibly remount, call drive.mount(\"/content/drive\", force_remount=True).\n"
          ]
        }
      ]
    },
    {
      "cell_type": "code",
      "source": [
        "# separating the target variable and the three quantative variable from dataset\n",
        "selected_columns = ['class', 'stem-height', 'stem-width', 'stem-color']\n",
        "mushroom = mushroom[selected_columns]"
      ],
      "metadata": {
        "id": "pjBS6ClIJJQj"
      },
      "execution_count": 30,
      "outputs": []
    },
    {
      "cell_type": "code",
      "source": [
        "# check for missing values\n",
        "missing_count = mushroom.isnull().sum()\n",
        "missing_count"
      ],
      "metadata": {
        "id": "sW6hxKqeJllw",
        "colab": {
          "base_uri": "https://localhost:8080/",
          "height": 207
        },
        "outputId": "748ccecd-01e0-4f75-cbc5-a73e9584b328"
      },
      "execution_count": 31,
      "outputs": [
        {
          "output_type": "execute_result",
          "data": {
            "text/plain": [
              "class          0\n",
              "stem-height    0\n",
              "stem-width     0\n",
              "stem-color     0\n",
              "dtype: int64"
            ],
            "text/html": [
              "<div>\n",
              "<style scoped>\n",
              "    .dataframe tbody tr th:only-of-type {\n",
              "        vertical-align: middle;\n",
              "    }\n",
              "\n",
              "    .dataframe tbody tr th {\n",
              "        vertical-align: top;\n",
              "    }\n",
              "\n",
              "    .dataframe thead th {\n",
              "        text-align: right;\n",
              "    }\n",
              "</style>\n",
              "<table border=\"1\" class=\"dataframe\">\n",
              "  <thead>\n",
              "    <tr style=\"text-align: right;\">\n",
              "      <th></th>\n",
              "      <th>0</th>\n",
              "    </tr>\n",
              "  </thead>\n",
              "  <tbody>\n",
              "    <tr>\n",
              "      <th>class</th>\n",
              "      <td>0</td>\n",
              "    </tr>\n",
              "    <tr>\n",
              "      <th>stem-height</th>\n",
              "      <td>0</td>\n",
              "    </tr>\n",
              "    <tr>\n",
              "      <th>stem-width</th>\n",
              "      <td>0</td>\n",
              "    </tr>\n",
              "    <tr>\n",
              "      <th>stem-color</th>\n",
              "      <td>0</td>\n",
              "    </tr>\n",
              "  </tbody>\n",
              "</table>\n",
              "</div><br><label><b>dtype:</b> int64</label>"
            ]
          },
          "metadata": {},
          "execution_count": 31
        }
      ]
    },
    {
      "cell_type": "markdown",
      "source": [
        "There were no missing values in the dataset. If there were to be any missing values an imputation method would have been perform to impute the missing values with either the mean or median to resist outliers, minimize bias, and to keep the datasets central tendency."
      ],
      "metadata": {
        "id": "ABP7S2IbJprh"
      }
    },
    {
      "cell_type": "markdown",
      "source": [
        "### (c) Normalize dataset"
      ],
      "metadata": {
        "id": "JF7NGolHJsCF"
      }
    },
    {
      "cell_type": "code",
      "source": [
        "from sklearn.preprocessing import MinMaxScaler\n",
        "\n",
        "# Normalize explanatory variables\n",
        "scaler = MinMaxScaler()\n",
        "mushroom.iloc[:, 1:] = scaler.fit_transform(mushroom.iloc[:, 1:])\n",
        "\n",
        "# Verify normalization using describe()\n",
        "print(\"Normalized DataFrame:\\n\", mushroom.describe())"
      ],
      "metadata": {
        "id": "REcDKkXRJvtX",
        "colab": {
          "base_uri": "https://localhost:8080/"
        },
        "outputId": "1464f87b-8aac-4c74-d675-373a357a1678"
      },
      "execution_count": 32,
      "outputs": [
        {
          "output_type": "stream",
          "name": "stdout",
          "text": [
            "Normalized DataFrame:\n",
            "               class   stem-height    stem-width    stem-color\n",
            "count  54035.000000  54035.000000  54035.000000  54035.000000\n",
            "mean       0.549181      0.197837      0.294503      0.701505\n",
            "std        0.497580      0.169749      0.219125      0.271840\n",
            "min        0.000000      0.000000      0.000000      0.000000\n",
            "25%        0.000000      0.070555      0.117960      0.500000\n",
            "50%        1.000000      0.154599      0.258616      0.916667\n",
            "75%        1.000000      0.274957      0.426730      0.916667\n",
            "max        1.000000      1.000000      1.000000      1.000000\n"
          ]
        },
        {
          "output_type": "stream",
          "name": "stderr",
          "text": [
            "<ipython-input-32-a8285a83cda3>:5: FutureWarning:\n",
            "\n",
            "Setting an item of incompatible dtype is deprecated and will raise in a future error of pandas. Value '[0.43289437 0.43625665 0.43877837 ... 0.16363127 0.13757355 0.13785374]' has dtype incompatible with int64, please explicitly cast to a compatible dtype first.\n",
            "\n",
            "<ipython-input-32-a8285a83cda3>:5: FutureWarning:\n",
            "\n",
            "Setting an item of incompatible dtype is deprecated and will raise in a future error of pandas. Value '[0.91666667 0.91666667 0.91666667 ... 1.         1.         1.        ]' has dtype incompatible with int64, please explicitly cast to a compatible dtype first.\n",
            "\n"
          ]
        }
      ]
    },
    {
      "cell_type": "markdown",
      "source": [
        "### (d) Split data into testing and training set"
      ],
      "metadata": {
        "id": "CMk_41HrJytH"
      }
    },
    {
      "cell_type": "code",
      "source": [
        "X = mushroom.iloc[:, 1:]  # Explanatory variables\n",
        "y = mushroom['class']     # Response variable\n",
        "X_train, X_test, y_train, y_test = train_test_split(X, y, test_size=0.2, random_state=42)\n",
        "print(f\"Training set size: {X_train.shape}, Test set size: {X_test.shape}\")"
      ],
      "metadata": {
        "id": "FgrMoBt5J3Ff",
        "colab": {
          "base_uri": "https://localhost:8080/"
        },
        "outputId": "66d7f099-5aa4-450e-acac-d5e09c2dfa11"
      },
      "execution_count": 33,
      "outputs": [
        {
          "output_type": "stream",
          "name": "stdout",
          "text": [
            "Training set size: (43228, 3), Test set size: (10807, 3)\n"
          ]
        }
      ]
    },
    {
      "cell_type": "markdown",
      "source": [
        "## 2. Comparision of Machine Learning Methods of Classification"
      ],
      "metadata": {
        "id": "QUipprerJ8no"
      }
    },
    {
      "cell_type": "markdown",
      "source": [
        "### (a) KNN Classification"
      ],
      "metadata": {
        "id": "7yXpQhdPKCgp"
      }
    },
    {
      "cell_type": "code",
      "source": [
        "# Create a KNN classifier with k=10\n",
        "knn = KNeighborsClassifier(n_neighbors=10)"
      ],
      "metadata": {
        "id": "o9WtrGtqKY84"
      },
      "execution_count": 34,
      "outputs": []
    },
    {
      "cell_type": "code",
      "source": [
        "# Fit the model on the training data\n",
        "knn.fit(X_train, y_train)"
      ],
      "metadata": {
        "id": "-hJGRBLtKa7r",
        "colab": {
          "base_uri": "https://localhost:8080/",
          "height": 80
        },
        "outputId": "a7934481-3e48-4f79-edd0-5da456068175"
      },
      "execution_count": 35,
      "outputs": [
        {
          "output_type": "execute_result",
          "data": {
            "text/plain": [
              "KNeighborsClassifier(n_neighbors=10)"
            ],
            "text/html": [
              "<style>#sk-container-id-1 {\n",
              "  /* Definition of color scheme common for light and dark mode */\n",
              "  --sklearn-color-text: black;\n",
              "  --sklearn-color-line: gray;\n",
              "  /* Definition of color scheme for unfitted estimators */\n",
              "  --sklearn-color-unfitted-level-0: #fff5e6;\n",
              "  --sklearn-color-unfitted-level-1: #f6e4d2;\n",
              "  --sklearn-color-unfitted-level-2: #ffe0b3;\n",
              "  --sklearn-color-unfitted-level-3: chocolate;\n",
              "  /* Definition of color scheme for fitted estimators */\n",
              "  --sklearn-color-fitted-level-0: #f0f8ff;\n",
              "  --sklearn-color-fitted-level-1: #d4ebff;\n",
              "  --sklearn-color-fitted-level-2: #b3dbfd;\n",
              "  --sklearn-color-fitted-level-3: cornflowerblue;\n",
              "\n",
              "  /* Specific color for light theme */\n",
              "  --sklearn-color-text-on-default-background: var(--sg-text-color, var(--theme-code-foreground, var(--jp-content-font-color1, black)));\n",
              "  --sklearn-color-background: var(--sg-background-color, var(--theme-background, var(--jp-layout-color0, white)));\n",
              "  --sklearn-color-border-box: var(--sg-text-color, var(--theme-code-foreground, var(--jp-content-font-color1, black)));\n",
              "  --sklearn-color-icon: #696969;\n",
              "\n",
              "  @media (prefers-color-scheme: dark) {\n",
              "    /* Redefinition of color scheme for dark theme */\n",
              "    --sklearn-color-text-on-default-background: var(--sg-text-color, var(--theme-code-foreground, var(--jp-content-font-color1, white)));\n",
              "    --sklearn-color-background: var(--sg-background-color, var(--theme-background, var(--jp-layout-color0, #111)));\n",
              "    --sklearn-color-border-box: var(--sg-text-color, var(--theme-code-foreground, var(--jp-content-font-color1, white)));\n",
              "    --sklearn-color-icon: #878787;\n",
              "  }\n",
              "}\n",
              "\n",
              "#sk-container-id-1 {\n",
              "  color: var(--sklearn-color-text);\n",
              "}\n",
              "\n",
              "#sk-container-id-1 pre {\n",
              "  padding: 0;\n",
              "}\n",
              "\n",
              "#sk-container-id-1 input.sk-hidden--visually {\n",
              "  border: 0;\n",
              "  clip: rect(1px 1px 1px 1px);\n",
              "  clip: rect(1px, 1px, 1px, 1px);\n",
              "  height: 1px;\n",
              "  margin: -1px;\n",
              "  overflow: hidden;\n",
              "  padding: 0;\n",
              "  position: absolute;\n",
              "  width: 1px;\n",
              "}\n",
              "\n",
              "#sk-container-id-1 div.sk-dashed-wrapped {\n",
              "  border: 1px dashed var(--sklearn-color-line);\n",
              "  margin: 0 0.4em 0.5em 0.4em;\n",
              "  box-sizing: border-box;\n",
              "  padding-bottom: 0.4em;\n",
              "  background-color: var(--sklearn-color-background);\n",
              "}\n",
              "\n",
              "#sk-container-id-1 div.sk-container {\n",
              "  /* jupyter's `normalize.less` sets `[hidden] { display: none; }`\n",
              "     but bootstrap.min.css set `[hidden] { display: none !important; }`\n",
              "     so we also need the `!important` here to be able to override the\n",
              "     default hidden behavior on the sphinx rendered scikit-learn.org.\n",
              "     See: https://github.com/scikit-learn/scikit-learn/issues/21755 */\n",
              "  display: inline-block !important;\n",
              "  position: relative;\n",
              "}\n",
              "\n",
              "#sk-container-id-1 div.sk-text-repr-fallback {\n",
              "  display: none;\n",
              "}\n",
              "\n",
              "div.sk-parallel-item,\n",
              "div.sk-serial,\n",
              "div.sk-item {\n",
              "  /* draw centered vertical line to link estimators */\n",
              "  background-image: linear-gradient(var(--sklearn-color-text-on-default-background), var(--sklearn-color-text-on-default-background));\n",
              "  background-size: 2px 100%;\n",
              "  background-repeat: no-repeat;\n",
              "  background-position: center center;\n",
              "}\n",
              "\n",
              "/* Parallel-specific style estimator block */\n",
              "\n",
              "#sk-container-id-1 div.sk-parallel-item::after {\n",
              "  content: \"\";\n",
              "  width: 100%;\n",
              "  border-bottom: 2px solid var(--sklearn-color-text-on-default-background);\n",
              "  flex-grow: 1;\n",
              "}\n",
              "\n",
              "#sk-container-id-1 div.sk-parallel {\n",
              "  display: flex;\n",
              "  align-items: stretch;\n",
              "  justify-content: center;\n",
              "  background-color: var(--sklearn-color-background);\n",
              "  position: relative;\n",
              "}\n",
              "\n",
              "#sk-container-id-1 div.sk-parallel-item {\n",
              "  display: flex;\n",
              "  flex-direction: column;\n",
              "}\n",
              "\n",
              "#sk-container-id-1 div.sk-parallel-item:first-child::after {\n",
              "  align-self: flex-end;\n",
              "  width: 50%;\n",
              "}\n",
              "\n",
              "#sk-container-id-1 div.sk-parallel-item:last-child::after {\n",
              "  align-self: flex-start;\n",
              "  width: 50%;\n",
              "}\n",
              "\n",
              "#sk-container-id-1 div.sk-parallel-item:only-child::after {\n",
              "  width: 0;\n",
              "}\n",
              "\n",
              "/* Serial-specific style estimator block */\n",
              "\n",
              "#sk-container-id-1 div.sk-serial {\n",
              "  display: flex;\n",
              "  flex-direction: column;\n",
              "  align-items: center;\n",
              "  background-color: var(--sklearn-color-background);\n",
              "  padding-right: 1em;\n",
              "  padding-left: 1em;\n",
              "}\n",
              "\n",
              "\n",
              "/* Toggleable style: style used for estimator/Pipeline/ColumnTransformer box that is\n",
              "clickable and can be expanded/collapsed.\n",
              "- Pipeline and ColumnTransformer use this feature and define the default style\n",
              "- Estimators will overwrite some part of the style using the `sk-estimator` class\n",
              "*/\n",
              "\n",
              "/* Pipeline and ColumnTransformer style (default) */\n",
              "\n",
              "#sk-container-id-1 div.sk-toggleable {\n",
              "  /* Default theme specific background. It is overwritten whether we have a\n",
              "  specific estimator or a Pipeline/ColumnTransformer */\n",
              "  background-color: var(--sklearn-color-background);\n",
              "}\n",
              "\n",
              "/* Toggleable label */\n",
              "#sk-container-id-1 label.sk-toggleable__label {\n",
              "  cursor: pointer;\n",
              "  display: block;\n",
              "  width: 100%;\n",
              "  margin-bottom: 0;\n",
              "  padding: 0.5em;\n",
              "  box-sizing: border-box;\n",
              "  text-align: center;\n",
              "}\n",
              "\n",
              "#sk-container-id-1 label.sk-toggleable__label-arrow:before {\n",
              "  /* Arrow on the left of the label */\n",
              "  content: \"▸\";\n",
              "  float: left;\n",
              "  margin-right: 0.25em;\n",
              "  color: var(--sklearn-color-icon);\n",
              "}\n",
              "\n",
              "#sk-container-id-1 label.sk-toggleable__label-arrow:hover:before {\n",
              "  color: var(--sklearn-color-text);\n",
              "}\n",
              "\n",
              "/* Toggleable content - dropdown */\n",
              "\n",
              "#sk-container-id-1 div.sk-toggleable__content {\n",
              "  max-height: 0;\n",
              "  max-width: 0;\n",
              "  overflow: hidden;\n",
              "  text-align: left;\n",
              "  /* unfitted */\n",
              "  background-color: var(--sklearn-color-unfitted-level-0);\n",
              "}\n",
              "\n",
              "#sk-container-id-1 div.sk-toggleable__content.fitted {\n",
              "  /* fitted */\n",
              "  background-color: var(--sklearn-color-fitted-level-0);\n",
              "}\n",
              "\n",
              "#sk-container-id-1 div.sk-toggleable__content pre {\n",
              "  margin: 0.2em;\n",
              "  border-radius: 0.25em;\n",
              "  color: var(--sklearn-color-text);\n",
              "  /* unfitted */\n",
              "  background-color: var(--sklearn-color-unfitted-level-0);\n",
              "}\n",
              "\n",
              "#sk-container-id-1 div.sk-toggleable__content.fitted pre {\n",
              "  /* unfitted */\n",
              "  background-color: var(--sklearn-color-fitted-level-0);\n",
              "}\n",
              "\n",
              "#sk-container-id-1 input.sk-toggleable__control:checked~div.sk-toggleable__content {\n",
              "  /* Expand drop-down */\n",
              "  max-height: 200px;\n",
              "  max-width: 100%;\n",
              "  overflow: auto;\n",
              "}\n",
              "\n",
              "#sk-container-id-1 input.sk-toggleable__control:checked~label.sk-toggleable__label-arrow:before {\n",
              "  content: \"▾\";\n",
              "}\n",
              "\n",
              "/* Pipeline/ColumnTransformer-specific style */\n",
              "\n",
              "#sk-container-id-1 div.sk-label input.sk-toggleable__control:checked~label.sk-toggleable__label {\n",
              "  color: var(--sklearn-color-text);\n",
              "  background-color: var(--sklearn-color-unfitted-level-2);\n",
              "}\n",
              "\n",
              "#sk-container-id-1 div.sk-label.fitted input.sk-toggleable__control:checked~label.sk-toggleable__label {\n",
              "  background-color: var(--sklearn-color-fitted-level-2);\n",
              "}\n",
              "\n",
              "/* Estimator-specific style */\n",
              "\n",
              "/* Colorize estimator box */\n",
              "#sk-container-id-1 div.sk-estimator input.sk-toggleable__control:checked~label.sk-toggleable__label {\n",
              "  /* unfitted */\n",
              "  background-color: var(--sklearn-color-unfitted-level-2);\n",
              "}\n",
              "\n",
              "#sk-container-id-1 div.sk-estimator.fitted input.sk-toggleable__control:checked~label.sk-toggleable__label {\n",
              "  /* fitted */\n",
              "  background-color: var(--sklearn-color-fitted-level-2);\n",
              "}\n",
              "\n",
              "#sk-container-id-1 div.sk-label label.sk-toggleable__label,\n",
              "#sk-container-id-1 div.sk-label label {\n",
              "  /* The background is the default theme color */\n",
              "  color: var(--sklearn-color-text-on-default-background);\n",
              "}\n",
              "\n",
              "/* On hover, darken the color of the background */\n",
              "#sk-container-id-1 div.sk-label:hover label.sk-toggleable__label {\n",
              "  color: var(--sklearn-color-text);\n",
              "  background-color: var(--sklearn-color-unfitted-level-2);\n",
              "}\n",
              "\n",
              "/* Label box, darken color on hover, fitted */\n",
              "#sk-container-id-1 div.sk-label.fitted:hover label.sk-toggleable__label.fitted {\n",
              "  color: var(--sklearn-color-text);\n",
              "  background-color: var(--sklearn-color-fitted-level-2);\n",
              "}\n",
              "\n",
              "/* Estimator label */\n",
              "\n",
              "#sk-container-id-1 div.sk-label label {\n",
              "  font-family: monospace;\n",
              "  font-weight: bold;\n",
              "  display: inline-block;\n",
              "  line-height: 1.2em;\n",
              "}\n",
              "\n",
              "#sk-container-id-1 div.sk-label-container {\n",
              "  text-align: center;\n",
              "}\n",
              "\n",
              "/* Estimator-specific */\n",
              "#sk-container-id-1 div.sk-estimator {\n",
              "  font-family: monospace;\n",
              "  border: 1px dotted var(--sklearn-color-border-box);\n",
              "  border-radius: 0.25em;\n",
              "  box-sizing: border-box;\n",
              "  margin-bottom: 0.5em;\n",
              "  /* unfitted */\n",
              "  background-color: var(--sklearn-color-unfitted-level-0);\n",
              "}\n",
              "\n",
              "#sk-container-id-1 div.sk-estimator.fitted {\n",
              "  /* fitted */\n",
              "  background-color: var(--sklearn-color-fitted-level-0);\n",
              "}\n",
              "\n",
              "/* on hover */\n",
              "#sk-container-id-1 div.sk-estimator:hover {\n",
              "  /* unfitted */\n",
              "  background-color: var(--sklearn-color-unfitted-level-2);\n",
              "}\n",
              "\n",
              "#sk-container-id-1 div.sk-estimator.fitted:hover {\n",
              "  /* fitted */\n",
              "  background-color: var(--sklearn-color-fitted-level-2);\n",
              "}\n",
              "\n",
              "/* Specification for estimator info (e.g. \"i\" and \"?\") */\n",
              "\n",
              "/* Common style for \"i\" and \"?\" */\n",
              "\n",
              ".sk-estimator-doc-link,\n",
              "a:link.sk-estimator-doc-link,\n",
              "a:visited.sk-estimator-doc-link {\n",
              "  float: right;\n",
              "  font-size: smaller;\n",
              "  line-height: 1em;\n",
              "  font-family: monospace;\n",
              "  background-color: var(--sklearn-color-background);\n",
              "  border-radius: 1em;\n",
              "  height: 1em;\n",
              "  width: 1em;\n",
              "  text-decoration: none !important;\n",
              "  margin-left: 1ex;\n",
              "  /* unfitted */\n",
              "  border: var(--sklearn-color-unfitted-level-1) 1pt solid;\n",
              "  color: var(--sklearn-color-unfitted-level-1);\n",
              "}\n",
              "\n",
              ".sk-estimator-doc-link.fitted,\n",
              "a:link.sk-estimator-doc-link.fitted,\n",
              "a:visited.sk-estimator-doc-link.fitted {\n",
              "  /* fitted */\n",
              "  border: var(--sklearn-color-fitted-level-1) 1pt solid;\n",
              "  color: var(--sklearn-color-fitted-level-1);\n",
              "}\n",
              "\n",
              "/* On hover */\n",
              "div.sk-estimator:hover .sk-estimator-doc-link:hover,\n",
              ".sk-estimator-doc-link:hover,\n",
              "div.sk-label-container:hover .sk-estimator-doc-link:hover,\n",
              ".sk-estimator-doc-link:hover {\n",
              "  /* unfitted */\n",
              "  background-color: var(--sklearn-color-unfitted-level-3);\n",
              "  color: var(--sklearn-color-background);\n",
              "  text-decoration: none;\n",
              "}\n",
              "\n",
              "div.sk-estimator.fitted:hover .sk-estimator-doc-link.fitted:hover,\n",
              ".sk-estimator-doc-link.fitted:hover,\n",
              "div.sk-label-container:hover .sk-estimator-doc-link.fitted:hover,\n",
              ".sk-estimator-doc-link.fitted:hover {\n",
              "  /* fitted */\n",
              "  background-color: var(--sklearn-color-fitted-level-3);\n",
              "  color: var(--sklearn-color-background);\n",
              "  text-decoration: none;\n",
              "}\n",
              "\n",
              "/* Span, style for the box shown on hovering the info icon */\n",
              ".sk-estimator-doc-link span {\n",
              "  display: none;\n",
              "  z-index: 9999;\n",
              "  position: relative;\n",
              "  font-weight: normal;\n",
              "  right: .2ex;\n",
              "  padding: .5ex;\n",
              "  margin: .5ex;\n",
              "  width: min-content;\n",
              "  min-width: 20ex;\n",
              "  max-width: 50ex;\n",
              "  color: var(--sklearn-color-text);\n",
              "  box-shadow: 2pt 2pt 4pt #999;\n",
              "  /* unfitted */\n",
              "  background: var(--sklearn-color-unfitted-level-0);\n",
              "  border: .5pt solid var(--sklearn-color-unfitted-level-3);\n",
              "}\n",
              "\n",
              ".sk-estimator-doc-link.fitted span {\n",
              "  /* fitted */\n",
              "  background: var(--sklearn-color-fitted-level-0);\n",
              "  border: var(--sklearn-color-fitted-level-3);\n",
              "}\n",
              "\n",
              ".sk-estimator-doc-link:hover span {\n",
              "  display: block;\n",
              "}\n",
              "\n",
              "/* \"?\"-specific style due to the `<a>` HTML tag */\n",
              "\n",
              "#sk-container-id-1 a.estimator_doc_link {\n",
              "  float: right;\n",
              "  font-size: 1rem;\n",
              "  line-height: 1em;\n",
              "  font-family: monospace;\n",
              "  background-color: var(--sklearn-color-background);\n",
              "  border-radius: 1rem;\n",
              "  height: 1rem;\n",
              "  width: 1rem;\n",
              "  text-decoration: none;\n",
              "  /* unfitted */\n",
              "  color: var(--sklearn-color-unfitted-level-1);\n",
              "  border: var(--sklearn-color-unfitted-level-1) 1pt solid;\n",
              "}\n",
              "\n",
              "#sk-container-id-1 a.estimator_doc_link.fitted {\n",
              "  /* fitted */\n",
              "  border: var(--sklearn-color-fitted-level-1) 1pt solid;\n",
              "  color: var(--sklearn-color-fitted-level-1);\n",
              "}\n",
              "\n",
              "/* On hover */\n",
              "#sk-container-id-1 a.estimator_doc_link:hover {\n",
              "  /* unfitted */\n",
              "  background-color: var(--sklearn-color-unfitted-level-3);\n",
              "  color: var(--sklearn-color-background);\n",
              "  text-decoration: none;\n",
              "}\n",
              "\n",
              "#sk-container-id-1 a.estimator_doc_link.fitted:hover {\n",
              "  /* fitted */\n",
              "  background-color: var(--sklearn-color-fitted-level-3);\n",
              "}\n",
              "</style><div id=\"sk-container-id-1\" class=\"sk-top-container\"><div class=\"sk-text-repr-fallback\"><pre>KNeighborsClassifier(n_neighbors=10)</pre><b>In a Jupyter environment, please rerun this cell to show the HTML representation or trust the notebook. <br />On GitHub, the HTML representation is unable to render, please try loading this page with nbviewer.org.</b></div><div class=\"sk-container\" hidden><div class=\"sk-item\"><div class=\"sk-estimator fitted sk-toggleable\"><input class=\"sk-toggleable__control sk-hidden--visually\" id=\"sk-estimator-id-1\" type=\"checkbox\" checked><label for=\"sk-estimator-id-1\" class=\"sk-toggleable__label fitted sk-toggleable__label-arrow fitted\">&nbsp;&nbsp;KNeighborsClassifier<a class=\"sk-estimator-doc-link fitted\" rel=\"noreferrer\" target=\"_blank\" href=\"https://scikit-learn.org/1.5/modules/generated/sklearn.neighbors.KNeighborsClassifier.html\">?<span>Documentation for KNeighborsClassifier</span></a><span class=\"sk-estimator-doc-link fitted\">i<span>Fitted</span></span></label><div class=\"sk-toggleable__content fitted\"><pre>KNeighborsClassifier(n_neighbors=10)</pre></div> </div></div></div></div>"
            ]
          },
          "metadata": {},
          "execution_count": 35
        }
      ]
    },
    {
      "cell_type": "code",
      "source": [
        "# Make predictions on the test data\n",
        "y_pred = knn.predict(X_test)"
      ],
      "metadata": {
        "id": "camF9fUQKctA"
      },
      "execution_count": 36,
      "outputs": []
    },
    {
      "cell_type": "code",
      "source": [
        "# Calculate the accuracy\n",
        "knn_accuracy = accuracy_score(y_test, y_pred)\n",
        "print(\"Accuracy:\", knn_accuracy)"
      ],
      "metadata": {
        "id": "W_yMk_yMKehI",
        "colab": {
          "base_uri": "https://localhost:8080/"
        },
        "outputId": "1ff80937-f03d-4054-e7d9-93503bac79b2"
      },
      "execution_count": 37,
      "outputs": [
        {
          "output_type": "stream",
          "name": "stdout",
          "text": [
            "Accuracy: 0.8073470898491718\n"
          ]
        }
      ]
    },
    {
      "cell_type": "markdown",
      "source": [
        "### (b) Decision Tree"
      ],
      "metadata": {
        "id": "HVLINcDjKgEW"
      }
    },
    {
      "cell_type": "code",
      "source": [
        "from sklearn import tree\n",
        "from sklearn.tree import DecisionTreeClassifier\n",
        "from sklearn.model_selection import train_test_split\n",
        "from sklearn.metrics import accuracy_score"
      ],
      "metadata": {
        "id": "gu5pQ1zVKigk"
      },
      "execution_count": 38,
      "outputs": []
    },
    {
      "cell_type": "code",
      "source": [
        "# Create a decision tree classifier\n",
        "clf = DecisionTreeClassifier()"
      ],
      "metadata": {
        "id": "uJ6kKWPFKlPp"
      },
      "execution_count": 39,
      "outputs": []
    },
    {
      "cell_type": "code",
      "source": [
        "# Train the classifier on the training data\n",
        "clf.fit(X_train, y_train)"
      ],
      "metadata": {
        "id": "d9ZV-jsLKm-K",
        "colab": {
          "base_uri": "https://localhost:8080/",
          "height": 80
        },
        "outputId": "478bc328-8d9d-44d0-a20f-5e397215e2e8"
      },
      "execution_count": 40,
      "outputs": [
        {
          "output_type": "execute_result",
          "data": {
            "text/plain": [
              "DecisionTreeClassifier()"
            ],
            "text/html": [
              "<style>#sk-container-id-2 {\n",
              "  /* Definition of color scheme common for light and dark mode */\n",
              "  --sklearn-color-text: black;\n",
              "  --sklearn-color-line: gray;\n",
              "  /* Definition of color scheme for unfitted estimators */\n",
              "  --sklearn-color-unfitted-level-0: #fff5e6;\n",
              "  --sklearn-color-unfitted-level-1: #f6e4d2;\n",
              "  --sklearn-color-unfitted-level-2: #ffe0b3;\n",
              "  --sklearn-color-unfitted-level-3: chocolate;\n",
              "  /* Definition of color scheme for fitted estimators */\n",
              "  --sklearn-color-fitted-level-0: #f0f8ff;\n",
              "  --sklearn-color-fitted-level-1: #d4ebff;\n",
              "  --sklearn-color-fitted-level-2: #b3dbfd;\n",
              "  --sklearn-color-fitted-level-3: cornflowerblue;\n",
              "\n",
              "  /* Specific color for light theme */\n",
              "  --sklearn-color-text-on-default-background: var(--sg-text-color, var(--theme-code-foreground, var(--jp-content-font-color1, black)));\n",
              "  --sklearn-color-background: var(--sg-background-color, var(--theme-background, var(--jp-layout-color0, white)));\n",
              "  --sklearn-color-border-box: var(--sg-text-color, var(--theme-code-foreground, var(--jp-content-font-color1, black)));\n",
              "  --sklearn-color-icon: #696969;\n",
              "\n",
              "  @media (prefers-color-scheme: dark) {\n",
              "    /* Redefinition of color scheme for dark theme */\n",
              "    --sklearn-color-text-on-default-background: var(--sg-text-color, var(--theme-code-foreground, var(--jp-content-font-color1, white)));\n",
              "    --sklearn-color-background: var(--sg-background-color, var(--theme-background, var(--jp-layout-color0, #111)));\n",
              "    --sklearn-color-border-box: var(--sg-text-color, var(--theme-code-foreground, var(--jp-content-font-color1, white)));\n",
              "    --sklearn-color-icon: #878787;\n",
              "  }\n",
              "}\n",
              "\n",
              "#sk-container-id-2 {\n",
              "  color: var(--sklearn-color-text);\n",
              "}\n",
              "\n",
              "#sk-container-id-2 pre {\n",
              "  padding: 0;\n",
              "}\n",
              "\n",
              "#sk-container-id-2 input.sk-hidden--visually {\n",
              "  border: 0;\n",
              "  clip: rect(1px 1px 1px 1px);\n",
              "  clip: rect(1px, 1px, 1px, 1px);\n",
              "  height: 1px;\n",
              "  margin: -1px;\n",
              "  overflow: hidden;\n",
              "  padding: 0;\n",
              "  position: absolute;\n",
              "  width: 1px;\n",
              "}\n",
              "\n",
              "#sk-container-id-2 div.sk-dashed-wrapped {\n",
              "  border: 1px dashed var(--sklearn-color-line);\n",
              "  margin: 0 0.4em 0.5em 0.4em;\n",
              "  box-sizing: border-box;\n",
              "  padding-bottom: 0.4em;\n",
              "  background-color: var(--sklearn-color-background);\n",
              "}\n",
              "\n",
              "#sk-container-id-2 div.sk-container {\n",
              "  /* jupyter's `normalize.less` sets `[hidden] { display: none; }`\n",
              "     but bootstrap.min.css set `[hidden] { display: none !important; }`\n",
              "     so we also need the `!important` here to be able to override the\n",
              "     default hidden behavior on the sphinx rendered scikit-learn.org.\n",
              "     See: https://github.com/scikit-learn/scikit-learn/issues/21755 */\n",
              "  display: inline-block !important;\n",
              "  position: relative;\n",
              "}\n",
              "\n",
              "#sk-container-id-2 div.sk-text-repr-fallback {\n",
              "  display: none;\n",
              "}\n",
              "\n",
              "div.sk-parallel-item,\n",
              "div.sk-serial,\n",
              "div.sk-item {\n",
              "  /* draw centered vertical line to link estimators */\n",
              "  background-image: linear-gradient(var(--sklearn-color-text-on-default-background), var(--sklearn-color-text-on-default-background));\n",
              "  background-size: 2px 100%;\n",
              "  background-repeat: no-repeat;\n",
              "  background-position: center center;\n",
              "}\n",
              "\n",
              "/* Parallel-specific style estimator block */\n",
              "\n",
              "#sk-container-id-2 div.sk-parallel-item::after {\n",
              "  content: \"\";\n",
              "  width: 100%;\n",
              "  border-bottom: 2px solid var(--sklearn-color-text-on-default-background);\n",
              "  flex-grow: 1;\n",
              "}\n",
              "\n",
              "#sk-container-id-2 div.sk-parallel {\n",
              "  display: flex;\n",
              "  align-items: stretch;\n",
              "  justify-content: center;\n",
              "  background-color: var(--sklearn-color-background);\n",
              "  position: relative;\n",
              "}\n",
              "\n",
              "#sk-container-id-2 div.sk-parallel-item {\n",
              "  display: flex;\n",
              "  flex-direction: column;\n",
              "}\n",
              "\n",
              "#sk-container-id-2 div.sk-parallel-item:first-child::after {\n",
              "  align-self: flex-end;\n",
              "  width: 50%;\n",
              "}\n",
              "\n",
              "#sk-container-id-2 div.sk-parallel-item:last-child::after {\n",
              "  align-self: flex-start;\n",
              "  width: 50%;\n",
              "}\n",
              "\n",
              "#sk-container-id-2 div.sk-parallel-item:only-child::after {\n",
              "  width: 0;\n",
              "}\n",
              "\n",
              "/* Serial-specific style estimator block */\n",
              "\n",
              "#sk-container-id-2 div.sk-serial {\n",
              "  display: flex;\n",
              "  flex-direction: column;\n",
              "  align-items: center;\n",
              "  background-color: var(--sklearn-color-background);\n",
              "  padding-right: 1em;\n",
              "  padding-left: 1em;\n",
              "}\n",
              "\n",
              "\n",
              "/* Toggleable style: style used for estimator/Pipeline/ColumnTransformer box that is\n",
              "clickable and can be expanded/collapsed.\n",
              "- Pipeline and ColumnTransformer use this feature and define the default style\n",
              "- Estimators will overwrite some part of the style using the `sk-estimator` class\n",
              "*/\n",
              "\n",
              "/* Pipeline and ColumnTransformer style (default) */\n",
              "\n",
              "#sk-container-id-2 div.sk-toggleable {\n",
              "  /* Default theme specific background. It is overwritten whether we have a\n",
              "  specific estimator or a Pipeline/ColumnTransformer */\n",
              "  background-color: var(--sklearn-color-background);\n",
              "}\n",
              "\n",
              "/* Toggleable label */\n",
              "#sk-container-id-2 label.sk-toggleable__label {\n",
              "  cursor: pointer;\n",
              "  display: block;\n",
              "  width: 100%;\n",
              "  margin-bottom: 0;\n",
              "  padding: 0.5em;\n",
              "  box-sizing: border-box;\n",
              "  text-align: center;\n",
              "}\n",
              "\n",
              "#sk-container-id-2 label.sk-toggleable__label-arrow:before {\n",
              "  /* Arrow on the left of the label */\n",
              "  content: \"▸\";\n",
              "  float: left;\n",
              "  margin-right: 0.25em;\n",
              "  color: var(--sklearn-color-icon);\n",
              "}\n",
              "\n",
              "#sk-container-id-2 label.sk-toggleable__label-arrow:hover:before {\n",
              "  color: var(--sklearn-color-text);\n",
              "}\n",
              "\n",
              "/* Toggleable content - dropdown */\n",
              "\n",
              "#sk-container-id-2 div.sk-toggleable__content {\n",
              "  max-height: 0;\n",
              "  max-width: 0;\n",
              "  overflow: hidden;\n",
              "  text-align: left;\n",
              "  /* unfitted */\n",
              "  background-color: var(--sklearn-color-unfitted-level-0);\n",
              "}\n",
              "\n",
              "#sk-container-id-2 div.sk-toggleable__content.fitted {\n",
              "  /* fitted */\n",
              "  background-color: var(--sklearn-color-fitted-level-0);\n",
              "}\n",
              "\n",
              "#sk-container-id-2 div.sk-toggleable__content pre {\n",
              "  margin: 0.2em;\n",
              "  border-radius: 0.25em;\n",
              "  color: var(--sklearn-color-text);\n",
              "  /* unfitted */\n",
              "  background-color: var(--sklearn-color-unfitted-level-0);\n",
              "}\n",
              "\n",
              "#sk-container-id-2 div.sk-toggleable__content.fitted pre {\n",
              "  /* unfitted */\n",
              "  background-color: var(--sklearn-color-fitted-level-0);\n",
              "}\n",
              "\n",
              "#sk-container-id-2 input.sk-toggleable__control:checked~div.sk-toggleable__content {\n",
              "  /* Expand drop-down */\n",
              "  max-height: 200px;\n",
              "  max-width: 100%;\n",
              "  overflow: auto;\n",
              "}\n",
              "\n",
              "#sk-container-id-2 input.sk-toggleable__control:checked~label.sk-toggleable__label-arrow:before {\n",
              "  content: \"▾\";\n",
              "}\n",
              "\n",
              "/* Pipeline/ColumnTransformer-specific style */\n",
              "\n",
              "#sk-container-id-2 div.sk-label input.sk-toggleable__control:checked~label.sk-toggleable__label {\n",
              "  color: var(--sklearn-color-text);\n",
              "  background-color: var(--sklearn-color-unfitted-level-2);\n",
              "}\n",
              "\n",
              "#sk-container-id-2 div.sk-label.fitted input.sk-toggleable__control:checked~label.sk-toggleable__label {\n",
              "  background-color: var(--sklearn-color-fitted-level-2);\n",
              "}\n",
              "\n",
              "/* Estimator-specific style */\n",
              "\n",
              "/* Colorize estimator box */\n",
              "#sk-container-id-2 div.sk-estimator input.sk-toggleable__control:checked~label.sk-toggleable__label {\n",
              "  /* unfitted */\n",
              "  background-color: var(--sklearn-color-unfitted-level-2);\n",
              "}\n",
              "\n",
              "#sk-container-id-2 div.sk-estimator.fitted input.sk-toggleable__control:checked~label.sk-toggleable__label {\n",
              "  /* fitted */\n",
              "  background-color: var(--sklearn-color-fitted-level-2);\n",
              "}\n",
              "\n",
              "#sk-container-id-2 div.sk-label label.sk-toggleable__label,\n",
              "#sk-container-id-2 div.sk-label label {\n",
              "  /* The background is the default theme color */\n",
              "  color: var(--sklearn-color-text-on-default-background);\n",
              "}\n",
              "\n",
              "/* On hover, darken the color of the background */\n",
              "#sk-container-id-2 div.sk-label:hover label.sk-toggleable__label {\n",
              "  color: var(--sklearn-color-text);\n",
              "  background-color: var(--sklearn-color-unfitted-level-2);\n",
              "}\n",
              "\n",
              "/* Label box, darken color on hover, fitted */\n",
              "#sk-container-id-2 div.sk-label.fitted:hover label.sk-toggleable__label.fitted {\n",
              "  color: var(--sklearn-color-text);\n",
              "  background-color: var(--sklearn-color-fitted-level-2);\n",
              "}\n",
              "\n",
              "/* Estimator label */\n",
              "\n",
              "#sk-container-id-2 div.sk-label label {\n",
              "  font-family: monospace;\n",
              "  font-weight: bold;\n",
              "  display: inline-block;\n",
              "  line-height: 1.2em;\n",
              "}\n",
              "\n",
              "#sk-container-id-2 div.sk-label-container {\n",
              "  text-align: center;\n",
              "}\n",
              "\n",
              "/* Estimator-specific */\n",
              "#sk-container-id-2 div.sk-estimator {\n",
              "  font-family: monospace;\n",
              "  border: 1px dotted var(--sklearn-color-border-box);\n",
              "  border-radius: 0.25em;\n",
              "  box-sizing: border-box;\n",
              "  margin-bottom: 0.5em;\n",
              "  /* unfitted */\n",
              "  background-color: var(--sklearn-color-unfitted-level-0);\n",
              "}\n",
              "\n",
              "#sk-container-id-2 div.sk-estimator.fitted {\n",
              "  /* fitted */\n",
              "  background-color: var(--sklearn-color-fitted-level-0);\n",
              "}\n",
              "\n",
              "/* on hover */\n",
              "#sk-container-id-2 div.sk-estimator:hover {\n",
              "  /* unfitted */\n",
              "  background-color: var(--sklearn-color-unfitted-level-2);\n",
              "}\n",
              "\n",
              "#sk-container-id-2 div.sk-estimator.fitted:hover {\n",
              "  /* fitted */\n",
              "  background-color: var(--sklearn-color-fitted-level-2);\n",
              "}\n",
              "\n",
              "/* Specification for estimator info (e.g. \"i\" and \"?\") */\n",
              "\n",
              "/* Common style for \"i\" and \"?\" */\n",
              "\n",
              ".sk-estimator-doc-link,\n",
              "a:link.sk-estimator-doc-link,\n",
              "a:visited.sk-estimator-doc-link {\n",
              "  float: right;\n",
              "  font-size: smaller;\n",
              "  line-height: 1em;\n",
              "  font-family: monospace;\n",
              "  background-color: var(--sklearn-color-background);\n",
              "  border-radius: 1em;\n",
              "  height: 1em;\n",
              "  width: 1em;\n",
              "  text-decoration: none !important;\n",
              "  margin-left: 1ex;\n",
              "  /* unfitted */\n",
              "  border: var(--sklearn-color-unfitted-level-1) 1pt solid;\n",
              "  color: var(--sklearn-color-unfitted-level-1);\n",
              "}\n",
              "\n",
              ".sk-estimator-doc-link.fitted,\n",
              "a:link.sk-estimator-doc-link.fitted,\n",
              "a:visited.sk-estimator-doc-link.fitted {\n",
              "  /* fitted */\n",
              "  border: var(--sklearn-color-fitted-level-1) 1pt solid;\n",
              "  color: var(--sklearn-color-fitted-level-1);\n",
              "}\n",
              "\n",
              "/* On hover */\n",
              "div.sk-estimator:hover .sk-estimator-doc-link:hover,\n",
              ".sk-estimator-doc-link:hover,\n",
              "div.sk-label-container:hover .sk-estimator-doc-link:hover,\n",
              ".sk-estimator-doc-link:hover {\n",
              "  /* unfitted */\n",
              "  background-color: var(--sklearn-color-unfitted-level-3);\n",
              "  color: var(--sklearn-color-background);\n",
              "  text-decoration: none;\n",
              "}\n",
              "\n",
              "div.sk-estimator.fitted:hover .sk-estimator-doc-link.fitted:hover,\n",
              ".sk-estimator-doc-link.fitted:hover,\n",
              "div.sk-label-container:hover .sk-estimator-doc-link.fitted:hover,\n",
              ".sk-estimator-doc-link.fitted:hover {\n",
              "  /* fitted */\n",
              "  background-color: var(--sklearn-color-fitted-level-3);\n",
              "  color: var(--sklearn-color-background);\n",
              "  text-decoration: none;\n",
              "}\n",
              "\n",
              "/* Span, style for the box shown on hovering the info icon */\n",
              ".sk-estimator-doc-link span {\n",
              "  display: none;\n",
              "  z-index: 9999;\n",
              "  position: relative;\n",
              "  font-weight: normal;\n",
              "  right: .2ex;\n",
              "  padding: .5ex;\n",
              "  margin: .5ex;\n",
              "  width: min-content;\n",
              "  min-width: 20ex;\n",
              "  max-width: 50ex;\n",
              "  color: var(--sklearn-color-text);\n",
              "  box-shadow: 2pt 2pt 4pt #999;\n",
              "  /* unfitted */\n",
              "  background: var(--sklearn-color-unfitted-level-0);\n",
              "  border: .5pt solid var(--sklearn-color-unfitted-level-3);\n",
              "}\n",
              "\n",
              ".sk-estimator-doc-link.fitted span {\n",
              "  /* fitted */\n",
              "  background: var(--sklearn-color-fitted-level-0);\n",
              "  border: var(--sklearn-color-fitted-level-3);\n",
              "}\n",
              "\n",
              ".sk-estimator-doc-link:hover span {\n",
              "  display: block;\n",
              "}\n",
              "\n",
              "/* \"?\"-specific style due to the `<a>` HTML tag */\n",
              "\n",
              "#sk-container-id-2 a.estimator_doc_link {\n",
              "  float: right;\n",
              "  font-size: 1rem;\n",
              "  line-height: 1em;\n",
              "  font-family: monospace;\n",
              "  background-color: var(--sklearn-color-background);\n",
              "  border-radius: 1rem;\n",
              "  height: 1rem;\n",
              "  width: 1rem;\n",
              "  text-decoration: none;\n",
              "  /* unfitted */\n",
              "  color: var(--sklearn-color-unfitted-level-1);\n",
              "  border: var(--sklearn-color-unfitted-level-1) 1pt solid;\n",
              "}\n",
              "\n",
              "#sk-container-id-2 a.estimator_doc_link.fitted {\n",
              "  /* fitted */\n",
              "  border: var(--sklearn-color-fitted-level-1) 1pt solid;\n",
              "  color: var(--sklearn-color-fitted-level-1);\n",
              "}\n",
              "\n",
              "/* On hover */\n",
              "#sk-container-id-2 a.estimator_doc_link:hover {\n",
              "  /* unfitted */\n",
              "  background-color: var(--sklearn-color-unfitted-level-3);\n",
              "  color: var(--sklearn-color-background);\n",
              "  text-decoration: none;\n",
              "}\n",
              "\n",
              "#sk-container-id-2 a.estimator_doc_link.fitted:hover {\n",
              "  /* fitted */\n",
              "  background-color: var(--sklearn-color-fitted-level-3);\n",
              "}\n",
              "</style><div id=\"sk-container-id-2\" class=\"sk-top-container\"><div class=\"sk-text-repr-fallback\"><pre>DecisionTreeClassifier()</pre><b>In a Jupyter environment, please rerun this cell to show the HTML representation or trust the notebook. <br />On GitHub, the HTML representation is unable to render, please try loading this page with nbviewer.org.</b></div><div class=\"sk-container\" hidden><div class=\"sk-item\"><div class=\"sk-estimator fitted sk-toggleable\"><input class=\"sk-toggleable__control sk-hidden--visually\" id=\"sk-estimator-id-2\" type=\"checkbox\" checked><label for=\"sk-estimator-id-2\" class=\"sk-toggleable__label fitted sk-toggleable__label-arrow fitted\">&nbsp;&nbsp;DecisionTreeClassifier<a class=\"sk-estimator-doc-link fitted\" rel=\"noreferrer\" target=\"_blank\" href=\"https://scikit-learn.org/1.5/modules/generated/sklearn.tree.DecisionTreeClassifier.html\">?<span>Documentation for DecisionTreeClassifier</span></a><span class=\"sk-estimator-doc-link fitted\">i<span>Fitted</span></span></label><div class=\"sk-toggleable__content fitted\"><pre>DecisionTreeClassifier()</pre></div> </div></div></div></div>"
            ]
          },
          "metadata": {},
          "execution_count": 40
        }
      ]
    },
    {
      "cell_type": "code",
      "source": [
        "# Make predictions on the testing data\n",
        "y_pred = clf.predict(X_test)"
      ],
      "metadata": {
        "id": "3SpGajU4Kp4e"
      },
      "execution_count": 41,
      "outputs": []
    },
    {
      "cell_type": "code",
      "source": [
        "# Evaluate the accuracy of the classifier\n",
        "decision_accuracy = accuracy_score(y_test, y_pred)\n",
        "print(\"Accuracy:\", decision_accuracy)"
      ],
      "metadata": {
        "id": "AL7jruI8Krrz",
        "colab": {
          "base_uri": "https://localhost:8080/"
        },
        "outputId": "21f97241-e028-4b46-aa1d-381b3c2cfe3f"
      },
      "execution_count": 42,
      "outputs": [
        {
          "output_type": "stream",
          "name": "stdout",
          "text": [
            "Accuracy: 0.7626538354770056\n"
          ]
        }
      ]
    },
    {
      "cell_type": "markdown",
      "source": [
        "### (c) Random Forrest: (100 trees and 500 trees)"
      ],
      "metadata": {
        "id": "N12FvRwQKsSq"
      }
    },
    {
      "cell_type": "code",
      "source": [
        "from sklearn.ensemble import RandomForestClassifier\n",
        "from sklearn.model_selection import train_test_split\n",
        "from sklearn.metrics import accuracy_score"
      ],
      "metadata": {
        "id": "VvpgQLP7Kw48"
      },
      "execution_count": 43,
      "outputs": []
    },
    {
      "cell_type": "code",
      "source": [
        "# Create a Random Forest classifier for 100 trees\n",
        "clf = RandomForestClassifier(n_estimators=100, random_state=237)"
      ],
      "metadata": {
        "id": "vmNygAmSKyuo"
      },
      "execution_count": 44,
      "outputs": []
    },
    {
      "cell_type": "code",
      "source": [
        "# Fit the model to the training data\n",
        "clf.fit(X_train, y_train)"
      ],
      "metadata": {
        "id": "OqLOITXmK1cP",
        "colab": {
          "base_uri": "https://localhost:8080/",
          "height": 80
        },
        "outputId": "261903a7-36d1-4ef9-c681-9569866518e3"
      },
      "execution_count": 45,
      "outputs": [
        {
          "output_type": "execute_result",
          "data": {
            "text/plain": [
              "RandomForestClassifier(random_state=237)"
            ],
            "text/html": [
              "<style>#sk-container-id-3 {\n",
              "  /* Definition of color scheme common for light and dark mode */\n",
              "  --sklearn-color-text: black;\n",
              "  --sklearn-color-line: gray;\n",
              "  /* Definition of color scheme for unfitted estimators */\n",
              "  --sklearn-color-unfitted-level-0: #fff5e6;\n",
              "  --sklearn-color-unfitted-level-1: #f6e4d2;\n",
              "  --sklearn-color-unfitted-level-2: #ffe0b3;\n",
              "  --sklearn-color-unfitted-level-3: chocolate;\n",
              "  /* Definition of color scheme for fitted estimators */\n",
              "  --sklearn-color-fitted-level-0: #f0f8ff;\n",
              "  --sklearn-color-fitted-level-1: #d4ebff;\n",
              "  --sklearn-color-fitted-level-2: #b3dbfd;\n",
              "  --sklearn-color-fitted-level-3: cornflowerblue;\n",
              "\n",
              "  /* Specific color for light theme */\n",
              "  --sklearn-color-text-on-default-background: var(--sg-text-color, var(--theme-code-foreground, var(--jp-content-font-color1, black)));\n",
              "  --sklearn-color-background: var(--sg-background-color, var(--theme-background, var(--jp-layout-color0, white)));\n",
              "  --sklearn-color-border-box: var(--sg-text-color, var(--theme-code-foreground, var(--jp-content-font-color1, black)));\n",
              "  --sklearn-color-icon: #696969;\n",
              "\n",
              "  @media (prefers-color-scheme: dark) {\n",
              "    /* Redefinition of color scheme for dark theme */\n",
              "    --sklearn-color-text-on-default-background: var(--sg-text-color, var(--theme-code-foreground, var(--jp-content-font-color1, white)));\n",
              "    --sklearn-color-background: var(--sg-background-color, var(--theme-background, var(--jp-layout-color0, #111)));\n",
              "    --sklearn-color-border-box: var(--sg-text-color, var(--theme-code-foreground, var(--jp-content-font-color1, white)));\n",
              "    --sklearn-color-icon: #878787;\n",
              "  }\n",
              "}\n",
              "\n",
              "#sk-container-id-3 {\n",
              "  color: var(--sklearn-color-text);\n",
              "}\n",
              "\n",
              "#sk-container-id-3 pre {\n",
              "  padding: 0;\n",
              "}\n",
              "\n",
              "#sk-container-id-3 input.sk-hidden--visually {\n",
              "  border: 0;\n",
              "  clip: rect(1px 1px 1px 1px);\n",
              "  clip: rect(1px, 1px, 1px, 1px);\n",
              "  height: 1px;\n",
              "  margin: -1px;\n",
              "  overflow: hidden;\n",
              "  padding: 0;\n",
              "  position: absolute;\n",
              "  width: 1px;\n",
              "}\n",
              "\n",
              "#sk-container-id-3 div.sk-dashed-wrapped {\n",
              "  border: 1px dashed var(--sklearn-color-line);\n",
              "  margin: 0 0.4em 0.5em 0.4em;\n",
              "  box-sizing: border-box;\n",
              "  padding-bottom: 0.4em;\n",
              "  background-color: var(--sklearn-color-background);\n",
              "}\n",
              "\n",
              "#sk-container-id-3 div.sk-container {\n",
              "  /* jupyter's `normalize.less` sets `[hidden] { display: none; }`\n",
              "     but bootstrap.min.css set `[hidden] { display: none !important; }`\n",
              "     so we also need the `!important` here to be able to override the\n",
              "     default hidden behavior on the sphinx rendered scikit-learn.org.\n",
              "     See: https://github.com/scikit-learn/scikit-learn/issues/21755 */\n",
              "  display: inline-block !important;\n",
              "  position: relative;\n",
              "}\n",
              "\n",
              "#sk-container-id-3 div.sk-text-repr-fallback {\n",
              "  display: none;\n",
              "}\n",
              "\n",
              "div.sk-parallel-item,\n",
              "div.sk-serial,\n",
              "div.sk-item {\n",
              "  /* draw centered vertical line to link estimators */\n",
              "  background-image: linear-gradient(var(--sklearn-color-text-on-default-background), var(--sklearn-color-text-on-default-background));\n",
              "  background-size: 2px 100%;\n",
              "  background-repeat: no-repeat;\n",
              "  background-position: center center;\n",
              "}\n",
              "\n",
              "/* Parallel-specific style estimator block */\n",
              "\n",
              "#sk-container-id-3 div.sk-parallel-item::after {\n",
              "  content: \"\";\n",
              "  width: 100%;\n",
              "  border-bottom: 2px solid var(--sklearn-color-text-on-default-background);\n",
              "  flex-grow: 1;\n",
              "}\n",
              "\n",
              "#sk-container-id-3 div.sk-parallel {\n",
              "  display: flex;\n",
              "  align-items: stretch;\n",
              "  justify-content: center;\n",
              "  background-color: var(--sklearn-color-background);\n",
              "  position: relative;\n",
              "}\n",
              "\n",
              "#sk-container-id-3 div.sk-parallel-item {\n",
              "  display: flex;\n",
              "  flex-direction: column;\n",
              "}\n",
              "\n",
              "#sk-container-id-3 div.sk-parallel-item:first-child::after {\n",
              "  align-self: flex-end;\n",
              "  width: 50%;\n",
              "}\n",
              "\n",
              "#sk-container-id-3 div.sk-parallel-item:last-child::after {\n",
              "  align-self: flex-start;\n",
              "  width: 50%;\n",
              "}\n",
              "\n",
              "#sk-container-id-3 div.sk-parallel-item:only-child::after {\n",
              "  width: 0;\n",
              "}\n",
              "\n",
              "/* Serial-specific style estimator block */\n",
              "\n",
              "#sk-container-id-3 div.sk-serial {\n",
              "  display: flex;\n",
              "  flex-direction: column;\n",
              "  align-items: center;\n",
              "  background-color: var(--sklearn-color-background);\n",
              "  padding-right: 1em;\n",
              "  padding-left: 1em;\n",
              "}\n",
              "\n",
              "\n",
              "/* Toggleable style: style used for estimator/Pipeline/ColumnTransformer box that is\n",
              "clickable and can be expanded/collapsed.\n",
              "- Pipeline and ColumnTransformer use this feature and define the default style\n",
              "- Estimators will overwrite some part of the style using the `sk-estimator` class\n",
              "*/\n",
              "\n",
              "/* Pipeline and ColumnTransformer style (default) */\n",
              "\n",
              "#sk-container-id-3 div.sk-toggleable {\n",
              "  /* Default theme specific background. It is overwritten whether we have a\n",
              "  specific estimator or a Pipeline/ColumnTransformer */\n",
              "  background-color: var(--sklearn-color-background);\n",
              "}\n",
              "\n",
              "/* Toggleable label */\n",
              "#sk-container-id-3 label.sk-toggleable__label {\n",
              "  cursor: pointer;\n",
              "  display: block;\n",
              "  width: 100%;\n",
              "  margin-bottom: 0;\n",
              "  padding: 0.5em;\n",
              "  box-sizing: border-box;\n",
              "  text-align: center;\n",
              "}\n",
              "\n",
              "#sk-container-id-3 label.sk-toggleable__label-arrow:before {\n",
              "  /* Arrow on the left of the label */\n",
              "  content: \"▸\";\n",
              "  float: left;\n",
              "  margin-right: 0.25em;\n",
              "  color: var(--sklearn-color-icon);\n",
              "}\n",
              "\n",
              "#sk-container-id-3 label.sk-toggleable__label-arrow:hover:before {\n",
              "  color: var(--sklearn-color-text);\n",
              "}\n",
              "\n",
              "/* Toggleable content - dropdown */\n",
              "\n",
              "#sk-container-id-3 div.sk-toggleable__content {\n",
              "  max-height: 0;\n",
              "  max-width: 0;\n",
              "  overflow: hidden;\n",
              "  text-align: left;\n",
              "  /* unfitted */\n",
              "  background-color: var(--sklearn-color-unfitted-level-0);\n",
              "}\n",
              "\n",
              "#sk-container-id-3 div.sk-toggleable__content.fitted {\n",
              "  /* fitted */\n",
              "  background-color: var(--sklearn-color-fitted-level-0);\n",
              "}\n",
              "\n",
              "#sk-container-id-3 div.sk-toggleable__content pre {\n",
              "  margin: 0.2em;\n",
              "  border-radius: 0.25em;\n",
              "  color: var(--sklearn-color-text);\n",
              "  /* unfitted */\n",
              "  background-color: var(--sklearn-color-unfitted-level-0);\n",
              "}\n",
              "\n",
              "#sk-container-id-3 div.sk-toggleable__content.fitted pre {\n",
              "  /* unfitted */\n",
              "  background-color: var(--sklearn-color-fitted-level-0);\n",
              "}\n",
              "\n",
              "#sk-container-id-3 input.sk-toggleable__control:checked~div.sk-toggleable__content {\n",
              "  /* Expand drop-down */\n",
              "  max-height: 200px;\n",
              "  max-width: 100%;\n",
              "  overflow: auto;\n",
              "}\n",
              "\n",
              "#sk-container-id-3 input.sk-toggleable__control:checked~label.sk-toggleable__label-arrow:before {\n",
              "  content: \"▾\";\n",
              "}\n",
              "\n",
              "/* Pipeline/ColumnTransformer-specific style */\n",
              "\n",
              "#sk-container-id-3 div.sk-label input.sk-toggleable__control:checked~label.sk-toggleable__label {\n",
              "  color: var(--sklearn-color-text);\n",
              "  background-color: var(--sklearn-color-unfitted-level-2);\n",
              "}\n",
              "\n",
              "#sk-container-id-3 div.sk-label.fitted input.sk-toggleable__control:checked~label.sk-toggleable__label {\n",
              "  background-color: var(--sklearn-color-fitted-level-2);\n",
              "}\n",
              "\n",
              "/* Estimator-specific style */\n",
              "\n",
              "/* Colorize estimator box */\n",
              "#sk-container-id-3 div.sk-estimator input.sk-toggleable__control:checked~label.sk-toggleable__label {\n",
              "  /* unfitted */\n",
              "  background-color: var(--sklearn-color-unfitted-level-2);\n",
              "}\n",
              "\n",
              "#sk-container-id-3 div.sk-estimator.fitted input.sk-toggleable__control:checked~label.sk-toggleable__label {\n",
              "  /* fitted */\n",
              "  background-color: var(--sklearn-color-fitted-level-2);\n",
              "}\n",
              "\n",
              "#sk-container-id-3 div.sk-label label.sk-toggleable__label,\n",
              "#sk-container-id-3 div.sk-label label {\n",
              "  /* The background is the default theme color */\n",
              "  color: var(--sklearn-color-text-on-default-background);\n",
              "}\n",
              "\n",
              "/* On hover, darken the color of the background */\n",
              "#sk-container-id-3 div.sk-label:hover label.sk-toggleable__label {\n",
              "  color: var(--sklearn-color-text);\n",
              "  background-color: var(--sklearn-color-unfitted-level-2);\n",
              "}\n",
              "\n",
              "/* Label box, darken color on hover, fitted */\n",
              "#sk-container-id-3 div.sk-label.fitted:hover label.sk-toggleable__label.fitted {\n",
              "  color: var(--sklearn-color-text);\n",
              "  background-color: var(--sklearn-color-fitted-level-2);\n",
              "}\n",
              "\n",
              "/* Estimator label */\n",
              "\n",
              "#sk-container-id-3 div.sk-label label {\n",
              "  font-family: monospace;\n",
              "  font-weight: bold;\n",
              "  display: inline-block;\n",
              "  line-height: 1.2em;\n",
              "}\n",
              "\n",
              "#sk-container-id-3 div.sk-label-container {\n",
              "  text-align: center;\n",
              "}\n",
              "\n",
              "/* Estimator-specific */\n",
              "#sk-container-id-3 div.sk-estimator {\n",
              "  font-family: monospace;\n",
              "  border: 1px dotted var(--sklearn-color-border-box);\n",
              "  border-radius: 0.25em;\n",
              "  box-sizing: border-box;\n",
              "  margin-bottom: 0.5em;\n",
              "  /* unfitted */\n",
              "  background-color: var(--sklearn-color-unfitted-level-0);\n",
              "}\n",
              "\n",
              "#sk-container-id-3 div.sk-estimator.fitted {\n",
              "  /* fitted */\n",
              "  background-color: var(--sklearn-color-fitted-level-0);\n",
              "}\n",
              "\n",
              "/* on hover */\n",
              "#sk-container-id-3 div.sk-estimator:hover {\n",
              "  /* unfitted */\n",
              "  background-color: var(--sklearn-color-unfitted-level-2);\n",
              "}\n",
              "\n",
              "#sk-container-id-3 div.sk-estimator.fitted:hover {\n",
              "  /* fitted */\n",
              "  background-color: var(--sklearn-color-fitted-level-2);\n",
              "}\n",
              "\n",
              "/* Specification for estimator info (e.g. \"i\" and \"?\") */\n",
              "\n",
              "/* Common style for \"i\" and \"?\" */\n",
              "\n",
              ".sk-estimator-doc-link,\n",
              "a:link.sk-estimator-doc-link,\n",
              "a:visited.sk-estimator-doc-link {\n",
              "  float: right;\n",
              "  font-size: smaller;\n",
              "  line-height: 1em;\n",
              "  font-family: monospace;\n",
              "  background-color: var(--sklearn-color-background);\n",
              "  border-radius: 1em;\n",
              "  height: 1em;\n",
              "  width: 1em;\n",
              "  text-decoration: none !important;\n",
              "  margin-left: 1ex;\n",
              "  /* unfitted */\n",
              "  border: var(--sklearn-color-unfitted-level-1) 1pt solid;\n",
              "  color: var(--sklearn-color-unfitted-level-1);\n",
              "}\n",
              "\n",
              ".sk-estimator-doc-link.fitted,\n",
              "a:link.sk-estimator-doc-link.fitted,\n",
              "a:visited.sk-estimator-doc-link.fitted {\n",
              "  /* fitted */\n",
              "  border: var(--sklearn-color-fitted-level-1) 1pt solid;\n",
              "  color: var(--sklearn-color-fitted-level-1);\n",
              "}\n",
              "\n",
              "/* On hover */\n",
              "div.sk-estimator:hover .sk-estimator-doc-link:hover,\n",
              ".sk-estimator-doc-link:hover,\n",
              "div.sk-label-container:hover .sk-estimator-doc-link:hover,\n",
              ".sk-estimator-doc-link:hover {\n",
              "  /* unfitted */\n",
              "  background-color: var(--sklearn-color-unfitted-level-3);\n",
              "  color: var(--sklearn-color-background);\n",
              "  text-decoration: none;\n",
              "}\n",
              "\n",
              "div.sk-estimator.fitted:hover .sk-estimator-doc-link.fitted:hover,\n",
              ".sk-estimator-doc-link.fitted:hover,\n",
              "div.sk-label-container:hover .sk-estimator-doc-link.fitted:hover,\n",
              ".sk-estimator-doc-link.fitted:hover {\n",
              "  /* fitted */\n",
              "  background-color: var(--sklearn-color-fitted-level-3);\n",
              "  color: var(--sklearn-color-background);\n",
              "  text-decoration: none;\n",
              "}\n",
              "\n",
              "/* Span, style for the box shown on hovering the info icon */\n",
              ".sk-estimator-doc-link span {\n",
              "  display: none;\n",
              "  z-index: 9999;\n",
              "  position: relative;\n",
              "  font-weight: normal;\n",
              "  right: .2ex;\n",
              "  padding: .5ex;\n",
              "  margin: .5ex;\n",
              "  width: min-content;\n",
              "  min-width: 20ex;\n",
              "  max-width: 50ex;\n",
              "  color: var(--sklearn-color-text);\n",
              "  box-shadow: 2pt 2pt 4pt #999;\n",
              "  /* unfitted */\n",
              "  background: var(--sklearn-color-unfitted-level-0);\n",
              "  border: .5pt solid var(--sklearn-color-unfitted-level-3);\n",
              "}\n",
              "\n",
              ".sk-estimator-doc-link.fitted span {\n",
              "  /* fitted */\n",
              "  background: var(--sklearn-color-fitted-level-0);\n",
              "  border: var(--sklearn-color-fitted-level-3);\n",
              "}\n",
              "\n",
              ".sk-estimator-doc-link:hover span {\n",
              "  display: block;\n",
              "}\n",
              "\n",
              "/* \"?\"-specific style due to the `<a>` HTML tag */\n",
              "\n",
              "#sk-container-id-3 a.estimator_doc_link {\n",
              "  float: right;\n",
              "  font-size: 1rem;\n",
              "  line-height: 1em;\n",
              "  font-family: monospace;\n",
              "  background-color: var(--sklearn-color-background);\n",
              "  border-radius: 1rem;\n",
              "  height: 1rem;\n",
              "  width: 1rem;\n",
              "  text-decoration: none;\n",
              "  /* unfitted */\n",
              "  color: var(--sklearn-color-unfitted-level-1);\n",
              "  border: var(--sklearn-color-unfitted-level-1) 1pt solid;\n",
              "}\n",
              "\n",
              "#sk-container-id-3 a.estimator_doc_link.fitted {\n",
              "  /* fitted */\n",
              "  border: var(--sklearn-color-fitted-level-1) 1pt solid;\n",
              "  color: var(--sklearn-color-fitted-level-1);\n",
              "}\n",
              "\n",
              "/* On hover */\n",
              "#sk-container-id-3 a.estimator_doc_link:hover {\n",
              "  /* unfitted */\n",
              "  background-color: var(--sklearn-color-unfitted-level-3);\n",
              "  color: var(--sklearn-color-background);\n",
              "  text-decoration: none;\n",
              "}\n",
              "\n",
              "#sk-container-id-3 a.estimator_doc_link.fitted:hover {\n",
              "  /* fitted */\n",
              "  background-color: var(--sklearn-color-fitted-level-3);\n",
              "}\n",
              "</style><div id=\"sk-container-id-3\" class=\"sk-top-container\"><div class=\"sk-text-repr-fallback\"><pre>RandomForestClassifier(random_state=237)</pre><b>In a Jupyter environment, please rerun this cell to show the HTML representation or trust the notebook. <br />On GitHub, the HTML representation is unable to render, please try loading this page with nbviewer.org.</b></div><div class=\"sk-container\" hidden><div class=\"sk-item\"><div class=\"sk-estimator fitted sk-toggleable\"><input class=\"sk-toggleable__control sk-hidden--visually\" id=\"sk-estimator-id-3\" type=\"checkbox\" checked><label for=\"sk-estimator-id-3\" class=\"sk-toggleable__label fitted sk-toggleable__label-arrow fitted\">&nbsp;&nbsp;RandomForestClassifier<a class=\"sk-estimator-doc-link fitted\" rel=\"noreferrer\" target=\"_blank\" href=\"https://scikit-learn.org/1.5/modules/generated/sklearn.ensemble.RandomForestClassifier.html\">?<span>Documentation for RandomForestClassifier</span></a><span class=\"sk-estimator-doc-link fitted\">i<span>Fitted</span></span></label><div class=\"sk-toggleable__content fitted\"><pre>RandomForestClassifier(random_state=237)</pre></div> </div></div></div></div>"
            ]
          },
          "metadata": {},
          "execution_count": 45
        }
      ]
    },
    {
      "cell_type": "code",
      "source": [
        "# Make predictions on the test data\n",
        "y_pred = clf.predict(X_test)"
      ],
      "metadata": {
        "id": "i49tcJvBK3ll"
      },
      "execution_count": 46,
      "outputs": []
    },
    {
      "cell_type": "code",
      "source": [
        "# Calculate the accuracy (100 trees)\n",
        "random_accuracy_100 = accuracy_score(y_test, y_pred)\n",
        "print(\"Accuracy:\", random_accuracy_100)"
      ],
      "metadata": {
        "id": "_Ff90LPqK5jn",
        "colab": {
          "base_uri": "https://localhost:8080/"
        },
        "outputId": "cdc51e3b-02fd-48d2-bd4b-1ae2a05b6f14"
      },
      "execution_count": 47,
      "outputs": [
        {
          "output_type": "stream",
          "name": "stdout",
          "text": [
            "Accuracy: 0.802720458961784\n"
          ]
        }
      ]
    },
    {
      "cell_type": "code",
      "source": [
        "# Create a Random Forest classifier for 500 trees\n",
        "clf = RandomForestClassifier(n_estimators=500, random_state=237)"
      ],
      "metadata": {
        "id": "cV9bTUO4K-rt"
      },
      "execution_count": 48,
      "outputs": []
    },
    {
      "cell_type": "code",
      "source": [
        "# Fit the model to the training data\n",
        "clf.fit(X_train, y_train)"
      ],
      "metadata": {
        "id": "jt9KNE3sLB4J",
        "colab": {
          "base_uri": "https://localhost:8080/",
          "height": 80
        },
        "outputId": "251a90e8-04b4-4004-da76-509347b2f5d6"
      },
      "execution_count": 49,
      "outputs": [
        {
          "output_type": "execute_result",
          "data": {
            "text/plain": [
              "RandomForestClassifier(n_estimators=500, random_state=237)"
            ],
            "text/html": [
              "<style>#sk-container-id-4 {\n",
              "  /* Definition of color scheme common for light and dark mode */\n",
              "  --sklearn-color-text: black;\n",
              "  --sklearn-color-line: gray;\n",
              "  /* Definition of color scheme for unfitted estimators */\n",
              "  --sklearn-color-unfitted-level-0: #fff5e6;\n",
              "  --sklearn-color-unfitted-level-1: #f6e4d2;\n",
              "  --sklearn-color-unfitted-level-2: #ffe0b3;\n",
              "  --sklearn-color-unfitted-level-3: chocolate;\n",
              "  /* Definition of color scheme for fitted estimators */\n",
              "  --sklearn-color-fitted-level-0: #f0f8ff;\n",
              "  --sklearn-color-fitted-level-1: #d4ebff;\n",
              "  --sklearn-color-fitted-level-2: #b3dbfd;\n",
              "  --sklearn-color-fitted-level-3: cornflowerblue;\n",
              "\n",
              "  /* Specific color for light theme */\n",
              "  --sklearn-color-text-on-default-background: var(--sg-text-color, var(--theme-code-foreground, var(--jp-content-font-color1, black)));\n",
              "  --sklearn-color-background: var(--sg-background-color, var(--theme-background, var(--jp-layout-color0, white)));\n",
              "  --sklearn-color-border-box: var(--sg-text-color, var(--theme-code-foreground, var(--jp-content-font-color1, black)));\n",
              "  --sklearn-color-icon: #696969;\n",
              "\n",
              "  @media (prefers-color-scheme: dark) {\n",
              "    /* Redefinition of color scheme for dark theme */\n",
              "    --sklearn-color-text-on-default-background: var(--sg-text-color, var(--theme-code-foreground, var(--jp-content-font-color1, white)));\n",
              "    --sklearn-color-background: var(--sg-background-color, var(--theme-background, var(--jp-layout-color0, #111)));\n",
              "    --sklearn-color-border-box: var(--sg-text-color, var(--theme-code-foreground, var(--jp-content-font-color1, white)));\n",
              "    --sklearn-color-icon: #878787;\n",
              "  }\n",
              "}\n",
              "\n",
              "#sk-container-id-4 {\n",
              "  color: var(--sklearn-color-text);\n",
              "}\n",
              "\n",
              "#sk-container-id-4 pre {\n",
              "  padding: 0;\n",
              "}\n",
              "\n",
              "#sk-container-id-4 input.sk-hidden--visually {\n",
              "  border: 0;\n",
              "  clip: rect(1px 1px 1px 1px);\n",
              "  clip: rect(1px, 1px, 1px, 1px);\n",
              "  height: 1px;\n",
              "  margin: -1px;\n",
              "  overflow: hidden;\n",
              "  padding: 0;\n",
              "  position: absolute;\n",
              "  width: 1px;\n",
              "}\n",
              "\n",
              "#sk-container-id-4 div.sk-dashed-wrapped {\n",
              "  border: 1px dashed var(--sklearn-color-line);\n",
              "  margin: 0 0.4em 0.5em 0.4em;\n",
              "  box-sizing: border-box;\n",
              "  padding-bottom: 0.4em;\n",
              "  background-color: var(--sklearn-color-background);\n",
              "}\n",
              "\n",
              "#sk-container-id-4 div.sk-container {\n",
              "  /* jupyter's `normalize.less` sets `[hidden] { display: none; }`\n",
              "     but bootstrap.min.css set `[hidden] { display: none !important; }`\n",
              "     so we also need the `!important` here to be able to override the\n",
              "     default hidden behavior on the sphinx rendered scikit-learn.org.\n",
              "     See: https://github.com/scikit-learn/scikit-learn/issues/21755 */\n",
              "  display: inline-block !important;\n",
              "  position: relative;\n",
              "}\n",
              "\n",
              "#sk-container-id-4 div.sk-text-repr-fallback {\n",
              "  display: none;\n",
              "}\n",
              "\n",
              "div.sk-parallel-item,\n",
              "div.sk-serial,\n",
              "div.sk-item {\n",
              "  /* draw centered vertical line to link estimators */\n",
              "  background-image: linear-gradient(var(--sklearn-color-text-on-default-background), var(--sklearn-color-text-on-default-background));\n",
              "  background-size: 2px 100%;\n",
              "  background-repeat: no-repeat;\n",
              "  background-position: center center;\n",
              "}\n",
              "\n",
              "/* Parallel-specific style estimator block */\n",
              "\n",
              "#sk-container-id-4 div.sk-parallel-item::after {\n",
              "  content: \"\";\n",
              "  width: 100%;\n",
              "  border-bottom: 2px solid var(--sklearn-color-text-on-default-background);\n",
              "  flex-grow: 1;\n",
              "}\n",
              "\n",
              "#sk-container-id-4 div.sk-parallel {\n",
              "  display: flex;\n",
              "  align-items: stretch;\n",
              "  justify-content: center;\n",
              "  background-color: var(--sklearn-color-background);\n",
              "  position: relative;\n",
              "}\n",
              "\n",
              "#sk-container-id-4 div.sk-parallel-item {\n",
              "  display: flex;\n",
              "  flex-direction: column;\n",
              "}\n",
              "\n",
              "#sk-container-id-4 div.sk-parallel-item:first-child::after {\n",
              "  align-self: flex-end;\n",
              "  width: 50%;\n",
              "}\n",
              "\n",
              "#sk-container-id-4 div.sk-parallel-item:last-child::after {\n",
              "  align-self: flex-start;\n",
              "  width: 50%;\n",
              "}\n",
              "\n",
              "#sk-container-id-4 div.sk-parallel-item:only-child::after {\n",
              "  width: 0;\n",
              "}\n",
              "\n",
              "/* Serial-specific style estimator block */\n",
              "\n",
              "#sk-container-id-4 div.sk-serial {\n",
              "  display: flex;\n",
              "  flex-direction: column;\n",
              "  align-items: center;\n",
              "  background-color: var(--sklearn-color-background);\n",
              "  padding-right: 1em;\n",
              "  padding-left: 1em;\n",
              "}\n",
              "\n",
              "\n",
              "/* Toggleable style: style used for estimator/Pipeline/ColumnTransformer box that is\n",
              "clickable and can be expanded/collapsed.\n",
              "- Pipeline and ColumnTransformer use this feature and define the default style\n",
              "- Estimators will overwrite some part of the style using the `sk-estimator` class\n",
              "*/\n",
              "\n",
              "/* Pipeline and ColumnTransformer style (default) */\n",
              "\n",
              "#sk-container-id-4 div.sk-toggleable {\n",
              "  /* Default theme specific background. It is overwritten whether we have a\n",
              "  specific estimator or a Pipeline/ColumnTransformer */\n",
              "  background-color: var(--sklearn-color-background);\n",
              "}\n",
              "\n",
              "/* Toggleable label */\n",
              "#sk-container-id-4 label.sk-toggleable__label {\n",
              "  cursor: pointer;\n",
              "  display: block;\n",
              "  width: 100%;\n",
              "  margin-bottom: 0;\n",
              "  padding: 0.5em;\n",
              "  box-sizing: border-box;\n",
              "  text-align: center;\n",
              "}\n",
              "\n",
              "#sk-container-id-4 label.sk-toggleable__label-arrow:before {\n",
              "  /* Arrow on the left of the label */\n",
              "  content: \"▸\";\n",
              "  float: left;\n",
              "  margin-right: 0.25em;\n",
              "  color: var(--sklearn-color-icon);\n",
              "}\n",
              "\n",
              "#sk-container-id-4 label.sk-toggleable__label-arrow:hover:before {\n",
              "  color: var(--sklearn-color-text);\n",
              "}\n",
              "\n",
              "/* Toggleable content - dropdown */\n",
              "\n",
              "#sk-container-id-4 div.sk-toggleable__content {\n",
              "  max-height: 0;\n",
              "  max-width: 0;\n",
              "  overflow: hidden;\n",
              "  text-align: left;\n",
              "  /* unfitted */\n",
              "  background-color: var(--sklearn-color-unfitted-level-0);\n",
              "}\n",
              "\n",
              "#sk-container-id-4 div.sk-toggleable__content.fitted {\n",
              "  /* fitted */\n",
              "  background-color: var(--sklearn-color-fitted-level-0);\n",
              "}\n",
              "\n",
              "#sk-container-id-4 div.sk-toggleable__content pre {\n",
              "  margin: 0.2em;\n",
              "  border-radius: 0.25em;\n",
              "  color: var(--sklearn-color-text);\n",
              "  /* unfitted */\n",
              "  background-color: var(--sklearn-color-unfitted-level-0);\n",
              "}\n",
              "\n",
              "#sk-container-id-4 div.sk-toggleable__content.fitted pre {\n",
              "  /* unfitted */\n",
              "  background-color: var(--sklearn-color-fitted-level-0);\n",
              "}\n",
              "\n",
              "#sk-container-id-4 input.sk-toggleable__control:checked~div.sk-toggleable__content {\n",
              "  /* Expand drop-down */\n",
              "  max-height: 200px;\n",
              "  max-width: 100%;\n",
              "  overflow: auto;\n",
              "}\n",
              "\n",
              "#sk-container-id-4 input.sk-toggleable__control:checked~label.sk-toggleable__label-arrow:before {\n",
              "  content: \"▾\";\n",
              "}\n",
              "\n",
              "/* Pipeline/ColumnTransformer-specific style */\n",
              "\n",
              "#sk-container-id-4 div.sk-label input.sk-toggleable__control:checked~label.sk-toggleable__label {\n",
              "  color: var(--sklearn-color-text);\n",
              "  background-color: var(--sklearn-color-unfitted-level-2);\n",
              "}\n",
              "\n",
              "#sk-container-id-4 div.sk-label.fitted input.sk-toggleable__control:checked~label.sk-toggleable__label {\n",
              "  background-color: var(--sklearn-color-fitted-level-2);\n",
              "}\n",
              "\n",
              "/* Estimator-specific style */\n",
              "\n",
              "/* Colorize estimator box */\n",
              "#sk-container-id-4 div.sk-estimator input.sk-toggleable__control:checked~label.sk-toggleable__label {\n",
              "  /* unfitted */\n",
              "  background-color: var(--sklearn-color-unfitted-level-2);\n",
              "}\n",
              "\n",
              "#sk-container-id-4 div.sk-estimator.fitted input.sk-toggleable__control:checked~label.sk-toggleable__label {\n",
              "  /* fitted */\n",
              "  background-color: var(--sklearn-color-fitted-level-2);\n",
              "}\n",
              "\n",
              "#sk-container-id-4 div.sk-label label.sk-toggleable__label,\n",
              "#sk-container-id-4 div.sk-label label {\n",
              "  /* The background is the default theme color */\n",
              "  color: var(--sklearn-color-text-on-default-background);\n",
              "}\n",
              "\n",
              "/* On hover, darken the color of the background */\n",
              "#sk-container-id-4 div.sk-label:hover label.sk-toggleable__label {\n",
              "  color: var(--sklearn-color-text);\n",
              "  background-color: var(--sklearn-color-unfitted-level-2);\n",
              "}\n",
              "\n",
              "/* Label box, darken color on hover, fitted */\n",
              "#sk-container-id-4 div.sk-label.fitted:hover label.sk-toggleable__label.fitted {\n",
              "  color: var(--sklearn-color-text);\n",
              "  background-color: var(--sklearn-color-fitted-level-2);\n",
              "}\n",
              "\n",
              "/* Estimator label */\n",
              "\n",
              "#sk-container-id-4 div.sk-label label {\n",
              "  font-family: monospace;\n",
              "  font-weight: bold;\n",
              "  display: inline-block;\n",
              "  line-height: 1.2em;\n",
              "}\n",
              "\n",
              "#sk-container-id-4 div.sk-label-container {\n",
              "  text-align: center;\n",
              "}\n",
              "\n",
              "/* Estimator-specific */\n",
              "#sk-container-id-4 div.sk-estimator {\n",
              "  font-family: monospace;\n",
              "  border: 1px dotted var(--sklearn-color-border-box);\n",
              "  border-radius: 0.25em;\n",
              "  box-sizing: border-box;\n",
              "  margin-bottom: 0.5em;\n",
              "  /* unfitted */\n",
              "  background-color: var(--sklearn-color-unfitted-level-0);\n",
              "}\n",
              "\n",
              "#sk-container-id-4 div.sk-estimator.fitted {\n",
              "  /* fitted */\n",
              "  background-color: var(--sklearn-color-fitted-level-0);\n",
              "}\n",
              "\n",
              "/* on hover */\n",
              "#sk-container-id-4 div.sk-estimator:hover {\n",
              "  /* unfitted */\n",
              "  background-color: var(--sklearn-color-unfitted-level-2);\n",
              "}\n",
              "\n",
              "#sk-container-id-4 div.sk-estimator.fitted:hover {\n",
              "  /* fitted */\n",
              "  background-color: var(--sklearn-color-fitted-level-2);\n",
              "}\n",
              "\n",
              "/* Specification for estimator info (e.g. \"i\" and \"?\") */\n",
              "\n",
              "/* Common style for \"i\" and \"?\" */\n",
              "\n",
              ".sk-estimator-doc-link,\n",
              "a:link.sk-estimator-doc-link,\n",
              "a:visited.sk-estimator-doc-link {\n",
              "  float: right;\n",
              "  font-size: smaller;\n",
              "  line-height: 1em;\n",
              "  font-family: monospace;\n",
              "  background-color: var(--sklearn-color-background);\n",
              "  border-radius: 1em;\n",
              "  height: 1em;\n",
              "  width: 1em;\n",
              "  text-decoration: none !important;\n",
              "  margin-left: 1ex;\n",
              "  /* unfitted */\n",
              "  border: var(--sklearn-color-unfitted-level-1) 1pt solid;\n",
              "  color: var(--sklearn-color-unfitted-level-1);\n",
              "}\n",
              "\n",
              ".sk-estimator-doc-link.fitted,\n",
              "a:link.sk-estimator-doc-link.fitted,\n",
              "a:visited.sk-estimator-doc-link.fitted {\n",
              "  /* fitted */\n",
              "  border: var(--sklearn-color-fitted-level-1) 1pt solid;\n",
              "  color: var(--sklearn-color-fitted-level-1);\n",
              "}\n",
              "\n",
              "/* On hover */\n",
              "div.sk-estimator:hover .sk-estimator-doc-link:hover,\n",
              ".sk-estimator-doc-link:hover,\n",
              "div.sk-label-container:hover .sk-estimator-doc-link:hover,\n",
              ".sk-estimator-doc-link:hover {\n",
              "  /* unfitted */\n",
              "  background-color: var(--sklearn-color-unfitted-level-3);\n",
              "  color: var(--sklearn-color-background);\n",
              "  text-decoration: none;\n",
              "}\n",
              "\n",
              "div.sk-estimator.fitted:hover .sk-estimator-doc-link.fitted:hover,\n",
              ".sk-estimator-doc-link.fitted:hover,\n",
              "div.sk-label-container:hover .sk-estimator-doc-link.fitted:hover,\n",
              ".sk-estimator-doc-link.fitted:hover {\n",
              "  /* fitted */\n",
              "  background-color: var(--sklearn-color-fitted-level-3);\n",
              "  color: var(--sklearn-color-background);\n",
              "  text-decoration: none;\n",
              "}\n",
              "\n",
              "/* Span, style for the box shown on hovering the info icon */\n",
              ".sk-estimator-doc-link span {\n",
              "  display: none;\n",
              "  z-index: 9999;\n",
              "  position: relative;\n",
              "  font-weight: normal;\n",
              "  right: .2ex;\n",
              "  padding: .5ex;\n",
              "  margin: .5ex;\n",
              "  width: min-content;\n",
              "  min-width: 20ex;\n",
              "  max-width: 50ex;\n",
              "  color: var(--sklearn-color-text);\n",
              "  box-shadow: 2pt 2pt 4pt #999;\n",
              "  /* unfitted */\n",
              "  background: var(--sklearn-color-unfitted-level-0);\n",
              "  border: .5pt solid var(--sklearn-color-unfitted-level-3);\n",
              "}\n",
              "\n",
              ".sk-estimator-doc-link.fitted span {\n",
              "  /* fitted */\n",
              "  background: var(--sklearn-color-fitted-level-0);\n",
              "  border: var(--sklearn-color-fitted-level-3);\n",
              "}\n",
              "\n",
              ".sk-estimator-doc-link:hover span {\n",
              "  display: block;\n",
              "}\n",
              "\n",
              "/* \"?\"-specific style due to the `<a>` HTML tag */\n",
              "\n",
              "#sk-container-id-4 a.estimator_doc_link {\n",
              "  float: right;\n",
              "  font-size: 1rem;\n",
              "  line-height: 1em;\n",
              "  font-family: monospace;\n",
              "  background-color: var(--sklearn-color-background);\n",
              "  border-radius: 1rem;\n",
              "  height: 1rem;\n",
              "  width: 1rem;\n",
              "  text-decoration: none;\n",
              "  /* unfitted */\n",
              "  color: var(--sklearn-color-unfitted-level-1);\n",
              "  border: var(--sklearn-color-unfitted-level-1) 1pt solid;\n",
              "}\n",
              "\n",
              "#sk-container-id-4 a.estimator_doc_link.fitted {\n",
              "  /* fitted */\n",
              "  border: var(--sklearn-color-fitted-level-1) 1pt solid;\n",
              "  color: var(--sklearn-color-fitted-level-1);\n",
              "}\n",
              "\n",
              "/* On hover */\n",
              "#sk-container-id-4 a.estimator_doc_link:hover {\n",
              "  /* unfitted */\n",
              "  background-color: var(--sklearn-color-unfitted-level-3);\n",
              "  color: var(--sklearn-color-background);\n",
              "  text-decoration: none;\n",
              "}\n",
              "\n",
              "#sk-container-id-4 a.estimator_doc_link.fitted:hover {\n",
              "  /* fitted */\n",
              "  background-color: var(--sklearn-color-fitted-level-3);\n",
              "}\n",
              "</style><div id=\"sk-container-id-4\" class=\"sk-top-container\"><div class=\"sk-text-repr-fallback\"><pre>RandomForestClassifier(n_estimators=500, random_state=237)</pre><b>In a Jupyter environment, please rerun this cell to show the HTML representation or trust the notebook. <br />On GitHub, the HTML representation is unable to render, please try loading this page with nbviewer.org.</b></div><div class=\"sk-container\" hidden><div class=\"sk-item\"><div class=\"sk-estimator fitted sk-toggleable\"><input class=\"sk-toggleable__control sk-hidden--visually\" id=\"sk-estimator-id-4\" type=\"checkbox\" checked><label for=\"sk-estimator-id-4\" class=\"sk-toggleable__label fitted sk-toggleable__label-arrow fitted\">&nbsp;&nbsp;RandomForestClassifier<a class=\"sk-estimator-doc-link fitted\" rel=\"noreferrer\" target=\"_blank\" href=\"https://scikit-learn.org/1.5/modules/generated/sklearn.ensemble.RandomForestClassifier.html\">?<span>Documentation for RandomForestClassifier</span></a><span class=\"sk-estimator-doc-link fitted\">i<span>Fitted</span></span></label><div class=\"sk-toggleable__content fitted\"><pre>RandomForestClassifier(n_estimators=500, random_state=237)</pre></div> </div></div></div></div>"
            ]
          },
          "metadata": {},
          "execution_count": 49
        }
      ]
    },
    {
      "cell_type": "code",
      "source": [
        "# Make predictions on the test data\n",
        "y_pred = clf.predict(X_test)"
      ],
      "metadata": {
        "id": "VMxjDfvMLExI"
      },
      "execution_count": 50,
      "outputs": []
    },
    {
      "cell_type": "code",
      "source": [
        "# Calculate the accuracy (500 trees)\n",
        "random_accuracy_500 = accuracy_score(y_test, y_pred)\n",
        "print(\"Accuracy:\", random_accuracy_500)"
      ],
      "metadata": {
        "id": "y0AYMKU3LG0W",
        "colab": {
          "base_uri": "https://localhost:8080/"
        },
        "outputId": "d9140425-ca43-4814-97ea-f01da9137a15"
      },
      "execution_count": 51,
      "outputs": [
        {
          "output_type": "stream",
          "name": "stdout",
          "text": [
            "Accuracy: 0.8049412417877302\n"
          ]
        }
      ]
    },
    {
      "cell_type": "markdown",
      "source": [
        "### (d) Comparision of accuracy scores"
      ],
      "metadata": {
        "id": "xl7S_snOLImE"
      }
    },
    {
      "cell_type": "code",
      "source": [
        "print('Accuracy comparison: ')\n",
        "print('KNN Classification: ', knn_accuracy)\n",
        "print('Decision Tree: ', decision_accuracy)\n",
        "print('Random Forrest (100 trees): ', random_accuracy_100)\n",
        "print('Random Forrest (500 trees): ', random_accuracy_500)"
      ],
      "metadata": {
        "id": "Bp96m2glLLu2",
        "colab": {
          "base_uri": "https://localhost:8080/"
        },
        "outputId": "b68a0de5-4aad-456e-abad-4a7683dec082"
      },
      "execution_count": 52,
      "outputs": [
        {
          "output_type": "stream",
          "name": "stdout",
          "text": [
            "Accuracy comparison: \n",
            "KNN Classification:  0.8073470898491718\n",
            "Decision Tree:  0.7626538354770056\n",
            "Random Forrest (100 trees):  0.802720458961784\n",
            "Random Forrest (500 trees):  0.8049412417877302\n"
          ]
        }
      ]
    },
    {
      "cell_type": "markdown",
      "source": [
        "The KNN classifier had the best accuracy on the test set with an accuracy of 80.73%. Both of the Random Forrest claffication models that were performed (100 trees and 500 trees) had accuracy scores that were close to the KNN classifier with accuracy scores of 80.02% and 80.55%. The Decision Tree classification model performed the worst compared to the other models with an accuracy score of 76.32%. Overall, all the models had a fairly good accuray on the test set."
      ],
      "metadata": {
        "id": "kzz5VnuFLNrT"
      }
    }
  ]
}